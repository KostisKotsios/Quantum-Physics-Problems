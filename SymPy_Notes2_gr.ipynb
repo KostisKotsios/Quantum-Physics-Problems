{
 "cells": [
  {
   "cell_type": "markdown",
   "metadata": {},
   "source": [
    "**ΤΜΗΜΑ ΦΥΣΙΚΗΣ - ΑΡΙΣΤΟΤΕΛΕΙΟ ΠΑΝΕΠΙΣΤΗΜΙΟ ΘΕΣΣΑΛΟΝΙΚΗΣ**<br>\n",
    "**ΜΑΘΗΜΑ: Προβλήματα Κβαντικής Φυσικής [ΓΘΕ204]**<br>\n",
    "**ΑΚΑΔΗΜΑΪΚΟ ΕΤΟΣ: 2024-2025**\n",
    "\n",
    "***Σημειωματάριο SymPy 2:***<br>\n",
    "-Γραμμική άλγεβρα με τη `SymPy`<br>\n",
    "\n",
    "**Σημειώσεις: Ιωάννης Στεργάκης (μεταπτυχιακός φοιτητής του Μεταπτυχιακού Προγράμματος Υπολογιστικής Φυσικής ΑΠΘ)**"
   ]
  },
  {
   "cell_type": "code",
   "execution_count": 1,
   "metadata": {},
   "outputs": [],
   "source": [
    "# Εισαγωγή της βιβλιοθήκης SymPy (μην το ξεχνάτε ποτέ αυτό !!!)\n",
    "import sympy as smp"
   ]
  },
  {
   "cell_type": "markdown",
   "metadata": {},
   "source": [
    "# **Εφαρμογή 3: Γραμμική Άλγεβρα**\n",
    "\n",
    "Στη `SymPy` μπορούμε να ορίσουμε και να διαχειριστούμε πίνακες, καθώς και να εκτελέσουμε όλες τις γνωστές πράξεις της γραμμικής άλγεβρας μεταξύ πινάκων"
   ]
  },
  {
   "cell_type": "markdown",
   "metadata": {},
   "source": [
    "## A. Ορισμός και εμφάνιση πινάκων"
   ]
  },
  {
   "cell_type": "code",
   "execution_count": 2,
   "metadata": {},
   "outputs": [],
   "source": [
    "# Ορισμός των στοιχείων των πινάκων ως σύμβολα\n",
    "a11,a12,a21,a22 = smp.symbols(\"a_{11},a_{12},a_{21},a_{22}\") # στοιχεία a_ij ενός τετραγωνικού 2x2 πίνακα A\n",
    "b1,b2 = smp.symbols(\"b_{1},b_{2}\") # στοιχεία b_ij ενός 2x1 πίνακα-στήλη B\n",
    "c11,c12,c13,c21,c22,c23,c31,c32,c33 = smp.symbols(\"c_{11},c_{12},c_{13},c_{21},c_{22},c_{23},c_{31},c_{32},c_{33}\") # στοιχεία c_ij ενός τετραγωνικού 3x3 πίνακα C"
   ]
  },
  {
   "cell_type": "code",
   "execution_count": 3,
   "metadata": {},
   "outputs": [
    {
     "data": {
      "text/latex": [
       "$\\displaystyle \\left[\\begin{matrix}a_{11} & a_{12}\\\\a_{21} & a_{22}\\end{matrix}\\right]$"
      ],
      "text/plain": [
       "Matrix([\n",
       "[a_{11}, a_{12}],\n",
       "[a_{21}, a_{22}]])"
      ]
     },
     "metadata": {},
     "output_type": "display_data"
    },
    {
     "data": {
      "text/latex": [
       "$\\displaystyle \\left[\\begin{matrix}b_{1}\\\\b_{2}\\end{matrix}\\right]$"
      ],
      "text/plain": [
       "Matrix([\n",
       "[b_{1}],\n",
       "[b_{2}]])"
      ]
     },
     "metadata": {},
     "output_type": "display_data"
    },
    {
     "data": {
      "text/latex": [
       "$\\displaystyle \\left[\\begin{matrix}c_{11} & c_{12} & c_{13}\\\\c_{21} & c_{22} & c_{23}\\\\c_{31} & c_{32} & c_{33}\\end{matrix}\\right]$"
      ],
      "text/plain": [
       "Matrix([\n",
       "[c_{11}, c_{12}, c_{13}],\n",
       "[c_{21}, c_{22}, c_{23}],\n",
       "[c_{31}, c_{32}, c_{33}]])"
      ]
     },
     "metadata": {},
     "output_type": "display_data"
    },
    {
     "data": {
      "text/latex": [
       "$\\displaystyle \\left[\\begin{matrix}x y & \\left(x + y\\right)^{2}\\\\\\frac{x}{y} & 2 x + 3 y\\end{matrix}\\right]$"
      ],
      "text/plain": [
       "Matrix([\n",
       "[x*y, (x + y)**2],\n",
       "[x/y,  2*x + 3*y]])"
      ]
     },
     "metadata": {},
     "output_type": "display_data"
    },
    {
     "data": {
      "text/latex": [
       "$\\displaystyle \\left[\\begin{matrix}2 & 5\\\\-1 & 4\\end{matrix}\\right]$"
      ],
      "text/plain": [
       "Matrix([\n",
       "[ 2, 5],\n",
       "[-1, 4]])"
      ]
     },
     "metadata": {},
     "output_type": "display_data"
    }
   ],
   "source": [
    "# Ορισμός και εμφάνιση των πινάκων\n",
    "\n",
    "# 2x2 τετραγωνικός πίνακας Α\n",
    "A = smp.Matrix([[a11,a12],[a21,a22]])\n",
    "display(A)\n",
    "\n",
    "# 2x1 πίνακας-στήλη Β\n",
    "B = smp.Matrix([[b1],[b2]])\n",
    "display(B)\n",
    "\n",
    "# 3x3 τετραγωνικός πίνακας C\n",
    "C = smp.Matrix([[c11,c12,c13],[c21,c22,c23],[c31,c32,c33]])\n",
    "display(C)\n",
    "\n",
    "# 2x2 τετραγωνικός πίνακας D\n",
    "x,y = smp.symbols(\"x y\")\n",
    "D = smp.Matrix([[x*y,(x+y)**2],[x/y,2*x+3*y]])\n",
    "display(D)\n",
    "\n",
    "# 2x2 τετραγωνικός πίνακας F\n",
    "F = smp.Matrix([[2,5],[-1,4]])\n",
    "display(F)"
   ]
  },
  {
   "cell_type": "markdown",
   "metadata": {},
   "source": [
    "## Β. Πράξεις μεταξύ πινάκων"
   ]
  },
  {
   "cell_type": "markdown",
   "metadata": {},
   "source": [
    "Μπορεί κανείς να βρει το άθροισμα ή τη διαφορά μεταξύ πινάκων με τις ίδιες διαστάσεις "
   ]
  },
  {
   "cell_type": "code",
   "execution_count": 4,
   "metadata": {},
   "outputs": [
    {
     "data": {
      "text/latex": [
       "$\\displaystyle \\left[\\begin{matrix}a_{11} + x y & a_{12} + \\left(x + y\\right)^{2}\\\\a_{21} + \\frac{x}{y} & a_{22} + 2 x + 3 y\\end{matrix}\\right]$"
      ],
      "text/plain": [
       "Matrix([\n",
       "[a_{11} + x*y, a_{12} + (x + y)**2],\n",
       "[a_{21} + x/y,  a_{22} + 2*x + 3*y]])"
      ]
     },
     "metadata": {},
     "output_type": "display_data"
    },
    {
     "data": {
      "text/latex": [
       "$\\displaystyle \\left[\\begin{matrix}a_{11} - x y & a_{12} - \\left(x + y\\right)^{2}\\\\a_{21} - \\frac{x}{y} & a_{22} - 2 x - 3 y\\end{matrix}\\right]$"
      ],
      "text/plain": [
       "Matrix([\n",
       "[a_{11} - x*y, a_{12} - (x + y)**2],\n",
       "[a_{21} - x/y,  a_{22} - 2*x - 3*y]])"
      ]
     },
     "metadata": {},
     "output_type": "display_data"
    }
   ],
   "source": [
    "# Άθροισμα δύο πινάκων\n",
    "display(A+D)\n",
    "\n",
    "# Διαφορά δύο πινάκων\n",
    "display(A-D)"
   ]
  },
  {
   "cell_type": "markdown",
   "metadata": {},
   "source": [
    "Μπορούμε, επίσης, να εκτελέσουμε πολλαπλασιασμό πινάκων σύμφωνα με τους κανόνες της γραμμικής άλγεβρας. Δηλαδή, ο αριθμός των στηλών του πίνακα στα αριστερά του γινομένου πρέπει να είναι ίσος με τον αριθμό των γραμμών του πίνακα στα δεξιά του γινομένου:"
   ]
  },
  {
   "cell_type": "code",
   "execution_count": 5,
   "metadata": {},
   "outputs": [
    {
     "data": {
      "text/latex": [
       "$\\displaystyle \\left[\\begin{matrix}2 λ & 5 λ\\\\- λ & 4 λ\\end{matrix}\\right]$"
      ],
      "text/plain": [
       "Matrix([\n",
       "[2*λ, 5*λ],\n",
       "[ -λ, 4*λ]])"
      ]
     },
     "metadata": {},
     "output_type": "display_data"
    },
    {
     "data": {
      "text/latex": [
       "$\\displaystyle \\left[\\begin{matrix}a_{11} b_{1} + a_{12} b_{2}\\\\a_{21} b_{1} + a_{22} b_{2}\\end{matrix}\\right]$"
      ],
      "text/plain": [
       "Matrix([\n",
       "[a_{11}*b_{1} + a_{12}*b_{2}],\n",
       "[a_{21}*b_{1} + a_{22}*b_{2}]])"
      ]
     },
     "metadata": {},
     "output_type": "display_data"
    },
    {
     "data": {
      "text/latex": [
       "$\\displaystyle \\left[\\begin{matrix}a_{11} x y + \\frac{a_{12} x}{y} & a_{11} \\left(x + y\\right)^{2} + a_{12} \\left(2 x + 3 y\\right)\\\\a_{21} x y + \\frac{a_{22} x}{y} & a_{21} \\left(x + y\\right)^{2} + a_{22} \\left(2 x + 3 y\\right)\\end{matrix}\\right]$"
      ],
      "text/plain": [
       "Matrix([\n",
       "[a_{11}*x*y + a_{12}*x/y, a_{11}*(x + y)**2 + a_{12}*(2*x + 3*y)],\n",
       "[a_{21}*x*y + a_{22}*x/y, a_{21}*(x + y)**2 + a_{22}*(2*x + 3*y)]])"
      ]
     },
     "metadata": {},
     "output_type": "display_data"
    }
   ],
   "source": [
    "# Πολλαπλασιασμός ενός πίνακα με μια σταθερά\n",
    "l = smp.symbols(\"λ\")\n",
    "display(l*F)\n",
    "\n",
    "# Γινόμενο των πινάκων A*B\n",
    "display(A*B)\n",
    "\n",
    "# Γινόμενο των πινάκων A*D\n",
    "display(A*D)"
   ]
  },
  {
   "cell_type": "markdown",
   "metadata": {},
   "source": [
    "Φυσικά μπορούμε να υπολογίσουμε και τις δυνάμεις ενός πίνακα:"
   ]
  },
  {
   "cell_type": "code",
   "execution_count": 6,
   "metadata": {},
   "outputs": [
    {
     "data": {
      "text/latex": [
       "$\\displaystyle \\left[\\begin{matrix}a_{11}^{2} + a_{12} a_{21} & a_{11} a_{12} + a_{12} a_{22}\\\\a_{11} a_{21} + a_{21} a_{22} & a_{12} a_{21} + a_{22}^{2}\\end{matrix}\\right]$"
      ],
      "text/plain": [
       "Matrix([\n",
       "[    a_{11}**2 + a_{12}*a_{21}, a_{11}*a_{12} + a_{12}*a_{22}],\n",
       "[a_{11}*a_{21} + a_{21}*a_{22},     a_{12}*a_{21} + a_{22}**2]])"
      ]
     },
     "metadata": {},
     "output_type": "display_data"
    },
    {
     "data": {
      "text/latex": [
       "$\\displaystyle \\left[\\begin{matrix}\\frac{x^{3} + x^{2} y^{3} + 2 x^{2} y + x y^{2}}{y} & x^{3} y + 2 x^{3} + 2 x^{2} y^{2} + 7 x^{2} y + x y^{3} + 8 x y^{2} + 3 y^{3}\\\\\\frac{x^{2} y + 2 x^{2} + 3 x y}{y} & \\frac{x^{3} + 6 x^{2} y + 13 x y^{2} + 9 y^{3}}{y}\\end{matrix}\\right]$"
      ],
      "text/plain": [
       "Matrix([\n",
       "[(x**3 + x**2*y**3 + 2*x**2*y + x*y**2)/y, x**3*y + 2*x**3 + 2*x**2*y**2 + 7*x**2*y + x*y**3 + 8*x*y**2 + 3*y**3],\n",
       "[             (x**2*y + 2*x**2 + 3*x*y)/y,                              (x**3 + 6*x**2*y + 13*x*y**2 + 9*y**3)/y]])"
      ]
     },
     "metadata": {},
     "output_type": "display_data"
    },
    {
     "data": {
      "text/latex": [
       "$\\displaystyle \\left[\\begin{matrix}-1 & 30\\\\-6 & 11\\end{matrix}\\right]$"
      ],
      "text/plain": [
       "Matrix([\n",
       "[-1, 30],\n",
       "[-6, 11]])"
      ]
     },
     "metadata": {},
     "output_type": "display_data"
    },
    {
     "data": {
      "text/latex": [
       "$\\displaystyle \\left[\\begin{matrix}a_{11}^{3} + 2 a_{11} a_{12} a_{21} + a_{12} a_{21} a_{22} & a_{11}^{2} a_{12} + a_{11} a_{12} a_{22} + a_{12}^{2} a_{21} + a_{12} a_{22}^{2}\\\\a_{11}^{2} a_{21} + a_{11} a_{21} a_{22} + a_{12} a_{21}^{2} + a_{21} a_{22}^{2} & a_{11} a_{12} a_{21} + 2 a_{12} a_{21} a_{22} + a_{22}^{3}\\end{matrix}\\right]$"
      ],
      "text/plain": [
       "Matrix([\n",
       "[                    a_{11}**3 + 2*a_{11}*a_{12}*a_{21} + a_{12}*a_{21}*a_{22}, a_{11}**2*a_{12} + a_{11}*a_{12}*a_{22} + a_{12}**2*a_{21} + a_{12}*a_{22}**2],\n",
       "[a_{11}**2*a_{21} + a_{11}*a_{21}*a_{22} + a_{12}*a_{21}**2 + a_{21}*a_{22}**2,                     a_{11}*a_{12}*a_{21} + 2*a_{12}*a_{21}*a_{22} + a_{22}**3]])"
      ]
     },
     "metadata": {},
     "output_type": "display_data"
    }
   ],
   "source": [
    "# A^2 = A*A\n",
    "display(A**2)\n",
    "\n",
    "# D^2 = D*D\n",
    "display(D**2)\n",
    "\n",
    "# F^2 = F*F\n",
    "display(F**2)\n",
    "\n",
    "# A^3 = A*A*A\n",
    "display(A**3)"
   ]
  },
  {
   "cell_type": "markdown",
   "metadata": {},
   "source": [
    "## Γ. Ορίζουσα, ανάστροφος και αντίστροφος ενός πίνακα"
   ]
  },
  {
   "cell_type": "markdown",
   "metadata": {},
   "source": [
    "### **Ορίζουσα πίνακα**\n",
    "\n",
    "Χρησιμοποιώντας την εντολή `Determinant()`, μπορούμε να εμφανίσουμε την ορίζουσα ενός πίνακα, ενώ χρησιμοποιώντας την εντολή `.det()` μπορούμε να υπολογίσουμε την ορίζουσα ενός πίνακα, όπως φαίνεται παρακάτω:"
   ]
  },
  {
   "cell_type": "code",
   "execution_count": 6,
   "metadata": {},
   "outputs": [
    {
     "data": {
      "text/latex": [
       "$\\displaystyle \\left|{\\begin{matrix}a_{11} & a_{12}\\\\a_{21} & a_{22}\\end{matrix}}\\right|$"
      ],
      "text/plain": [
       "Determinant(Matrix([\n",
       "[a_{11}, a_{12}],\n",
       "[a_{21}, a_{22}]]))"
      ]
     },
     "metadata": {},
     "output_type": "display_data"
    },
    {
     "data": {
      "text/latex": [
       "$\\displaystyle a_{11} a_{22} - a_{12} a_{21}$"
      ],
      "text/plain": [
       "a_{11}*a_{22} - a_{12}*a_{21}"
      ]
     },
     "metadata": {},
     "output_type": "display_data"
    }
   ],
   "source": [
    "# Ορίζουσα του πίνακα A\n",
    "display(smp.Determinant(A))\n",
    "display(A.det())"
   ]
  },
  {
   "cell_type": "code",
   "execution_count": null,
   "metadata": {},
   "outputs": [],
   "source": [
    "# Ορίζουσα του πίνακα B\n",
    "# display(smp.Determinant(B))\n",
    "# display(B.det())"
   ]
  },
  {
   "cell_type": "code",
   "execution_count": 7,
   "metadata": {},
   "outputs": [
    {
     "data": {
      "text/latex": [
       "$\\displaystyle \\left|{\\begin{matrix}c_{11} & c_{12} & c_{13}\\\\c_{21} & c_{22} & c_{23}\\\\c_{31} & c_{32} & c_{33}\\end{matrix}}\\right|$"
      ],
      "text/plain": [
       "Determinant(Matrix([\n",
       "[c_{11}, c_{12}, c_{13}],\n",
       "[c_{21}, c_{22}, c_{23}],\n",
       "[c_{31}, c_{32}, c_{33}]]))"
      ]
     },
     "metadata": {},
     "output_type": "display_data"
    },
    {
     "data": {
      "text/latex": [
       "$\\displaystyle c_{11} c_{22} c_{33} - c_{11} c_{23} c_{32} - c_{12} c_{21} c_{33} + c_{12} c_{23} c_{31} + c_{13} c_{21} c_{32} - c_{13} c_{22} c_{31}$"
      ],
      "text/plain": [
       "c_{11}*c_{22}*c_{33} - c_{11}*c_{23}*c_{32} - c_{12}*c_{21}*c_{33} + c_{12}*c_{23}*c_{31} + c_{13}*c_{21}*c_{32} - c_{13}*c_{22}*c_{31}"
      ]
     },
     "metadata": {},
     "output_type": "display_data"
    }
   ],
   "source": [
    "# Ορίζουσα του πίνακα C\n",
    "display(smp.Determinant(C))\n",
    "display(C.det())"
   ]
  },
  {
   "cell_type": "code",
   "execution_count": 8,
   "metadata": {},
   "outputs": [
    {
     "data": {
      "text/latex": [
       "$\\displaystyle \\left|{\\begin{matrix}x y & \\left(x + y\\right)^{2}\\\\\\frac{x}{y} & 2 x + 3 y\\end{matrix}}\\right|$"
      ],
      "text/plain": [
       "Determinant(Matrix([\n",
       "[x*y, (x + y)**2],\n",
       "[x/y,  2*x + 3*y]]))"
      ]
     },
     "metadata": {},
     "output_type": "display_data"
    },
    {
     "data": {
      "text/latex": [
       "$\\displaystyle \\frac{- x^{3} + 2 x^{2} y^{2} - 2 x^{2} y + 3 x y^{3} - x y^{2}}{y}$"
      ],
      "text/plain": [
       "(-x**3 + 2*x**2*y**2 - 2*x**2*y + 3*x*y**3 - x*y**2)/y"
      ]
     },
     "metadata": {},
     "output_type": "display_data"
    }
   ],
   "source": [
    "# Ορίζουσα του πίνακα D\n",
    "display(smp.Determinant(D))\n",
    "display(D.det())"
   ]
  },
  {
   "cell_type": "code",
   "execution_count": 9,
   "metadata": {},
   "outputs": [
    {
     "data": {
      "text/latex": [
       "$\\displaystyle \\left|{\\begin{matrix}2 & 5\\\\-1 & 4\\end{matrix}}\\right|$"
      ],
      "text/plain": [
       "Determinant(Matrix([\n",
       "[ 2, 5],\n",
       "[-1, 4]]))"
      ]
     },
     "metadata": {},
     "output_type": "display_data"
    },
    {
     "data": {
      "text/latex": [
       "$\\displaystyle 13$"
      ],
      "text/plain": [
       "13"
      ]
     },
     "metadata": {},
     "output_type": "display_data"
    }
   ],
   "source": [
    "# Ορίζουσα του πίνακα F\n",
    "display(smp.Determinant(F))\n",
    "display(F.det())"
   ]
  },
  {
   "cell_type": "markdown",
   "metadata": {},
   "source": [
    "Το ίδιο ακριβώς ισχύει και για τον ανάστροφο αλλά και τον αντίστροφο (εφόσον αυτός υπάρχει) ενός πίνακα:\n",
    "\n",
    "### **Ανάστροφος πίνακας**"
   ]
  },
  {
   "cell_type": "code",
   "execution_count": 10,
   "metadata": {},
   "outputs": [
    {
     "data": {
      "text/latex": [
       "$\\displaystyle \\left[\\begin{matrix}a_{11} & a_{12}\\\\a_{21} & a_{22}\\end{matrix}\\right]^{T}$"
      ],
      "text/plain": [
       "Matrix([\n",
       "[a_{11}, a_{12}],\n",
       "[a_{21}, a_{22}]]).T"
      ]
     },
     "metadata": {},
     "output_type": "display_data"
    },
    {
     "data": {
      "text/latex": [
       "$\\displaystyle \\left[\\begin{matrix}a_{11} & a_{21}\\\\a_{12} & a_{22}\\end{matrix}\\right]$"
      ],
      "text/plain": [
       "Matrix([\n",
       "[a_{11}, a_{21}],\n",
       "[a_{12}, a_{22}]])"
      ]
     },
     "metadata": {},
     "output_type": "display_data"
    }
   ],
   "source": [
    "# Ανάστροφος του πίνακα A\n",
    "display(smp.Transpose(A))\n",
    "display(A.transpose())"
   ]
  },
  {
   "cell_type": "code",
   "execution_count": 11,
   "metadata": {},
   "outputs": [
    {
     "data": {
      "text/latex": [
       "$\\displaystyle \\left[\\begin{matrix}b_{1}\\\\b_{2}\\end{matrix}\\right]^{T}$"
      ],
      "text/plain": [
       "Matrix([\n",
       "[b_{1}],\n",
       "[b_{2}]]).T"
      ]
     },
     "metadata": {},
     "output_type": "display_data"
    },
    {
     "data": {
      "text/latex": [
       "$\\displaystyle \\left[\\begin{matrix}b_{1} & b_{2}\\end{matrix}\\right]$"
      ],
      "text/plain": [
       "Matrix([[b_{1}, b_{2}]])"
      ]
     },
     "metadata": {},
     "output_type": "display_data"
    }
   ],
   "source": [
    "# Ανάστροφος του πίνακα B\n",
    "display(smp.Transpose(B))\n",
    "display(B.transpose())"
   ]
  },
  {
   "cell_type": "code",
   "execution_count": 12,
   "metadata": {},
   "outputs": [
    {
     "data": {
      "text/latex": [
       "$\\displaystyle \\left(\\left[\\begin{matrix}x y & \\left(x + y\\right)^{2}\\\\\\frac{x}{y} & 2 x + 3 y\\end{matrix}\\right]\\right)^{T}$"
      ],
      "text/plain": [
       "Matrix([\n",
       "[x*y, (x + y)**2],\n",
       "[x/y,  2*x + 3*y]]).T"
      ]
     },
     "metadata": {},
     "output_type": "display_data"
    },
    {
     "data": {
      "text/latex": [
       "$\\displaystyle \\left[\\begin{matrix}x y & \\frac{x}{y}\\\\\\left(x + y\\right)^{2} & 2 x + 3 y\\end{matrix}\\right]$"
      ],
      "text/plain": [
       "Matrix([\n",
       "[       x*y,       x/y],\n",
       "[(x + y)**2, 2*x + 3*y]])"
      ]
     },
     "metadata": {},
     "output_type": "display_data"
    }
   ],
   "source": [
    "# Ανάστροφος του πίνακα D\n",
    "display(smp.Transpose(D))\n",
    "display(D.transpose())"
   ]
  },
  {
   "cell_type": "code",
   "execution_count": 13,
   "metadata": {},
   "outputs": [
    {
     "data": {
      "text/latex": [
       "$\\displaystyle \\left[\\begin{matrix}2 & 5\\\\-1 & 4\\end{matrix}\\right]^{T}$"
      ],
      "text/plain": [
       "Matrix([\n",
       "[ 2, 5],\n",
       "[-1, 4]]).T"
      ]
     },
     "metadata": {},
     "output_type": "display_data"
    },
    {
     "data": {
      "text/latex": [
       "$\\displaystyle \\left[\\begin{matrix}2 & -1\\\\5 & 4\\end{matrix}\\right]$"
      ],
      "text/plain": [
       "Matrix([\n",
       "[2, -1],\n",
       "[5,  4]])"
      ]
     },
     "metadata": {},
     "output_type": "display_data"
    }
   ],
   "source": [
    "\n",
    "# Ανάστροφος του πίνακα F\n",
    "display(smp.Transpose(F))\n",
    "display(F.transpose())"
   ]
  },
  {
   "cell_type": "markdown",
   "metadata": {},
   "source": [
    "### **Αντίστροφος πίνακας**"
   ]
  },
  {
   "cell_type": "code",
   "execution_count": 14,
   "metadata": {},
   "outputs": [
    {
     "data": {
      "text/latex": [
       "$\\displaystyle \\left[\\begin{matrix}a_{11} & a_{12}\\\\a_{21} & a_{22}\\end{matrix}\\right]^{-1}$"
      ],
      "text/plain": [
       "Matrix([\n",
       "[a_{11}, a_{12}],\n",
       "[a_{21}, a_{22}]])**(-1)"
      ]
     },
     "metadata": {},
     "output_type": "display_data"
    },
    {
     "data": {
      "text/latex": [
       "$\\displaystyle \\left[\\begin{matrix}\\frac{a_{22}}{a_{11} a_{22} - a_{12} a_{21}} & - \\frac{a_{12}}{a_{11} a_{22} - a_{12} a_{21}}\\\\- \\frac{a_{21}}{a_{11} a_{22} - a_{12} a_{21}} & \\frac{a_{11}}{a_{11} a_{22} - a_{12} a_{21}}\\end{matrix}\\right]$"
      ],
      "text/plain": [
       "Matrix([\n",
       "[ a_{22}/(a_{11}*a_{22} - a_{12}*a_{21}), -a_{12}/(a_{11}*a_{22} - a_{12}*a_{21})],\n",
       "[-a_{21}/(a_{11}*a_{22} - a_{12}*a_{21}),  a_{11}/(a_{11}*a_{22} - a_{12}*a_{21})]])"
      ]
     },
     "metadata": {},
     "output_type": "display_data"
    },
    {
     "data": {
      "text/latex": [
       "$\\displaystyle \\left[\\begin{matrix}\\frac{a_{11} a_{22}}{a_{11} a_{22} - a_{12} a_{21}} - \\frac{a_{12} a_{21}}{a_{11} a_{22} - a_{12} a_{21}} & 0\\\\0 & \\frac{a_{11} a_{22}}{a_{11} a_{22} - a_{12} a_{21}} - \\frac{a_{12} a_{21}}{a_{11} a_{22} - a_{12} a_{21}}\\end{matrix}\\right]$"
      ],
      "text/plain": [
       "Matrix([\n",
       "[a_{11}*a_{22}/(a_{11}*a_{22} - a_{12}*a_{21}) - a_{12}*a_{21}/(a_{11}*a_{22} - a_{12}*a_{21}),                                                                                             0],\n",
       "[                                                                                            0, a_{11}*a_{22}/(a_{11}*a_{22} - a_{12}*a_{21}) - a_{12}*a_{21}/(a_{11}*a_{22} - a_{12}*a_{21})]])"
      ]
     },
     "metadata": {},
     "output_type": "display_data"
    },
    {
     "data": {
      "text/latex": [
       "$\\displaystyle \\left[\\begin{matrix}\\frac{a_{11} a_{22}}{a_{11} a_{22} - a_{12} a_{21}} - \\frac{a_{12} a_{21}}{a_{11} a_{22} - a_{12} a_{21}} & 0\\\\0 & \\frac{a_{11} a_{22}}{a_{11} a_{22} - a_{12} a_{21}} - \\frac{a_{12} a_{21}}{a_{11} a_{22} - a_{12} a_{21}}\\end{matrix}\\right]$"
      ],
      "text/plain": [
       "Matrix([\n",
       "[a_{11}*a_{22}/(a_{11}*a_{22} - a_{12}*a_{21}) - a_{12}*a_{21}/(a_{11}*a_{22} - a_{12}*a_{21}),                                                                                             0],\n",
       "[                                                                                            0, a_{11}*a_{22}/(a_{11}*a_{22} - a_{12}*a_{21}) - a_{12}*a_{21}/(a_{11}*a_{22} - a_{12}*a_{21})]])"
      ]
     },
     "metadata": {},
     "output_type": "display_data"
    }
   ],
   "source": [
    "# Αντίστροφος του πίνακα A\n",
    "display(smp.Inverse(A))\n",
    "display(A.inv())\n",
    "display(A*A.inv())\n",
    "display(A.inv()*A)"
   ]
  },
  {
   "cell_type": "code",
   "execution_count": 16,
   "metadata": {},
   "outputs": [
    {
     "data": {
      "text/latex": [
       "$\\displaystyle \\left(\\left[\\begin{matrix}x y & \\left(x + y\\right)^{2}\\\\\\frac{x}{y} & 2 x + 3 y\\end{matrix}\\right]\\right)^{-1}$"
      ],
      "text/plain": [
       "Matrix([\n",
       "[x*y, (x + y)**2],\n",
       "[x/y,  2*x + 3*y]])**(-1)"
      ]
     },
     "metadata": {},
     "output_type": "display_data"
    },
    {
     "data": {
      "text/latex": [
       "$\\displaystyle \\left[\\begin{matrix}\\frac{- 2 x y - 3 y^{2}}{x^{3} - 2 x^{2} y^{2} + 2 x^{2} y - 3 x y^{3} + x y^{2}} & \\frac{x^{2} y + 2 x y^{2} + y^{3}}{x^{3} - 2 x^{2} y^{2} + 2 x^{2} y - 3 x y^{3} + x y^{2}}\\\\\\frac{1}{x^{2} - 2 x y^{2} + 2 x y - 3 y^{3} + y^{2}} & - \\frac{y^{2}}{x^{2} - 2 x y^{2} + 2 x y - 3 y^{3} + y^{2}}\\end{matrix}\\right]$"
      ],
      "text/plain": [
       "Matrix([\n",
       "[(-2*x*y - 3*y**2)/(x**3 - 2*x**2*y**2 + 2*x**2*y - 3*x*y**3 + x*y**2), (x**2*y + 2*x*y**2 + y**3)/(x**3 - 2*x**2*y**2 + 2*x**2*y - 3*x*y**3 + x*y**2)],\n",
       "[                          1/(x**2 - 2*x*y**2 + 2*x*y - 3*y**3 + y**2),                                -y**2/(x**2 - 2*x*y**2 + 2*x*y - 3*y**3 + y**2)]])"
      ]
     },
     "metadata": {},
     "output_type": "display_data"
    },
    {
     "data": {
      "text/latex": [
       "$\\displaystyle \\left[\\begin{matrix}\\frac{x y \\left(- 2 x y - 3 y^{2}\\right)}{x^{3} - 2 x^{2} y^{2} + 2 x^{2} y - 3 x y^{3} + x y^{2}} + \\frac{\\left(x + y\\right)^{2}}{x^{2} - 2 x y^{2} + 2 x y - 3 y^{3} + y^{2}} & \\frac{x y \\left(x^{2} y + 2 x y^{2} + y^{3}\\right)}{x^{3} - 2 x^{2} y^{2} + 2 x^{2} y - 3 x y^{3} + x y^{2}} - \\frac{y^{2} \\left(x + y\\right)^{2}}{x^{2} - 2 x y^{2} + 2 x y - 3 y^{3} + y^{2}}\\\\\\frac{x \\left(- 2 x y - 3 y^{2}\\right)}{y \\left(x^{3} - 2 x^{2} y^{2} + 2 x^{2} y - 3 x y^{3} + x y^{2}\\right)} + \\frac{2 x + 3 y}{x^{2} - 2 x y^{2} + 2 x y - 3 y^{3} + y^{2}} & \\frac{x \\left(x^{2} y + 2 x y^{2} + y^{3}\\right)}{y \\left(x^{3} - 2 x^{2} y^{2} + 2 x^{2} y - 3 x y^{3} + x y^{2}\\right)} - \\frac{y^{2} \\left(2 x + 3 y\\right)}{x^{2} - 2 x y^{2} + 2 x y - 3 y^{3} + y^{2}}\\end{matrix}\\right]$"
      ],
      "text/plain": [
       "Matrix([\n",
       "[   x*y*(-2*x*y - 3*y**2)/(x**3 - 2*x**2*y**2 + 2*x**2*y - 3*x*y**3 + x*y**2) + (x + y)**2/(x**2 - 2*x*y**2 + 2*x*y - 3*y**3 + y**2),    x*y*(x**2*y + 2*x*y**2 + y**3)/(x**3 - 2*x**2*y**2 + 2*x**2*y - 3*x*y**3 + x*y**2) - y**2*(x + y)**2/(x**2 - 2*x*y**2 + 2*x*y - 3*y**3 + y**2)],\n",
       "[x*(-2*x*y - 3*y**2)/(y*(x**3 - 2*x**2*y**2 + 2*x**2*y - 3*x*y**3 + x*y**2)) + (2*x + 3*y)/(x**2 - 2*x*y**2 + 2*x*y - 3*y**3 + y**2), x*(x**2*y + 2*x*y**2 + y**3)/(y*(x**3 - 2*x**2*y**2 + 2*x**2*y - 3*x*y**3 + x*y**2)) - y**2*(2*x + 3*y)/(x**2 - 2*x*y**2 + 2*x*y - 3*y**3 + y**2)]])"
      ]
     },
     "metadata": {},
     "output_type": "display_data"
    },
    {
     "data": {
      "text/latex": [
       "$\\displaystyle \\left[\\begin{matrix}\\frac{x y \\left(- 2 x y - 3 y^{2}\\right)}{x^{3} - 2 x^{2} y^{2} + 2 x^{2} y - 3 x y^{3} + x y^{2}} + \\frac{x \\left(x^{2} y + 2 x y^{2} + y^{3}\\right)}{y \\left(x^{3} - 2 x^{2} y^{2} + 2 x^{2} y - 3 x y^{3} + x y^{2}\\right)} & \\frac{\\left(x + y\\right)^{2} \\left(- 2 x y - 3 y^{2}\\right)}{x^{3} - 2 x^{2} y^{2} + 2 x^{2} y - 3 x y^{3} + x y^{2}} + \\frac{\\left(2 x + 3 y\\right) \\left(x^{2} y + 2 x y^{2} + y^{3}\\right)}{x^{3} - 2 x^{2} y^{2} + 2 x^{2} y - 3 x y^{3} + x y^{2}}\\\\0 & - \\frac{y^{2} \\left(2 x + 3 y\\right)}{x^{2} - 2 x y^{2} + 2 x y - 3 y^{3} + y^{2}} + \\frac{\\left(x + y\\right)^{2}}{x^{2} - 2 x y^{2} + 2 x y - 3 y^{3} + y^{2}}\\end{matrix}\\right]$"
      ],
      "text/plain": [
       "Matrix([\n",
       "[x*y*(-2*x*y - 3*y**2)/(x**3 - 2*x**2*y**2 + 2*x**2*y - 3*x*y**3 + x*y**2) + x*(x**2*y + 2*x*y**2 + y**3)/(y*(x**3 - 2*x**2*y**2 + 2*x**2*y - 3*x*y**3 + x*y**2)), (x + y)**2*(-2*x*y - 3*y**2)/(x**3 - 2*x**2*y**2 + 2*x**2*y - 3*x*y**3 + x*y**2) + (2*x + 3*y)*(x**2*y + 2*x*y**2 + y**3)/(x**3 - 2*x**2*y**2 + 2*x**2*y - 3*x*y**3 + x*y**2)],\n",
       "[                                                                                                                                                               0,                                                            -y**2*(2*x + 3*y)/(x**2 - 2*x*y**2 + 2*x*y - 3*y**3 + y**2) + (x + y)**2/(x**2 - 2*x*y**2 + 2*x*y - 3*y**3 + y**2)]])"
      ]
     },
     "metadata": {},
     "output_type": "display_data"
    }
   ],
   "source": [
    "# Αντίστροφος του πίνακα D\n",
    "display(smp.Inverse(D))\n",
    "display(D.inv())\n",
    "display(D*D.inv())\n",
    "display(D.inv()*D)"
   ]
  },
  {
   "cell_type": "code",
   "execution_count": 17,
   "metadata": {},
   "outputs": [
    {
     "data": {
      "text/latex": [
       "$\\displaystyle \\left[\\begin{matrix}2 & 5\\\\-1 & 4\\end{matrix}\\right]^{-1}$"
      ],
      "text/plain": [
       "Matrix([\n",
       "[ 2, 5],\n",
       "[-1, 4]])**(-1)"
      ]
     },
     "metadata": {},
     "output_type": "display_data"
    },
    {
     "data": {
      "text/latex": [
       "$\\displaystyle \\left[\\begin{matrix}\\frac{4}{13} & - \\frac{5}{13}\\\\\\frac{1}{13} & \\frac{2}{13}\\end{matrix}\\right]$"
      ],
      "text/plain": [
       "Matrix([\n",
       "[4/13, -5/13],\n",
       "[1/13,  2/13]])"
      ]
     },
     "metadata": {},
     "output_type": "display_data"
    },
    {
     "data": {
      "text/latex": [
       "$\\displaystyle \\left[\\begin{matrix}1 & 0\\\\0 & 1\\end{matrix}\\right]$"
      ],
      "text/plain": [
       "Matrix([\n",
       "[1, 0],\n",
       "[0, 1]])"
      ]
     },
     "metadata": {},
     "output_type": "display_data"
    },
    {
     "data": {
      "text/latex": [
       "$\\displaystyle \\left[\\begin{matrix}1 & 0\\\\0 & 1\\end{matrix}\\right]$"
      ],
      "text/plain": [
       "Matrix([\n",
       "[1, 0],\n",
       "[0, 1]])"
      ]
     },
     "metadata": {},
     "output_type": "display_data"
    }
   ],
   "source": [
    "# Αντίστροφος του πίνακα F\n",
    "display(smp.Inverse(F))\n",
    "display(F.inv())\n",
    "display(F*F.inv())\n",
    "display(F.inv()*F)"
   ]
  },
  {
   "cell_type": "markdown",
   "metadata": {},
   "source": [
    "## **Παράδειγμα 3: Χρονική εξέλιξη μιας κατάστασης σπιν $|s\\rangle$ εντός σταθερού μαγνητικού πεδίου**\n",
    "\n",
    "Θεωρήστε ένα κβαντικό σωματίδιο με αρχική κατάσταση σπιν $|s \\rangle =\\frac{1}{\\sqrt{2}}\\begin{bmatrix} 1 \\\\ 1\\end{bmatrix}$ τη χρονική στιγμή $t=0$. Στο σωματίδιο εφαρμόζεται εξωτερικό σταθερό μαγνητικό πεδίο, παράλληλο προς τον άξονα z: $\\vec{B}//\\vec{e_z}$. Χρησιμοποιώντας τις δυνατότητες γραμμικής άλγεβρας της `SymPy`, ολοκληρώστε τις ακόλουθες εργασίες:\n",
    "\n",
    "**a.**  Δείξτε ότι ο τελεστής της χρονικής εξέλιξης $\\hat{U}(t)$ (της κατάστασης σπιν του σωματιδίου) έχει την ακόλουθη μορφή μήτρας: \n",
    "$$\\begin{bmatrix} e^{-iωt} & 0 \\\\ 0 & e^{iωt}\\end{bmatrix} ή \\begin{bmatrix} cos(ωt)-isin(ωt) & 0 \\\\ 0 & cos(ωt)+isin(ωt)\\end{bmatrix}$$\n",
    "\n",
    "**b.** **i)** Ορίστε μια συνάρτηση που επιστρέφει τη χρονική εξέλιξη της κατάστασης σπιν του σωματιδίου $|s(t)\\rangle$ σε μορφή μήτρας και εμφανίστε τη συμβολική μορφή της $|s(t)\\rangle$. **ii)** Βρείτε την μορφή της $|s(t)\\rangle$ τη χρονική στιγμή $t=2s$, όταν $ω=\\frac{π}{3}Hz$.\n",
    "\n",
    "**c.** **i)** Βρείτε τη συμβολική μορφή των ακόλουθων μέσων τιμών: $\\langle \\hat{s}_x \\rangle_t$, $\\langle \\hat{s}_y \\rangle_t$ και $\\langle \\hat{s}_z \\rangle_t$, ως προς την κατάσταση σπιν $|s(t)\\rangle$. **ii)** Ορίστε τις μέσες τιμές $\\langle \\hat{s}_x \\rangle_t$ και $\\langle \\hat{s}_y \\rangle_t$ ως αριθμητικές συναρτήσεις των $t$ και $ω$, χρησιμοποιώντας την εντολή `lambdify()`. Θεωρείστε ότι $\\hbar=1$, $ω=\\frac{π}{4}Hz$ και δημιουργήστε ένα `NumPy` linspace 100 σημείων του $t$, στο διάστημα $[0,4]s$. Φτιάξτε μια γραφική παράσταση χρησιμοποιώντας τις τιμές της αριθμητικής συνάρτησης $\\langle \\hat{s}_x \\rangle_t$ στα σημεία του linspace ως συντεταγμένες στον οριζόντιο άξονα και τις τιμές της αριθμητικής συνάρτησης $\\langle \\hat{s}_y \\rangle_t$ στα σημεία του linspace ως συντεταγμένες στον κατακόρυφο άξονα. Σχολιάστε το αποτέλεσμα.\n",
    "\n",
    "\n",
    "**Παρατηρήσεις:**\n",
    "\n",
    "1. Ο γενικός τύπος του τελεστή χρονικής εξέλιξης για μια κατάσταση σπιν, όταν ένα εξωτερικό μαγνητικό πεδίο $\\vec{B}$ εφαρμόζεται είναι: $$\\hat{U}(t) = e^{-iωt(\\vec{σ}\\cdot \\vec{B})}=cos(ωt)I_{2x2}-i (\\vec{σ}\\cdot \\vec{n})sin(ωt)$$ όπου $I_{2x2}$ είναι ο $2x2$ ταυτοτικός πίνακας, $\\vec{n}=\\frac{\\vec{B}}{|\\vec{B}|}$ και $\\vec{σ}=σ_1 \\vec{e_x} + σ_2 \\vec{e_y} + σ_3 \\vec{e_z}$ (με $σ_i$, $i=1,2,3$ τους πίνακες *Pauli*).\n",
    "\n",
    "2. Η μέση τιμή $\\langle \\hat{A} \\rangle_ψ$ ενός ερμιτιανού τελεστή $\\hat{A}$, ως προς μια κβαντική κατάσταση $|ψ\\rangle$ είναι ίση με: $$\\langle\\hat{A} \\rangle_ψ = \\langle ψ|\\hat{A}|ψ\\rangle$$\n",
    "\n",
    "3. $\\vec{s}=\\frac{\\hbar}{2}\\vec{σ}$"
   ]
  },
  {
   "cell_type": "markdown",
   "metadata": {},
   "source": [
    "**Λύση**"
   ]
  },
  {
   "cell_type": "code",
   "execution_count": null,
   "metadata": {},
   "outputs": [],
   "source": []
  }
 ],
 "metadata": {
  "kernelspec": {
   "display_name": "Python 3",
   "language": "python",
   "name": "python3"
  },
  "language_info": {
   "codemirror_mode": {
    "name": "ipython",
    "version": 3
   },
   "file_extension": ".py",
   "mimetype": "text/x-python",
   "name": "python",
   "nbconvert_exporter": "python",
   "pygments_lexer": "ipython3",
   "version": "3.11.6"
  }
 },
 "nbformat": 4,
 "nbformat_minor": 2
}
