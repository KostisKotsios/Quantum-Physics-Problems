{
 "cells": [
  {
   "cell_type": "markdown",
   "metadata": {},
   "source": [
    "**ΤΜΗΜΑ ΦΥΣΙΚΗΣ - ΑΡΙΣΤΟΤΕΛΕΙΟ ΠΑΝΕΠΙΣΤΗΜΙΟ ΘΕΣΣΑΛΟΝΙΚΗΣ**<br>\n",
    "**ΜΑΘΗΜΑ: Προβλήματα Κβαντικής Φυσικής [ΓΘΕ204]**<br>\n",
    "**ΑΚΑΔΗΜΑΪΚΟ ΕΤΟΣ: 2024-2025**\n",
    "\n",
    "***Σημειωματάριο SymPy 2:***<br>\n",
    "-Γραμμική άλγεβρα με τη `SymPy`<br>\n",
    "\n",
    "**Σημειώσεις: Ιωάννης Στεργάκης (μεταπτυχιακός φοιτητής του ΠΜΣ Υπολογιστικής Φυσικής ΑΠΘ)**"
   ]
  },
  {
   "cell_type": "code",
   "execution_count": 1,
   "metadata": {},
   "outputs": [],
   "source": [
    "# Εισαγωγή της βιβλιοθήκης SymPy (μην το ξεχνάτε ποτέ αυτό !!!)\n",
    "import sympy as smp"
   ]
  },
  {
   "cell_type": "markdown",
   "metadata": {},
   "source": [
    "# **Εφαρμογή 3: Γραμμική Άλγεβρα**\n",
    "\n",
    "Στη `SymPy` μπορούμε να ορίσουμε και να διαχειριστούμε πίνακες, καθώς και να εκτελέσουμε όλες τις γνωστές πράξεις της γραμμικής άλγεβρας μεταξύ πινάκων"
   ]
  },
  {
   "cell_type": "markdown",
   "metadata": {},
   "source": [
    "## A. Ορισμός και εμφάνιση πινάκων"
   ]
  },
  {
   "cell_type": "code",
   "execution_count": 2,
   "metadata": {},
   "outputs": [],
   "source": [
    "# Ορισμός των στοιχείων των πινάκων ως σύμβολα\n",
    "a11,a12,a21,a22 = smp.symbols(\"a_{11},a_{12},a_{21},a_{22}\") # στοιχεία a_ij ενός τετραγωνικού 2x2 πίνακα A\n",
    "b1,b2 = smp.symbols(\"b_{1},b_{2}\") # στοιχεία b_ij ενός 2x1 πίνακα-στήλη B\n",
    "c11,c12,c13,c21,c22,c23,c31,c32,c33 = smp.symbols(\"c_{11},c_{12},c_{13},c_{21},c_{22},c_{23},c_{31},c_{32},c_{33}\") # στοιχεία c_ij ενός τετραγωνικού 3x3 πίνακα C"
   ]
  },
  {
   "cell_type": "code",
   "execution_count": 3,
   "metadata": {},
   "outputs": [
    {
     "data": {
      "text/latex": [
       "$\\displaystyle \\left[\\begin{matrix}a_{11} & a_{12}\\\\a_{21} & a_{22}\\end{matrix}\\right]$"
      ],
      "text/plain": [
       "Matrix([\n",
       "[a_{11}, a_{12}],\n",
       "[a_{21}, a_{22}]])"
      ]
     },
     "metadata": {},
     "output_type": "display_data"
    },
    {
     "data": {
      "text/latex": [
       "$\\displaystyle \\left[\\begin{matrix}b_{1}\\\\b_{2}\\end{matrix}\\right]$"
      ],
      "text/plain": [
       "Matrix([\n",
       "[b_{1}],\n",
       "[b_{2}]])"
      ]
     },
     "metadata": {},
     "output_type": "display_data"
    },
    {
     "data": {
      "text/latex": [
       "$\\displaystyle \\left[\\begin{matrix}c_{11} & c_{12} & c_{13}\\\\c_{21} & c_{22} & c_{23}\\\\c_{31} & c_{32} & c_{33}\\end{matrix}\\right]$"
      ],
      "text/plain": [
       "Matrix([\n",
       "[c_{11}, c_{12}, c_{13}],\n",
       "[c_{21}, c_{22}, c_{23}],\n",
       "[c_{31}, c_{32}, c_{33}]])"
      ]
     },
     "metadata": {},
     "output_type": "display_data"
    },
    {
     "data": {
      "text/latex": [
       "$\\displaystyle \\left[\\begin{matrix}x y & \\left(x + y\\right)^{2}\\\\\\frac{x}{y} & 2 x + 3 y\\end{matrix}\\right]$"
      ],
      "text/plain": [
       "Matrix([\n",
       "[x*y, (x + y)**2],\n",
       "[x/y,  2*x + 3*y]])"
      ]
     },
     "metadata": {},
     "output_type": "display_data"
    },
    {
     "data": {
      "text/latex": [
       "$\\displaystyle \\left[\\begin{matrix}2 & 5\\\\-1 & 4\\end{matrix}\\right]$"
      ],
      "text/plain": [
       "Matrix([\n",
       "[ 2, 5],\n",
       "[-1, 4]])"
      ]
     },
     "metadata": {},
     "output_type": "display_data"
    }
   ],
   "source": [
    "# Ορισμός και εμφάνιση των πινάκων\n",
    "\n",
    "# 2x2 τετραγωνικός πίνακας Α\n",
    "A = smp.Matrix([[a11,a12],[a21,a22]])\n",
    "display(A)\n",
    "\n",
    "# 2x1 πίνακας-στήλη Β\n",
    "B = smp.Matrix([b1,b2])\n",
    "display(B)\n",
    "\n",
    "# 3x3 τετραγωνικός πίνακας C\n",
    "C = smp.Matrix([[c11,c12,c13],[c21,c22,c23],[c31,c32,c33]])\n",
    "display(C)\n",
    "\n",
    "# 2x2 τετραγωνικός πίνακας D\n",
    "x,y = smp.symbols(\"x y\")\n",
    "D = smp.Matrix([[x*y,(x+y)**2],[x/y,2*x+3*y]])\n",
    "display(D)\n",
    "\n",
    "# 2x2 τετραγωνικός πίνακας F\n",
    "F = smp.Matrix([[2,5],[-1,4]])\n",
    "display(F)"
   ]
  },
  {
   "cell_type": "markdown",
   "metadata": {},
   "source": [
    "## Β. Πράξεις μεταξύ πινάκων"
   ]
  },
  {
   "cell_type": "markdown",
   "metadata": {},
   "source": [
    "Μπορεί κανείς να βρει το άθροισμα ή τη διαφορά μεταξύ πινάκων με τις ίδιες διαστάσεις "
   ]
  },
  {
   "cell_type": "code",
   "execution_count": 4,
   "metadata": {},
   "outputs": [
    {
     "data": {
      "text/latex": [
       "$\\displaystyle \\left[\\begin{matrix}a_{11} + x y & a_{12} + \\left(x + y\\right)^{2}\\\\a_{21} + \\frac{x}{y} & a_{22} + 2 x + 3 y\\end{matrix}\\right]$"
      ],
      "text/plain": [
       "Matrix([\n",
       "[a_{11} + x*y, a_{12} + (x + y)**2],\n",
       "[a_{21} + x/y,  a_{22} + 2*x + 3*y]])"
      ]
     },
     "metadata": {},
     "output_type": "display_data"
    },
    {
     "data": {
      "text/latex": [
       "$\\displaystyle \\left[\\begin{matrix}a_{11} - x y & a_{12} - \\left(x + y\\right)^{2}\\\\a_{21} - \\frac{x}{y} & a_{22} - 2 x - 3 y\\end{matrix}\\right]$"
      ],
      "text/plain": [
       "Matrix([\n",
       "[a_{11} - x*y, a_{12} - (x + y)**2],\n",
       "[a_{21} - x/y,  a_{22} - 2*x - 3*y]])"
      ]
     },
     "metadata": {},
     "output_type": "display_data"
    }
   ],
   "source": [
    "# Άθροισμα δύο πινάκων\n",
    "display(A+D)\n",
    "\n",
    "# Διαφορά δύο πινάκων\n",
    "display(A-D)"
   ]
  },
  {
   "cell_type": "markdown",
   "metadata": {},
   "source": [
    "Μπορούμε, επίσης, να εκτελέσουμε πολλαπλασιασμό πινάκων σύμφωνα με τους κανόνες της γραμμικής άλγεβρας. Δηλαδή, ο αριθμός των στηλών του πίνακα στα αριστερά του γινομένου πρέπει να είναι ίσος με τον αριθμό των γραμμών του πίνακα στα δεξιά του γινομένου:"
   ]
  },
  {
   "cell_type": "code",
   "execution_count": 5,
   "metadata": {},
   "outputs": [
    {
     "data": {
      "text/latex": [
       "$\\displaystyle \\left[\\begin{matrix}2 l & 5 l\\\\- l & 4 l\\end{matrix}\\right]$"
      ],
      "text/plain": [
       "Matrix([\n",
       "[2*l, 5*l],\n",
       "[ -l, 4*l]])"
      ]
     },
     "metadata": {},
     "output_type": "display_data"
    },
    {
     "data": {
      "text/latex": [
       "$\\displaystyle \\left[\\begin{matrix}a_{11} b_{1} + a_{12} b_{2}\\\\a_{21} b_{1} + a_{22} b_{2}\\end{matrix}\\right]$"
      ],
      "text/plain": [
       "Matrix([\n",
       "[a_{11}*b_{1} + a_{12}*b_{2}],\n",
       "[a_{21}*b_{1} + a_{22}*b_{2}]])"
      ]
     },
     "metadata": {},
     "output_type": "display_data"
    },
    {
     "data": {
      "text/latex": [
       "$\\displaystyle \\left[\\begin{matrix}a_{11} x y + \\frac{a_{12} x}{y} & a_{11} \\left(x + y\\right)^{2} + a_{12} \\left(2 x + 3 y\\right)\\\\a_{21} x y + \\frac{a_{22} x}{y} & a_{21} \\left(x + y\\right)^{2} + a_{22} \\left(2 x + 3 y\\right)\\end{matrix}\\right]$"
      ],
      "text/plain": [
       "Matrix([\n",
       "[a_{11}*x*y + a_{12}*x/y, a_{11}*(x + y)**2 + a_{12}*(2*x + 3*y)],\n",
       "[a_{21}*x*y + a_{22}*x/y, a_{21}*(x + y)**2 + a_{22}*(2*x + 3*y)]])"
      ]
     },
     "metadata": {},
     "output_type": "display_data"
    }
   ],
   "source": [
    "# Πολλαπλασιασμός ενός πίνακα με μια σταθερά\n",
    "l = smp.symbols(\"l\")\n",
    "display(l*F)\n",
    "\n",
    "# Γινόμενο των πινάκων A*B\n",
    "display(A*B)\n",
    "\n",
    "# Γινόμενο των πινάκων A*D\n",
    "display(A*D)"
   ]
  },
  {
   "cell_type": "markdown",
   "metadata": {},
   "source": [
    "Φυσικά μπορούμε να υπολογίσουμε και τις δυνάμεις ενός πίνακα:"
   ]
  },
  {
   "cell_type": "code",
   "execution_count": 6,
   "metadata": {},
   "outputs": [
    {
     "data": {
      "text/latex": [
       "$\\displaystyle \\left[\\begin{matrix}a_{11}^{2} + a_{12} a_{21} & a_{11} a_{12} + a_{12} a_{22}\\\\a_{11} a_{21} + a_{21} a_{22} & a_{12} a_{21} + a_{22}^{2}\\end{matrix}\\right]$"
      ],
      "text/plain": [
       "Matrix([\n",
       "[    a_{11}**2 + a_{12}*a_{21}, a_{11}*a_{12} + a_{12}*a_{22}],\n",
       "[a_{11}*a_{21} + a_{21}*a_{22},     a_{12}*a_{21} + a_{22}**2]])"
      ]
     },
     "metadata": {},
     "output_type": "display_data"
    },
    {
     "data": {
      "text/latex": [
       "$\\displaystyle \\left[\\begin{matrix}\\frac{x^{3} + x^{2} y^{3} + 2 x^{2} y + x y^{2}}{y} & x^{3} y + 2 x^{3} + 2 x^{2} y^{2} + 7 x^{2} y + x y^{3} + 8 x y^{2} + 3 y^{3}\\\\\\frac{x^{2} y + 2 x^{2} + 3 x y}{y} & \\frac{x^{3} + 6 x^{2} y + 13 x y^{2} + 9 y^{3}}{y}\\end{matrix}\\right]$"
      ],
      "text/plain": [
       "Matrix([\n",
       "[(x**3 + x**2*y**3 + 2*x**2*y + x*y**2)/y, x**3*y + 2*x**3 + 2*x**2*y**2 + 7*x**2*y + x*y**3 + 8*x*y**2 + 3*y**3],\n",
       "[             (x**2*y + 2*x**2 + 3*x*y)/y,                              (x**3 + 6*x**2*y + 13*x*y**2 + 9*y**3)/y]])"
      ]
     },
     "metadata": {},
     "output_type": "display_data"
    },
    {
     "data": {
      "text/latex": [
       "$\\displaystyle \\left[\\begin{matrix}-1 & 30\\\\-6 & 11\\end{matrix}\\right]$"
      ],
      "text/plain": [
       "Matrix([\n",
       "[-1, 30],\n",
       "[-6, 11]])"
      ]
     },
     "metadata": {},
     "output_type": "display_data"
    },
    {
     "data": {
      "text/latex": [
       "$\\displaystyle \\left[\\begin{matrix}a_{11}^{3} + 2 a_{11} a_{12} a_{21} + a_{12} a_{21} a_{22} & a_{11}^{2} a_{12} + a_{11} a_{12} a_{22} + a_{12}^{2} a_{21} + a_{12} a_{22}^{2}\\\\a_{11}^{2} a_{21} + a_{11} a_{21} a_{22} + a_{12} a_{21}^{2} + a_{21} a_{22}^{2} & a_{11} a_{12} a_{21} + 2 a_{12} a_{21} a_{22} + a_{22}^{3}\\end{matrix}\\right]$"
      ],
      "text/plain": [
       "Matrix([\n",
       "[                    a_{11}**3 + 2*a_{11}*a_{12}*a_{21} + a_{12}*a_{21}*a_{22}, a_{11}**2*a_{12} + a_{11}*a_{12}*a_{22} + a_{12}**2*a_{21} + a_{12}*a_{22}**2],\n",
       "[a_{11}**2*a_{21} + a_{11}*a_{21}*a_{22} + a_{12}*a_{21}**2 + a_{21}*a_{22}**2,                     a_{11}*a_{12}*a_{21} + 2*a_{12}*a_{21}*a_{22} + a_{22}**3]])"
      ]
     },
     "metadata": {},
     "output_type": "display_data"
    }
   ],
   "source": [
    "# A^2 = A*A\n",
    "display(A**2)\n",
    "\n",
    "# D^2 = D*D\n",
    "display(D**2)\n",
    "\n",
    "# F^2 = F*F\n",
    "display(F**2)\n",
    "\n",
    "# A^3 = A*A*A\n",
    "display(A**3)"
   ]
  },
  {
   "cell_type": "markdown",
   "metadata": {},
   "source": [
    "## Γ. Ορίζουσα, ανάστροφος και αντίστροφος ενός πίνακα"
   ]
  },
  {
   "cell_type": "markdown",
   "metadata": {},
   "source": [
    "### **Ορίζουσα πίνακα**\n",
    "\n",
    "Χρησιμοποιώντας την εντολή `Determinant()`, μπορούμε να εμφανίσουμε την ορίζουσα ενός πίνακα, ενώ χρησιμοποιώντας την εντολή `.det()` μπορούμε να υπολογίσουμε την ορίζουσα ενός πίνακα, όπως φαίνεται παρακάτω:"
   ]
  },
  {
   "cell_type": "code",
   "execution_count": 7,
   "metadata": {},
   "outputs": [
    {
     "data": {
      "text/latex": [
       "$\\displaystyle \\left|{\\begin{matrix}a_{11} & a_{12}\\\\a_{21} & a_{22}\\end{matrix}}\\right|$"
      ],
      "text/plain": [
       "Determinant(Matrix([\n",
       "[a_{11}, a_{12}],\n",
       "[a_{21}, a_{22}]]))"
      ]
     },
     "metadata": {},
     "output_type": "display_data"
    },
    {
     "data": {
      "text/latex": [
       "$\\displaystyle a_{11} a_{22} - a_{12} a_{21}$"
      ],
      "text/plain": [
       "a_{11}*a_{22} - a_{12}*a_{21}"
      ]
     },
     "metadata": {},
     "output_type": "display_data"
    }
   ],
   "source": [
    "# Ορίζουσα του πίνακα A\n",
    "display(smp.Determinant(A))\n",
    "display(A.det())"
   ]
  },
  {
   "cell_type": "code",
   "execution_count": 8,
   "metadata": {},
   "outputs": [],
   "source": [
    "# Ορίζουσα του πίνακα B\n",
    "# display(smp.Determinant(B))\n",
    "# display(B.det())"
   ]
  },
  {
   "cell_type": "code",
   "execution_count": 9,
   "metadata": {},
   "outputs": [
    {
     "data": {
      "text/latex": [
       "$\\displaystyle \\left|{\\begin{matrix}c_{11} & c_{12} & c_{13}\\\\c_{21} & c_{22} & c_{23}\\\\c_{31} & c_{32} & c_{33}\\end{matrix}}\\right|$"
      ],
      "text/plain": [
       "Determinant(Matrix([\n",
       "[c_{11}, c_{12}, c_{13}],\n",
       "[c_{21}, c_{22}, c_{23}],\n",
       "[c_{31}, c_{32}, c_{33}]]))"
      ]
     },
     "metadata": {},
     "output_type": "display_data"
    },
    {
     "data": {
      "text/latex": [
       "$\\displaystyle c_{11} c_{22} c_{33} - c_{11} c_{23} c_{32} - c_{12} c_{21} c_{33} + c_{12} c_{23} c_{31} + c_{13} c_{21} c_{32} - c_{13} c_{22} c_{31}$"
      ],
      "text/plain": [
       "c_{11}*c_{22}*c_{33} - c_{11}*c_{23}*c_{32} - c_{12}*c_{21}*c_{33} + c_{12}*c_{23}*c_{31} + c_{13}*c_{21}*c_{32} - c_{13}*c_{22}*c_{31}"
      ]
     },
     "metadata": {},
     "output_type": "display_data"
    }
   ],
   "source": [
    "# Ορίζουσα του πίνακα C\n",
    "display(smp.Determinant(C))\n",
    "display(C.det())"
   ]
  },
  {
   "cell_type": "code",
   "execution_count": 10,
   "metadata": {},
   "outputs": [
    {
     "data": {
      "text/latex": [
       "$\\displaystyle \\left|{\\begin{matrix}x y & \\left(x + y\\right)^{2}\\\\\\frac{x}{y} & 2 x + 3 y\\end{matrix}}\\right|$"
      ],
      "text/plain": [
       "Determinant(Matrix([\n",
       "[x*y, (x + y)**2],\n",
       "[x/y,  2*x + 3*y]]))"
      ]
     },
     "metadata": {},
     "output_type": "display_data"
    },
    {
     "data": {
      "text/latex": [
       "$\\displaystyle \\frac{- x^{3} + 2 x^{2} y^{2} - 2 x^{2} y + 3 x y^{3} - x y^{2}}{y}$"
      ],
      "text/plain": [
       "(-x**3 + 2*x**2*y**2 - 2*x**2*y + 3*x*y**3 - x*y**2)/y"
      ]
     },
     "metadata": {},
     "output_type": "display_data"
    }
   ],
   "source": [
    "# Ορίζουσα του πίνακα D\n",
    "display(smp.Determinant(D))\n",
    "display(D.det())"
   ]
  },
  {
   "cell_type": "code",
   "execution_count": 11,
   "metadata": {},
   "outputs": [
    {
     "data": {
      "text/latex": [
       "$\\displaystyle \\left|{\\begin{matrix}2 & 5\\\\-1 & 4\\end{matrix}}\\right|$"
      ],
      "text/plain": [
       "Determinant(Matrix([\n",
       "[ 2, 5],\n",
       "[-1, 4]]))"
      ]
     },
     "metadata": {},
     "output_type": "display_data"
    },
    {
     "data": {
      "text/latex": [
       "$\\displaystyle 13$"
      ],
      "text/plain": [
       "13"
      ]
     },
     "metadata": {},
     "output_type": "display_data"
    }
   ],
   "source": [
    "# Ορίζουσα του πίνακα F\n",
    "display(smp.Determinant(F))\n",
    "display(F.det())"
   ]
  },
  {
   "cell_type": "markdown",
   "metadata": {},
   "source": [
    "Το ίδιο ακριβώς ισχύει και για τον ανάστροφο αλλά και τον αντίστροφο (εφόσον αυτός υπάρχει) ενός πίνακα:\n",
    "\n",
    "### **Ανάστροφος πίνακας**"
   ]
  },
  {
   "cell_type": "code",
   "execution_count": 12,
   "metadata": {},
   "outputs": [
    {
     "data": {
      "text/latex": [
       "$\\displaystyle \\left[\\begin{matrix}a_{11} & a_{12}\\\\a_{21} & a_{22}\\end{matrix}\\right]^{T}$"
      ],
      "text/plain": [
       "Matrix([\n",
       "[a_{11}, a_{12}],\n",
       "[a_{21}, a_{22}]]).T"
      ]
     },
     "metadata": {},
     "output_type": "display_data"
    },
    {
     "data": {
      "text/latex": [
       "$\\displaystyle \\left[\\begin{matrix}a_{11} & a_{21}\\\\a_{12} & a_{22}\\end{matrix}\\right]$"
      ],
      "text/plain": [
       "Matrix([\n",
       "[a_{11}, a_{21}],\n",
       "[a_{12}, a_{22}]])"
      ]
     },
     "metadata": {},
     "output_type": "display_data"
    }
   ],
   "source": [
    "# Ανάστροφος του πίνακα A\n",
    "display(smp.Transpose(A))\n",
    "display(A.transpose())"
   ]
  },
  {
   "cell_type": "code",
   "execution_count": 13,
   "metadata": {},
   "outputs": [
    {
     "data": {
      "text/latex": [
       "$\\displaystyle \\left[\\begin{matrix}b_{1}\\\\b_{2}\\end{matrix}\\right]^{T}$"
      ],
      "text/plain": [
       "Matrix([\n",
       "[b_{1}],\n",
       "[b_{2}]]).T"
      ]
     },
     "metadata": {},
     "output_type": "display_data"
    },
    {
     "data": {
      "text/latex": [
       "$\\displaystyle \\left[\\begin{matrix}b_{1} & b_{2}\\end{matrix}\\right]$"
      ],
      "text/plain": [
       "Matrix([[b_{1}, b_{2}]])"
      ]
     },
     "metadata": {},
     "output_type": "display_data"
    }
   ],
   "source": [
    "# Ανάστροφος του πίνακα B\n",
    "display(smp.Transpose(B))\n",
    "display(B.transpose())"
   ]
  },
  {
   "cell_type": "code",
   "execution_count": 14,
   "metadata": {},
   "outputs": [
    {
     "data": {
      "text/latex": [
       "$\\displaystyle \\left(\\left[\\begin{matrix}x y & \\left(x + y\\right)^{2}\\\\\\frac{x}{y} & 2 x + 3 y\\end{matrix}\\right]\\right)^{T}$"
      ],
      "text/plain": [
       "Matrix([\n",
       "[x*y, (x + y)**2],\n",
       "[x/y,  2*x + 3*y]]).T"
      ]
     },
     "metadata": {},
     "output_type": "display_data"
    },
    {
     "data": {
      "text/latex": [
       "$\\displaystyle \\left[\\begin{matrix}x y & \\frac{x}{y}\\\\\\left(x + y\\right)^{2} & 2 x + 3 y\\end{matrix}\\right]$"
      ],
      "text/plain": [
       "Matrix([\n",
       "[       x*y,       x/y],\n",
       "[(x + y)**2, 2*x + 3*y]])"
      ]
     },
     "metadata": {},
     "output_type": "display_data"
    }
   ],
   "source": [
    "# Ανάστροφος του πίνακα D\n",
    "display(smp.Transpose(D))\n",
    "display(D.transpose())"
   ]
  },
  {
   "cell_type": "code",
   "execution_count": 15,
   "metadata": {},
   "outputs": [
    {
     "data": {
      "text/latex": [
       "$\\displaystyle \\left[\\begin{matrix}2 & 5\\\\-1 & 4\\end{matrix}\\right]^{T}$"
      ],
      "text/plain": [
       "Matrix([\n",
       "[ 2, 5],\n",
       "[-1, 4]]).T"
      ]
     },
     "metadata": {},
     "output_type": "display_data"
    },
    {
     "data": {
      "text/latex": [
       "$\\displaystyle \\left[\\begin{matrix}2 & -1\\\\5 & 4\\end{matrix}\\right]$"
      ],
      "text/plain": [
       "Matrix([\n",
       "[2, -1],\n",
       "[5,  4]])"
      ]
     },
     "metadata": {},
     "output_type": "display_data"
    }
   ],
   "source": [
    "\n",
    "# Ανάστροφος του πίνακα F\n",
    "display(smp.Transpose(F))\n",
    "display(F.transpose())"
   ]
  },
  {
   "cell_type": "markdown",
   "metadata": {},
   "source": [
    "### **Αντίστροφος πίνακας**"
   ]
  },
  {
   "cell_type": "code",
   "execution_count": 16,
   "metadata": {},
   "outputs": [
    {
     "data": {
      "text/latex": [
       "$\\displaystyle \\left[\\begin{matrix}a_{11} & a_{12}\\\\a_{21} & a_{22}\\end{matrix}\\right]^{-1}$"
      ],
      "text/plain": [
       "Matrix([\n",
       "[a_{11}, a_{12}],\n",
       "[a_{21}, a_{22}]])**(-1)"
      ]
     },
     "metadata": {},
     "output_type": "display_data"
    },
    {
     "data": {
      "text/latex": [
       "$\\displaystyle \\left[\\begin{matrix}\\frac{a_{22}}{a_{11} a_{22} - a_{12} a_{21}} & - \\frac{a_{12}}{a_{11} a_{22} - a_{12} a_{21}}\\\\- \\frac{a_{21}}{a_{11} a_{22} - a_{12} a_{21}} & \\frac{a_{11}}{a_{11} a_{22} - a_{12} a_{21}}\\end{matrix}\\right]$"
      ],
      "text/plain": [
       "Matrix([\n",
       "[ a_{22}/(a_{11}*a_{22} - a_{12}*a_{21}), -a_{12}/(a_{11}*a_{22} - a_{12}*a_{21})],\n",
       "[-a_{21}/(a_{11}*a_{22} - a_{12}*a_{21}),  a_{11}/(a_{11}*a_{22} - a_{12}*a_{21})]])"
      ]
     },
     "metadata": {},
     "output_type": "display_data"
    },
    {
     "data": {
      "text/latex": [
       "$\\displaystyle \\left[\\begin{matrix}\\frac{a_{11} a_{22}}{a_{11} a_{22} - a_{12} a_{21}} - \\frac{a_{12} a_{21}}{a_{11} a_{22} - a_{12} a_{21}} & 0\\\\0 & \\frac{a_{11} a_{22}}{a_{11} a_{22} - a_{12} a_{21}} - \\frac{a_{12} a_{21}}{a_{11} a_{22} - a_{12} a_{21}}\\end{matrix}\\right]$"
      ],
      "text/plain": [
       "Matrix([\n",
       "[a_{11}*a_{22}/(a_{11}*a_{22} - a_{12}*a_{21}) - a_{12}*a_{21}/(a_{11}*a_{22} - a_{12}*a_{21}),                                                                                             0],\n",
       "[                                                                                            0, a_{11}*a_{22}/(a_{11}*a_{22} - a_{12}*a_{21}) - a_{12}*a_{21}/(a_{11}*a_{22} - a_{12}*a_{21})]])"
      ]
     },
     "metadata": {},
     "output_type": "display_data"
    },
    {
     "data": {
      "text/latex": [
       "$\\displaystyle \\left[\\begin{matrix}\\frac{a_{11} a_{22}}{a_{11} a_{22} - a_{12} a_{21}} - \\frac{a_{12} a_{21}}{a_{11} a_{22} - a_{12} a_{21}} & 0\\\\0 & \\frac{a_{11} a_{22}}{a_{11} a_{22} - a_{12} a_{21}} - \\frac{a_{12} a_{21}}{a_{11} a_{22} - a_{12} a_{21}}\\end{matrix}\\right]$"
      ],
      "text/plain": [
       "Matrix([\n",
       "[a_{11}*a_{22}/(a_{11}*a_{22} - a_{12}*a_{21}) - a_{12}*a_{21}/(a_{11}*a_{22} - a_{12}*a_{21}),                                                                                             0],\n",
       "[                                                                                            0, a_{11}*a_{22}/(a_{11}*a_{22} - a_{12}*a_{21}) - a_{12}*a_{21}/(a_{11}*a_{22} - a_{12}*a_{21})]])"
      ]
     },
     "metadata": {},
     "output_type": "display_data"
    }
   ],
   "source": [
    "# Αντίστροφος του πίνακα A\n",
    "display(smp.Inverse(A))\n",
    "display(A.inv())\n",
    "display(A*A.inv())\n",
    "display(A.inv()*A)"
   ]
  },
  {
   "cell_type": "code",
   "execution_count": 17,
   "metadata": {},
   "outputs": [
    {
     "data": {
      "text/latex": [
       "$\\displaystyle \\left(\\left[\\begin{matrix}x y & \\left(x + y\\right)^{2}\\\\\\frac{x}{y} & 2 x + 3 y\\end{matrix}\\right]\\right)^{-1}$"
      ],
      "text/plain": [
       "Matrix([\n",
       "[x*y, (x + y)**2],\n",
       "[x/y,  2*x + 3*y]])**(-1)"
      ]
     },
     "metadata": {},
     "output_type": "display_data"
    },
    {
     "data": {
      "text/latex": [
       "$\\displaystyle \\left[\\begin{matrix}\\frac{- 2 x y - 3 y^{2}}{x^{3} - 2 x^{2} y^{2} + 2 x^{2} y - 3 x y^{3} + x y^{2}} & \\frac{x^{2} y + 2 x y^{2} + y^{3}}{x^{3} - 2 x^{2} y^{2} + 2 x^{2} y - 3 x y^{3} + x y^{2}}\\\\\\frac{1}{x^{2} - 2 x y^{2} + 2 x y - 3 y^{3} + y^{2}} & - \\frac{y^{2}}{x^{2} - 2 x y^{2} + 2 x y - 3 y^{3} + y^{2}}\\end{matrix}\\right]$"
      ],
      "text/plain": [
       "Matrix([\n",
       "[(-2*x*y - 3*y**2)/(x**3 - 2*x**2*y**2 + 2*x**2*y - 3*x*y**3 + x*y**2), (x**2*y + 2*x*y**2 + y**3)/(x**3 - 2*x**2*y**2 + 2*x**2*y - 3*x*y**3 + x*y**2)],\n",
       "[                          1/(x**2 - 2*x*y**2 + 2*x*y - 3*y**3 + y**2),                                -y**2/(x**2 - 2*x*y**2 + 2*x*y - 3*y**3 + y**2)]])"
      ]
     },
     "metadata": {},
     "output_type": "display_data"
    },
    {
     "data": {
      "text/latex": [
       "$\\displaystyle \\left[\\begin{matrix}\\frac{x y \\left(- 2 x y - 3 y^{2}\\right)}{x^{3} - 2 x^{2} y^{2} + 2 x^{2} y - 3 x y^{3} + x y^{2}} + \\frac{\\left(x + y\\right)^{2}}{x^{2} - 2 x y^{2} + 2 x y - 3 y^{3} + y^{2}} & \\frac{x y \\left(x^{2} y + 2 x y^{2} + y^{3}\\right)}{x^{3} - 2 x^{2} y^{2} + 2 x^{2} y - 3 x y^{3} + x y^{2}} - \\frac{y^{2} \\left(x + y\\right)^{2}}{x^{2} - 2 x y^{2} + 2 x y - 3 y^{3} + y^{2}}\\\\\\frac{x \\left(- 2 x y - 3 y^{2}\\right)}{y \\left(x^{3} - 2 x^{2} y^{2} + 2 x^{2} y - 3 x y^{3} + x y^{2}\\right)} + \\frac{2 x + 3 y}{x^{2} - 2 x y^{2} + 2 x y - 3 y^{3} + y^{2}} & \\frac{x \\left(x^{2} y + 2 x y^{2} + y^{3}\\right)}{y \\left(x^{3} - 2 x^{2} y^{2} + 2 x^{2} y - 3 x y^{3} + x y^{2}\\right)} - \\frac{y^{2} \\left(2 x + 3 y\\right)}{x^{2} - 2 x y^{2} + 2 x y - 3 y^{3} + y^{2}}\\end{matrix}\\right]$"
      ],
      "text/plain": [
       "Matrix([\n",
       "[   x*y*(-2*x*y - 3*y**2)/(x**3 - 2*x**2*y**2 + 2*x**2*y - 3*x*y**3 + x*y**2) + (x + y)**2/(x**2 - 2*x*y**2 + 2*x*y - 3*y**3 + y**2),    x*y*(x**2*y + 2*x*y**2 + y**3)/(x**3 - 2*x**2*y**2 + 2*x**2*y - 3*x*y**3 + x*y**2) - y**2*(x + y)**2/(x**2 - 2*x*y**2 + 2*x*y - 3*y**3 + y**2)],\n",
       "[x*(-2*x*y - 3*y**2)/(y*(x**3 - 2*x**2*y**2 + 2*x**2*y - 3*x*y**3 + x*y**2)) + (2*x + 3*y)/(x**2 - 2*x*y**2 + 2*x*y - 3*y**3 + y**2), x*(x**2*y + 2*x*y**2 + y**3)/(y*(x**3 - 2*x**2*y**2 + 2*x**2*y - 3*x*y**3 + x*y**2)) - y**2*(2*x + 3*y)/(x**2 - 2*x*y**2 + 2*x*y - 3*y**3 + y**2)]])"
      ]
     },
     "metadata": {},
     "output_type": "display_data"
    },
    {
     "data": {
      "text/latex": [
       "$\\displaystyle \\left[\\begin{matrix}\\frac{x y \\left(- 2 x y - 3 y^{2}\\right)}{x^{3} - 2 x^{2} y^{2} + 2 x^{2} y - 3 x y^{3} + x y^{2}} + \\frac{x \\left(x^{2} y + 2 x y^{2} + y^{3}\\right)}{y \\left(x^{3} - 2 x^{2} y^{2} + 2 x^{2} y - 3 x y^{3} + x y^{2}\\right)} & \\frac{\\left(x + y\\right)^{2} \\left(- 2 x y - 3 y^{2}\\right)}{x^{3} - 2 x^{2} y^{2} + 2 x^{2} y - 3 x y^{3} + x y^{2}} + \\frac{\\left(2 x + 3 y\\right) \\left(x^{2} y + 2 x y^{2} + y^{3}\\right)}{x^{3} - 2 x^{2} y^{2} + 2 x^{2} y - 3 x y^{3} + x y^{2}}\\\\0 & - \\frac{y^{2} \\left(2 x + 3 y\\right)}{x^{2} - 2 x y^{2} + 2 x y - 3 y^{3} + y^{2}} + \\frac{\\left(x + y\\right)^{2}}{x^{2} - 2 x y^{2} + 2 x y - 3 y^{3} + y^{2}}\\end{matrix}\\right]$"
      ],
      "text/plain": [
       "Matrix([\n",
       "[x*y*(-2*x*y - 3*y**2)/(x**3 - 2*x**2*y**2 + 2*x**2*y - 3*x*y**3 + x*y**2) + x*(x**2*y + 2*x*y**2 + y**3)/(y*(x**3 - 2*x**2*y**2 + 2*x**2*y - 3*x*y**3 + x*y**2)), (x + y)**2*(-2*x*y - 3*y**2)/(x**3 - 2*x**2*y**2 + 2*x**2*y - 3*x*y**3 + x*y**2) + (2*x + 3*y)*(x**2*y + 2*x*y**2 + y**3)/(x**3 - 2*x**2*y**2 + 2*x**2*y - 3*x*y**3 + x*y**2)],\n",
       "[                                                                                                                                                               0,                                                            -y**2*(2*x + 3*y)/(x**2 - 2*x*y**2 + 2*x*y - 3*y**3 + y**2) + (x + y)**2/(x**2 - 2*x*y**2 + 2*x*y - 3*y**3 + y**2)]])"
      ]
     },
     "metadata": {},
     "output_type": "display_data"
    }
   ],
   "source": [
    "# Αντίστροφος του πίνακα D\n",
    "display(smp.Inverse(D))\n",
    "display(D.inv())\n",
    "display(D*D.inv())\n",
    "display(D.inv()*D)"
   ]
  },
  {
   "cell_type": "code",
   "execution_count": 18,
   "metadata": {},
   "outputs": [
    {
     "data": {
      "text/latex": [
       "$\\displaystyle \\left[\\begin{matrix}2 & 5\\\\-1 & 4\\end{matrix}\\right]^{-1}$"
      ],
      "text/plain": [
       "Matrix([\n",
       "[ 2, 5],\n",
       "[-1, 4]])**(-1)"
      ]
     },
     "metadata": {},
     "output_type": "display_data"
    },
    {
     "data": {
      "text/latex": [
       "$\\displaystyle \\left[\\begin{matrix}\\frac{4}{13} & - \\frac{5}{13}\\\\\\frac{1}{13} & \\frac{2}{13}\\end{matrix}\\right]$"
      ],
      "text/plain": [
       "Matrix([\n",
       "[4/13, -5/13],\n",
       "[1/13,  2/13]])"
      ]
     },
     "metadata": {},
     "output_type": "display_data"
    },
    {
     "data": {
      "text/latex": [
       "$\\displaystyle \\left[\\begin{matrix}1 & 0\\\\0 & 1\\end{matrix}\\right]$"
      ],
      "text/plain": [
       "Matrix([\n",
       "[1, 0],\n",
       "[0, 1]])"
      ]
     },
     "metadata": {},
     "output_type": "display_data"
    },
    {
     "data": {
      "text/latex": [
       "$\\displaystyle \\left[\\begin{matrix}1 & 0\\\\0 & 1\\end{matrix}\\right]$"
      ],
      "text/plain": [
       "Matrix([\n",
       "[1, 0],\n",
       "[0, 1]])"
      ]
     },
     "metadata": {},
     "output_type": "display_data"
    }
   ],
   "source": [
    "# Αντίστροφος του πίνακα F\n",
    "display(smp.Inverse(F))\n",
    "display(F.inv())\n",
    "display(F*F.inv())\n",
    "display(F.inv()*F)"
   ]
  },
  {
   "cell_type": "markdown",
   "metadata": {},
   "source": [
    "## Δ. Ιδιοτιμές και ιδιοδιανύσματα ενός πίνακα"
   ]
  },
  {
   "cell_type": "markdown",
   "metadata": {},
   "source": [
    "Από τη γραμμική άλγεβρα γνωρίζουμε την εξίσωση ιδιοτιμών και ιδιοσυναρτήσεων ενός τετραγωνικού NxN πίνακα $A$:\n",
    "$$AX_i=λ_iX_i$$\n",
    "ή σε αναλυτική μορφή\n",
    "$$\\begin{bmatrix}a_{11} & a_{12} & \\dots & a_{1N} \\\\ a_{21} & a_{22} & \\dots & a_{2N} \\\\ \\vdots & \\vdots & \\ddots & \\vdots \\\\ a_{N1} & a_{N2} & \\dots & a_{NN}\\end{bmatrix} \\begin{bmatrix} x_{1i} \\\\ x_{2i} \\\\ \\vdots\\\\ x_{Ni}\\end{bmatrix} = \\begin{bmatrix} λ_ix_{1i} \\\\ λ_ix_{2i} \\\\ \\vdots\\\\ λ_ix_{Ni}\\end{bmatrix} [1]$$\n",
    "όπου $λ_i$ οι ιδιοτιμές του πίνακα $A$ και $X_i$ τα ιδιοδιανύσματα του πίνακα $A$, που αντιστοιχούν σε αυτές τις ιδιοτιμές. Για την εύρεση των $λ_i$, δημιουργούμε τον πίνακα $Α^{'} = Α - λΙ_{ΝxN}$ (όπου $Ι_{NxN}$ ο ταυτοτικός πίνακας ίδιων διαστάσεων με τον $Α$): \n",
    "$$Α^{'} = \\begin{bmatrix}a_{11} & a_{12} & \\dots & a_{1N} \\\\ a_{21} & a_{22} & \\dots & a_{2N} \\\\ \\vdots & \\vdots & \\ddots & \\vdots \\\\ a_{N1} & a_{N2} & \\dots & a_{NN}\\end{bmatrix} - λ \\begin{bmatrix} 1 & 0 & \\dots & 0 \\\\ 0 & 1 & \\dots & 0 \\\\ \\vdots & \\vdots & \\ddots & \\vdots \\\\ 0 & 0 & \\dots & 1\\end{bmatrix} = \\begin{bmatrix}a_{11}-λ & a_{12} & \\dots & a_{1N} \\\\ a_{21} & a_{22}-λ & \\dots & a_{2N} \\\\ \\vdots & \\vdots & \\ddots & \\vdots \\\\ a_{N1} & a_{N2} & \\dots & a_{NN}-λ\\end{bmatrix}$$\n",
    "και παίρνουμε την ορίζουσά του. Αυτή θα μας οδηγήσει σε ένα πολυώνυμο του $λ$ (χαρακτηριστικό πολυώνυμο του πίνακα $Α$), οι ρίζες του οποίου απότελούν τις ιδιοτιμές $λ_i$ του πίνακα $Α$. Στη συνέχεια, για την εύρεση των ιδιοδιανυσμάτων $X_i$, αντικαθιστούμε κάθε μια εκ των ιδιοτιμών $λ_i$, ξεχωριστά στη εξίσωση $[1]$, και λύνουμε το σύστημα που προκύπτει, ως προς τα στοιχεία $x_{ji}$ του αντίστοιχου ιδιοδιανύσματος $Χ_i$.\n",
    "\n",
    "ΠΡΟΣΟΧΗ: τα σύνολα τιμών των δεικτών $i$ και $j$ είναι: $i=[1,2,...,m]$ και $j=[1,2,...,N]$, όπου $m$ το πλήθος των ιδιοτιμών του πίνακα $Α$. "
   ]
  },
  {
   "cell_type": "code",
   "execution_count": 19,
   "metadata": {},
   "outputs": [],
   "source": [
    "# Ορισμός συμβολικής μεταβλητής λ που αντιπροσωπεύει τις άγνωστες ιδιοτιμές\n",
    "λ = smp.symbols(\"λ\")"
   ]
  },
  {
   "cell_type": "code",
   "execution_count": 20,
   "metadata": {},
   "outputs": [
    {
     "data": {
      "text/latex": [
       "$\\displaystyle \\left[\\begin{matrix}2 - λ & 5\\\\-1 & 4 - λ\\end{matrix}\\right]$"
      ],
      "text/plain": [
       "Matrix([\n",
       "[2 - λ,     5],\n",
       "[   -1, 4 - λ]])"
      ]
     },
     "metadata": {},
     "output_type": "display_data"
    }
   ],
   "source": [
    "# Ιδιοτιμές του πίνακα F\n",
    "# Ορισμός του πίνακα F' = F - λ*Ι, όπου Ι ο ταυτοτικός πίνακας \n",
    "# ίδιων διστάσεων με τον πίνακα F (εδώ 2x2)\n",
    "F_aug = F - λ*smp.Matrix([[1,0],[0,1]]) # εναλλακτικά χρησιμοποιείται και η εντολή smp.eye(2) για τον ταυτοτικό πίνακα\n",
    "display(F_aug)"
   ]
  },
  {
   "cell_type": "code",
   "execution_count": 21,
   "metadata": {},
   "outputs": [
    {
     "data": {
      "text/latex": [
       "$\\displaystyle λ^{2} - 6 λ + 13$"
      ],
      "text/plain": [
       "λ**2 - 6*λ + 13"
      ]
     },
     "metadata": {},
     "output_type": "display_data"
    }
   ],
   "source": [
    "# Ορίζουσα του πίνακα F'\n",
    "det_F_aug = smp.det(F_aug)\n",
    "display(det_F_aug)"
   ]
  },
  {
   "cell_type": "code",
   "execution_count": 22,
   "metadata": {},
   "outputs": [
    {
     "data": {
      "text/plain": [
       "[3 - 2*I, 3 + 2*I]"
      ]
     },
     "execution_count": 22,
     "metadata": {},
     "output_type": "execute_result"
    }
   ],
   "source": [
    "# Λύση της εξίσωσης |F'|=0 για την εύρεση των ιδιοτιμών του πίνακα F\n",
    "λ_F = smp.solve(det_F_aug)\n",
    "λ_F"
   ]
  },
  {
   "cell_type": "code",
   "execution_count": 23,
   "metadata": {},
   "outputs": [
    {
     "data": {
      "text/latex": [
       "$\\displaystyle \\left[\\begin{matrix}x_{1}\\\\x_{2}\\end{matrix}\\right]$"
      ],
      "text/plain": [
       "Matrix([\n",
       "[x_1],\n",
       "[x_2]])"
      ]
     },
     "execution_count": 23,
     "metadata": {},
     "output_type": "execute_result"
    }
   ],
   "source": [
    "# Ορισμός πίνακα-στήλη X που αντιπροσωπεύει τα άγνωστα ιδιοδιανύσματα\n",
    "x1,x2 = smp.symbols(\"x_1,x_2\")\n",
    "X = smp.Matrix([x1,x2])\n",
    "X"
   ]
  },
  {
   "cell_type": "code",
   "execution_count": 24,
   "metadata": {},
   "outputs": [
    {
     "data": {
      "text/latex": [
       "$\\displaystyle \\left[\\begin{matrix}2 x_{1} - x_{1} \\left(3 - 2 i\\right) + 5 x_{2}\\\\- x_{1} + 4 x_{2} - x_{2} \\left(3 - 2 i\\right)\\end{matrix}\\right]$"
      ],
      "text/plain": [
       "Matrix([\n",
       "[2*x_1 - x_1*(3 - 2*I) + 5*x_2],\n",
       "[ -x_1 + 4*x_2 - x_2*(3 - 2*I)]])"
      ]
     },
     "execution_count": 24,
     "metadata": {},
     "output_type": "execute_result"
    }
   ],
   "source": [
    "# Ιδιοδιάνυσμα X1 για λ = λ_1 = 3-2i\n",
    "λ1 = λ_F[0]\n",
    "S1 = F*X - λ1*X\n",
    "S1"
   ]
  },
  {
   "cell_type": "code",
   "execution_count": 25,
   "metadata": {},
   "outputs": [
    {
     "data": {
      "text/plain": [
       "{x_1: x_2*(1 + 2*I)}"
      ]
     },
     "execution_count": 25,
     "metadata": {},
     "output_type": "execute_result"
    }
   ],
   "source": [
    "# Eύρεση των στοιχείων του X1\n",
    "smp.solve(S1,x1,x2)"
   ]
  },
  {
   "cell_type": "code",
   "execution_count": 26,
   "metadata": {},
   "outputs": [
    {
     "data": {
      "text/latex": [
       "$\\displaystyle \\left[\\begin{matrix}x_{2} \\left(1 + 2 i\\right)\\\\x_{2}\\end{matrix}\\right]$"
      ],
      "text/plain": [
       "Matrix([\n",
       "[x_2*(1 + 2*I)],\n",
       "[          x_2]])"
      ]
     },
     "metadata": {},
     "output_type": "display_data"
    },
    {
     "data": {
      "text/latex": [
       "$\\displaystyle \\left[\\begin{matrix}1 + 2 i\\\\1\\end{matrix}\\right]$"
      ],
      "text/plain": [
       "Matrix([\n",
       "[1 + 2*I],\n",
       "[      1]])"
      ]
     },
     "metadata": {},
     "output_type": "display_data"
    }
   ],
   "source": [
    "# Επομένως το X1 έχει την παρακάτω γενική μορφή\n",
    "X1_gen = smp.Matrix([x2*(1+2*smp.I),x2])\n",
    "display(X1_gen)\n",
    "\n",
    "# Παίρνουμε την απλούστερη μορφή για x2=1\n",
    "X1 = X1_gen.subs(x2,1)\n",
    "display(X1)"
   ]
  },
  {
   "cell_type": "code",
   "execution_count": 27,
   "metadata": {},
   "outputs": [
    {
     "data": {
      "text/latex": [
       "$\\displaystyle \\left[\\begin{matrix}7 + 4 i\\\\3 - 2 i\\end{matrix}\\right]$"
      ],
      "text/plain": [
       "Matrix([\n",
       "[7 + 4*I],\n",
       "[3 - 2*I]])"
      ]
     },
     "metadata": {},
     "output_type": "display_data"
    },
    {
     "data": {
      "text/latex": [
       "$\\displaystyle \\left[\\begin{matrix}7 + 4 i\\\\3 - 2 i\\end{matrix}\\right]$"
      ],
      "text/plain": [
       "Matrix([\n",
       "[7 + 4*I],\n",
       "[3 - 2*I]])"
      ]
     },
     "metadata": {},
     "output_type": "display_data"
    },
    {
     "data": {
      "text/plain": [
       "True"
      ]
     },
     "execution_count": 27,
     "metadata": {},
     "output_type": "execute_result"
    }
   ],
   "source": [
    "# Επαλήθευση του ιδιοδιανύσματος Χ1\n",
    "display(F*X1)\n",
    "\n",
    "display(smp.simplify((λ1*X1)))\n",
    "\n",
    "F*X1==smp.simplify((λ1*X1))"
   ]
  },
  {
   "cell_type": "code",
   "execution_count": 28,
   "metadata": {},
   "outputs": [
    {
     "data": {
      "text/latex": [
       "$\\displaystyle \\left[\\begin{matrix}2 x_{1} - x_{1} \\left(3 + 2 i\\right) + 5 x_{2}\\\\- x_{1} + 4 x_{2} - x_{2} \\left(3 + 2 i\\right)\\end{matrix}\\right]$"
      ],
      "text/plain": [
       "Matrix([\n",
       "[2*x_1 - x_1*(3 + 2*I) + 5*x_2],\n",
       "[ -x_1 + 4*x_2 - x_2*(3 + 2*I)]])"
      ]
     },
     "execution_count": 28,
     "metadata": {},
     "output_type": "execute_result"
    }
   ],
   "source": [
    "# Ιδιοδιάνυσμα X2 για λ = λ_2 = 3+2i\n",
    "λ2 = λ_F[1]\n",
    "S2 = F*X - λ2*X\n",
    "S2"
   ]
  },
  {
   "cell_type": "code",
   "execution_count": 29,
   "metadata": {},
   "outputs": [
    {
     "data": {
      "text/plain": [
       "{x_1: x_2*(1 - 2*I)}"
      ]
     },
     "execution_count": 29,
     "metadata": {},
     "output_type": "execute_result"
    }
   ],
   "source": [
    "# Eύρεση των στοιχείων του X2\n",
    "smp.solve(S2,x1,x2)"
   ]
  },
  {
   "cell_type": "code",
   "execution_count": 30,
   "metadata": {},
   "outputs": [
    {
     "data": {
      "text/latex": [
       "$\\displaystyle \\left[\\begin{matrix}x_{2} \\left(1 - 2 i\\right)\\\\x_{2}\\end{matrix}\\right]$"
      ],
      "text/plain": [
       "Matrix([\n",
       "[x_2*(1 - 2*I)],\n",
       "[          x_2]])"
      ]
     },
     "metadata": {},
     "output_type": "display_data"
    },
    {
     "data": {
      "text/latex": [
       "$\\displaystyle \\left[\\begin{matrix}1 - 2 i\\\\1\\end{matrix}\\right]$"
      ],
      "text/plain": [
       "Matrix([\n",
       "[1 - 2*I],\n",
       "[      1]])"
      ]
     },
     "metadata": {},
     "output_type": "display_data"
    }
   ],
   "source": [
    "# Επομένως το X2 έχει την παρακάτω γενική μορφή\n",
    "X2_gen = smp.Matrix([x2*(1-2*smp.I),x2])\n",
    "display(X2_gen)\n",
    "\n",
    "# Παίρνουμε την απλούστερη μορφή για x2=1\n",
    "X2 = X2_gen.subs(x2,1)\n",
    "display(X2)"
   ]
  },
  {
   "cell_type": "code",
   "execution_count": 31,
   "metadata": {},
   "outputs": [
    {
     "data": {
      "text/latex": [
       "$\\displaystyle \\left[\\begin{matrix}7 - 4 i\\\\3 + 2 i\\end{matrix}\\right]$"
      ],
      "text/plain": [
       "Matrix([\n",
       "[7 - 4*I],\n",
       "[3 + 2*I]])"
      ]
     },
     "metadata": {},
     "output_type": "display_data"
    },
    {
     "data": {
      "text/latex": [
       "$\\displaystyle \\left[\\begin{matrix}7 - 4 i\\\\3 + 2 i\\end{matrix}\\right]$"
      ],
      "text/plain": [
       "Matrix([\n",
       "[7 - 4*I],\n",
       "[3 + 2*I]])"
      ]
     },
     "metadata": {},
     "output_type": "display_data"
    },
    {
     "data": {
      "text/plain": [
       "True"
      ]
     },
     "execution_count": 31,
     "metadata": {},
     "output_type": "execute_result"
    }
   ],
   "source": [
    "# Επαλήθευση του ιδιοδιανύσματος Χ2\n",
    "display(F*X2)\n",
    "\n",
    "display(smp.simplify((λ2*X2)))\n",
    "\n",
    "F*X2==smp.simplify((λ2*X2))"
   ]
  },
  {
   "cell_type": "markdown",
   "metadata": {},
   "source": [
    "## **Παράδειγμα 3**\n",
    "\n",
    "Να οριστεί ο παρακάτω 5x5 τετραγωνικός πίνακας:\n",
    "$$Α=\\begin{bmatrix} 4 & 1 & 2 & 3 & 5\\\\ 1 & 3 & 1 & 4 & 2\\\\\n",
    "2 & 1 & 5 & 2 & 3\\\\ 3 & 4 & 2 & 4 & 1\\\\ 5 & 2 & 3 & 1 & 5\\end{bmatrix}$$\n",
    "\n",
    "**α.** Δείξτε ότι ο πίνακας $A$ είναι συμμετρικός.<br>\n",
    "**β.** Βρείτε αν ο πίνακας $Α$ είναι αντιστρέψιμος. Αν είναι\n",
    "αντιστρέψιμος βρείτε τον αντίστροφο του $Α$. Να επαληθεύσετε\n",
    "ότι ο αντίστροφος που βρήκατε είναι σωστός.<br>\n",
    "**γ.** Βρείτε τις ιδιοτιμές και τα ιδιοδιανύσματα του πίνακα $A$.\n",
    "\n",
    "**Λύση**"
   ]
  },
  {
   "cell_type": "code",
   "execution_count": null,
   "metadata": {},
   "outputs": [],
   "source": []
  }
 ],
 "metadata": {
  "kernelspec": {
   "display_name": "Python 3",
   "language": "python",
   "name": "python3"
  },
  "language_info": {
   "codemirror_mode": {
    "name": "ipython",
    "version": 3
   },
   "file_extension": ".py",
   "mimetype": "text/x-python",
   "name": "python",
   "nbconvert_exporter": "python",
   "pygments_lexer": "ipython3",
   "version": "3.11.6"
  }
 },
 "nbformat": 4,
 "nbformat_minor": 2
}
