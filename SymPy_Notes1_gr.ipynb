{
 "cells": [
  {
   "cell_type": "markdown",
   "metadata": {},
   "source": [
    "**ΤΜΗΜΑ ΦΥΣΙΚΗΣ - ΑΡΙΣΤΟΤΕΛΕΙΟ ΠΑΝΕΠΙΣΤΗΜΙΟ ΘΕΣΣΑΛΟΝΙΚΗΣ**<br>\n",
    "**ΜΑΘΗΜΑ: Προβλήματα Κβαντικής Φυσικής [ΓΘΕ204]**<br>\n",
    "**ΑΚΑΔΗΜΑΪΚΟ ΕΤΟΣ: 2024-2025**\n",
    "\n",
    "***Σημειωματάριο SymPy 1:***<br>\n",
    "-Εισαγωγή<br>\n",
    "-Συμβολικοί υπολογισμοί<br>\n",
    "-Aλγεβρικός χειρισμός \n",
    "\n",
    "**Σημειώσεις: Ιωάννης Στεργάκης (μεταπτυχιακός φοιτητής του ΠΜΣ Υπολογιστικής Φυσικής ΑΠΘ)**"
   ]
  },
  {
   "cell_type": "markdown",
   "metadata": {},
   "source": [
    "# **Εισαγωγή στη `SymPy`**\n",
    "\n",
    "**- Τι είναι η `SymPy`;**\n",
    "\n",
    "Η `SymPy` είναι μια βιβλιοθήκη της Python (`module`) για συμβολικά μαθηματικά. Επιτρέπει το χειρισμό μαθηματικών εκφράσεων σε συμβολική μορφή (όπως στη **Mathematica**) και όχι μόνο αριθμητικούς υπολογισμούς. Η δύναμη της `SymPy` έγκειται στην ευκολία χρήσης, την πληρότητα και την ικανότητά της να χρησιμοποιείται εξ ολοκλήρου στην Python χωρίς εξωτερικές εξαρτήσεις. Η `SymPy` ενσωματώνεται απρόσκοπτα με τα σημειωματάρια Jupyter Notebooks, προσφέροντας έξοδο σε μορφή $\\LaTeX$ που εμφανίζει εξισώσεις και εκφράσεις σε μια πιο ευανάγνωστη, μαθηματική μορφή. Έτσι, είναι ιδιαίτερα χρήσιμο για φοιτητές, ερευνητές και μηχανικούς που εργάζονται με μαθηματικές εκφράσεις ή εξισώσεις.\n",
    "\n",
    "**- Ποιες είναι οι εφαρμογές ή μάλλον σε τι είναι χρήσιμη η `SymPy`;**\n",
    "\n",
    "1. **Συμβολικός υπολογισμός**: Σε αντίθεση με τις παραδοσιακές αριθμητικές μεθόδους, η `SymPy` μπορεί να λύσει μαθηματικά προβλήματα σε ακριβή συμβολική μορφή. Αυτό σημαίνει ότι μπορούμε να λάβουμε αποτελέσματα με άπειρη ακρίβεια, όπως $\\frac{1}{3}$, αντί για προσεγγίσεις κινητής υποδιαστολής, όπως $0.3333333333$.\n",
    "\n",
    "2. **Αλγεβρικός χειρισμός**: Η `SymPy` επιτρέπει στους χρήστες να απλοποιήσουν πολύπλοκες εκφράσεις, να παραγοντοποιήσουν εκτεταμένες εκφράσεις ή να αναπτύξουν παραγοντικές μορφές, καθιστώντας την ένα σπουδαίο και χρήσιμο εργαλείο για υπολογιστικές εργασίες με μεγάλο βάρος στην άλγεβρα.\n",
    "\n",
    "3. **Γραμμική Άλγεβρα**: Η βιβλιοθήκη περιλαμβάνει δυνατότητες για την εργασία με πίνακες και την εκτέλεση πράξεων όπως η αντιστροφή πινάκων, ο υπολογισμός οριζουσών και ο υπολογισμός ιδιοτιμών με συμβολικό τρόπο.\n",
    "\n",
    "4. **Απειροστικός λογισμός**: Η `SymPy` μπορεί να εκτελέσει συμβολική διαφοροποίηση και ολοκλήρωση, να βρει όρια και να χειριστεί επεκτάσεις σειρών, παρέχοντας ένα ισχυρό εργαλείο για προβλήματα απειροστικού λογισμού.\n",
    "\n",
    "5. **Επίλυση εξισώσεων**: Η `SymPy` μπορεί να επιλύει αλγεβρικές, υπερβατικές και διαφορικές εξισώσεις αναλυτικά, γεγονός που αποτελεί σημαντικό πλεονέκτημα έναντι των αριθμητικών επιλυτών, όταν απαιτούνται ακριβείς λύσεις."
   ]
  },
  {
   "cell_type": "markdown",
   "metadata": {},
   "source": [
    "# **Εφαρμογή 1: Συμβολικός υπολογισμός**\n",
    "\n",
    "Θα ξεκινήσουμε με τα βασικά στοιχεία της `SymPy`. Αυτά περιλαμβάνουν τον ορισμό των συμβόλων και των συμβολικών συναρτήσεων, καθώς και την αντικατάσταση και την αριθμητική εκτίμηση σε συμβολικές εκφράσεις."
   ]
  },
  {
   "cell_type": "code",
   "execution_count": 1,
   "metadata": {},
   "outputs": [],
   "source": [
    "# Εισαγωγή της βιβλιοθήκης  SymPy (μην το ξεχνάτε ποτέ αυτό !!!)\n",
    "import sympy as smp"
   ]
  },
  {
   "cell_type": "markdown",
   "metadata": {},
   "source": [
    "## A. Ορισμός συμβόλων"
   ]
  },
  {
   "cell_type": "markdown",
   "metadata": {},
   "source": [
    "### **Βασικά σύμβολα**"
   ]
  },
  {
   "cell_type": "code",
   "execution_count": 2,
   "metadata": {},
   "outputs": [
    {
     "name": "stdout",
     "output_type": "stream",
     "text": [
      "<class 'sympy.core.symbol.Symbol'>\n"
     ]
    }
   ],
   "source": [
    "# Ορισμός ενός συμβόλου\n",
    "x = smp.symbols(\"x\")\n",
    "print(type(x))"
   ]
  },
  {
   "cell_type": "code",
   "execution_count": 3,
   "metadata": {},
   "outputs": [
    {
     "name": "stdout",
     "output_type": "stream",
     "text": [
      "The output of print is:\n",
      "x^2 x_0\n",
      "The output of display is:\n"
     ]
    },
    {
     "data": {
      "text/latex": [
       "$\\displaystyle x^{2}$"
      ],
      "text/plain": [
       "x^2"
      ]
     },
     "metadata": {},
     "output_type": "display_data"
    },
    {
     "data": {
      "text/latex": [
       "$\\displaystyle x_{0}$"
      ],
      "text/plain": [
       "x_0"
      ]
     },
     "metadata": {},
     "output_type": "display_data"
    }
   ],
   "source": [
    "# Σύμβολα με εκθέτη και δείκτη\n",
    "x_sq = smp.symbols(\"x^2\")\n",
    "x0 = smp.symbols(\"x_0\")\n",
    "\n",
    "# Εμφάνιση της εξόδου της εντολής 'print'\n",
    "print(\"The output of print is:\")\n",
    "print(x_sq,x0)\n",
    "\n",
    "# Εμφάνιση της εξόδου της εντολής 'display'\n",
    "print(\"The output of display is:\")\n",
    "display(x_sq,x0) "
   ]
  },
  {
   "cell_type": "code",
   "execution_count": 4,
   "metadata": {},
   "outputs": [
    {
     "data": {
      "text/latex": [
       "$\\displaystyle y$"
      ],
      "text/plain": [
       "y"
      ]
     },
     "metadata": {},
     "output_type": "display_data"
    },
    {
     "data": {
      "text/latex": [
       "$\\displaystyle z$"
      ],
      "text/plain": [
       "z"
      ]
     },
     "metadata": {},
     "output_type": "display_data"
    }
   ],
   "source": [
    "# Ορισμός πολλαπλών συμβόλων\n",
    "y,z = smp.symbols(\"y z\")\n",
    "display(y,z)"
   ]
  },
  {
   "cell_type": "code",
   "execution_count": 5,
   "metadata": {},
   "outputs": [
    {
     "data": {
      "text/plain": [
       "False"
      ]
     },
     "execution_count": 5,
     "metadata": {},
     "output_type": "execute_result"
    }
   ],
   "source": [
    "# Προσθήκη επιλογών κατά τον ορισμό συμβόλων\n",
    "m = smp.symbols(\"m\",real=True)\n",
    "m.is_imaginary"
   ]
  },
  {
   "cell_type": "code",
   "execution_count": 6,
   "metadata": {},
   "outputs": [
    {
     "data": {
      "text/latex": [
       "$\\displaystyle \\text{False}$"
      ],
      "text/plain": [
       "False"
      ]
     },
     "execution_count": 6,
     "metadata": {},
     "output_type": "execute_result"
    }
   ],
   "source": [
    "# Ένα ακόμα παράδειγμα προσθήκης υποθέσεων\n",
    "n = smp.symbols(\"n\",negative=True)\n",
    "n>=0"
   ]
  },
  {
   "cell_type": "code",
   "execution_count": 7,
   "metadata": {},
   "outputs": [
    {
     "data": {
      "text/plain": [
       "True"
      ]
     },
     "metadata": {},
     "output_type": "display_data"
    },
    {
     "data": {
      "text/plain": [
       "False"
      ]
     },
     "metadata": {},
     "output_type": "display_data"
    }
   ],
   "source": [
    "# Ένα ακόμα παράδειγμα προσθήκης υποθέσεων\n",
    "k = smp.symbols(\"k\",nonzero=True)\n",
    "display(k!=0)\n",
    "display(k==0)"
   ]
  },
  {
   "cell_type": "markdown",
   "metadata": {},
   "source": [
    "### **Ειδικά σύμβολα και τύποι αριθμών**"
   ]
  },
  {
   "cell_type": "code",
   "execution_count": 8,
   "metadata": {},
   "outputs": [
    {
     "data": {
      "text/latex": [
       "$\\displaystyle i$"
      ],
      "text/plain": [
       "I"
      ]
     },
     "metadata": {},
     "output_type": "display_data"
    },
    {
     "data": {
      "text/latex": [
       "$\\displaystyle \\pi$"
      ],
      "text/plain": [
       "pi"
      ]
     },
     "metadata": {},
     "output_type": "display_data"
    },
    {
     "data": {
      "text/latex": [
       "$\\displaystyle e$"
      ],
      "text/plain": [
       "E"
      ]
     },
     "metadata": {},
     "output_type": "display_data"
    },
    {
     "data": {
      "text/latex": [
       "$\\displaystyle \\infty$"
      ],
      "text/plain": [
       "oo"
      ]
     },
     "metadata": {},
     "output_type": "display_data"
    },
    {
     "data": {
      "text/latex": [
       "$\\displaystyle -\\infty$"
      ],
      "text/plain": [
       "-oo"
      ]
     },
     "metadata": {},
     "output_type": "display_data"
    },
    {
     "data": {
      "text/latex": [
       "$\\displaystyle \\hbar$"
      ],
      "text/plain": [
       "hbar"
      ]
     },
     "metadata": {},
     "output_type": "display_data"
    }
   ],
   "source": [
    "# Ειδικά σύμβολα της SymPy\n",
    "display(smp.I,smp.pi,smp.E,smp.oo,-smp.oo)\n",
    "hbar = smp.symbols(\"hbar\")\n",
    "display(hbar)"
   ]
  },
  {
   "cell_type": "code",
   "execution_count": 9,
   "metadata": {},
   "outputs": [
    {
     "data": {
      "text/latex": [
       "$\\displaystyle \\left(-1\\right)^{l}$"
      ],
      "text/plain": [
       "(-1)**l"
      ]
     },
     "execution_count": 9,
     "metadata": {},
     "output_type": "execute_result"
    }
   ],
   "source": [
    "# Παράδειγμα με προσθήκη υπόθεσης και ειδικό σύμβολο\n",
    "l = smp.symbols(\"l\",integer=True)\n",
    "smp.cos(l*smp.pi)"
   ]
  },
  {
   "cell_type": "markdown",
   "metadata": {},
   "source": [
    "Η `SymPy` υποστηρίζει 3 τύπους αριθμών: `Real`, `Integer` και `Rational` αριθμούς:"
   ]
  },
  {
   "cell_type": "code",
   "execution_count": 10,
   "metadata": {},
   "outputs": [
    {
     "data": {
      "text/latex": [
       "$\\displaystyle 5$"
      ],
      "text/plain": [
       "5"
      ]
     },
     "metadata": {},
     "output_type": "display_data"
    },
    {
     "data": {
      "text/latex": [
       "$\\displaystyle 7$"
      ],
      "text/plain": [
       "7"
      ]
     },
     "metadata": {},
     "output_type": "display_data"
    }
   ],
   "source": [
    "# Ακέραιοι (Integers) αριθμοί\n",
    "int_1 = smp.Integer(5.6)\n",
    "display(int_1)\n",
    "\n",
    "int_2 = smp.Integer(7.3)\n",
    "display(int_2)"
   ]
  },
  {
   "cell_type": "code",
   "execution_count": 11,
   "metadata": {},
   "outputs": [
    {
     "data": {
      "text/latex": [
       "$\\displaystyle \\frac{6}{7}$"
      ],
      "text/plain": [
       "6/7"
      ]
     },
     "metadata": {},
     "output_type": "display_data"
    }
   ],
   "source": [
    "# Ρητοί (Rational) αριθμοί\n",
    "k = smp.Rational(6,7)\n",
    "display(k)"
   ]
  },
  {
   "cell_type": "markdown",
   "metadata": {},
   "source": [
    "### **Μιγαδικοί αριθμοί**"
   ]
  },
  {
   "cell_type": "code",
   "execution_count": 12,
   "metadata": {},
   "outputs": [
    {
     "data": {
      "text/latex": [
       "$\\displaystyle 2 + 5 i$"
      ],
      "text/plain": [
       "2 + 5*I"
      ]
     },
     "metadata": {},
     "output_type": "display_data"
    },
    {
     "data": {
      "text/plain": [
       "True"
      ]
     },
     "execution_count": 12,
     "metadata": {},
     "output_type": "execute_result"
    }
   ],
   "source": [
    "# Μιγαδικοί αριθμοί\n",
    "c = 2+5*smp.I\n",
    "display(c)\n",
    "c.is_complex"
   ]
  },
  {
   "cell_type": "code",
   "execution_count": 13,
   "metadata": {},
   "outputs": [
    {
     "data": {
      "text/latex": [
       "$\\displaystyle 2 - 5 i$"
      ],
      "text/plain": [
       "2 - 5*I"
      ]
     },
     "metadata": {},
     "output_type": "display_data"
    }
   ],
   "source": [
    "# Συζυγής ενός μιγαδικού αριθμού\n",
    "c_conj = smp.conjugate(c)\n",
    "display(c_conj)"
   ]
  },
  {
   "cell_type": "code",
   "execution_count": 14,
   "metadata": {},
   "outputs": [
    {
     "data": {
      "text/latex": [
       "$\\displaystyle \\overline{x}$"
      ],
      "text/plain": [
       "conjugate(x)"
      ]
     },
     "metadata": {},
     "output_type": "display_data"
    }
   ],
   "source": [
    "# Εναλλακτική απεικόνιση του μιγαδικού συζυγή\n",
    "x = smp.symbols(\"x\")\n",
    "display(smp.conjugate(x))"
   ]
  },
  {
   "cell_type": "markdown",
   "metadata": {},
   "source": [
    "### **Συμβολική μορφή πράξεων boolean**"
   ]
  },
  {
   "cell_type": "code",
   "execution_count": 15,
   "metadata": {},
   "outputs": [
    {
     "data": {
      "text/latex": [
       "$\\displaystyle a = b$"
      ],
      "text/plain": [
       "Eq(a, b)"
      ]
     },
     "metadata": {},
     "output_type": "display_data"
    },
    {
     "data": {
      "text/latex": [
       "$\\displaystyle a > b$"
      ],
      "text/plain": [
       "a > b"
      ]
     },
     "metadata": {},
     "output_type": "display_data"
    },
    {
     "data": {
      "text/latex": [
       "$\\displaystyle a \\geq b$"
      ],
      "text/plain": [
       "a >= b"
      ]
     },
     "metadata": {},
     "output_type": "display_data"
    },
    {
     "data": {
      "text/latex": [
       "$\\displaystyle a < b$"
      ],
      "text/plain": [
       "a < b"
      ]
     },
     "metadata": {},
     "output_type": "display_data"
    },
    {
     "data": {
      "text/latex": [
       "$\\displaystyle a \\leq b$"
      ],
      "text/plain": [
       "a <= b"
      ]
     },
     "metadata": {},
     "output_type": "display_data"
    },
    {
     "data": {
      "text/latex": [
       "$\\displaystyle a \\neq b$"
      ],
      "text/plain": [
       "Ne(a, b)"
      ]
     },
     "metadata": {},
     "output_type": "display_data"
    }
   ],
   "source": [
    "a,b = smp.symbols(\"a b\")\n",
    "\n",
    "display(smp.Eq(a,b))\n",
    "display(smp.Gt(a,b))\n",
    "display(smp.Ge(a,b))\n",
    "display(smp.Lt(a,b))\n",
    "display(smp.Le(a,b))\n",
    "display(smp.Ne(a,b))"
   ]
  },
  {
   "cell_type": "markdown",
   "metadata": {},
   "source": [
    "## **Παράδειγμα 1**\n",
    "\n",
    "Ορίστε δύο μιγαδικούς αριθμούς: $c_1 = 5\\pi+ 6i$ και $c_2 = 3\\pi + 7i$ και να εμφανίσετε τα ακόλουθα:\n",
    "\n",
    "**α.** Το άθροισμα: $c_1^{*}+c_2$<br>\n",
    "**β.** Το γινόμενοt: $c_1c_2^{*}$"
   ]
  },
  {
   "cell_type": "markdown",
   "metadata": {},
   "source": [
    "**Λύση**"
   ]
  },
  {
   "cell_type": "code",
   "execution_count": null,
   "metadata": {},
   "outputs": [],
   "source": []
  },
  {
   "cell_type": "markdown",
   "metadata": {},
   "source": [
    "## B. Αντικατάσταση και αριθμητική εκτίμηση "
   ]
  },
  {
   "cell_type": "markdown",
   "metadata": {},
   "source": [
    "### **Συμβολικές εκφράσεις**"
   ]
  },
  {
   "cell_type": "markdown",
   "metadata": {},
   "source": [
    "Η εντολή `subs()` αντικαθιστά ένα σύμβολο σε μια έκφραση με ένα άλλο σύμβολο ή με μια αριθμητική τιμή ή ακόμη και με μια ολόκληρη έκφραση:"
   ]
  },
  {
   "cell_type": "code",
   "execution_count": 16,
   "metadata": {},
   "outputs": [
    {
     "data": {
      "text/latex": [
       "$\\displaystyle \\left(2 a + x\\right)^{2}$"
      ],
      "text/plain": [
       "(2*a + x)**2"
      ]
     },
     "metadata": {},
     "output_type": "display_data"
    },
    {
     "data": {
      "text/latex": [
       "$\\displaystyle \\left(x + 6\\right)^{2}$"
      ],
      "text/plain": [
       "(x + 6)**2"
      ]
     },
     "metadata": {},
     "output_type": "display_data"
    },
    {
     "data": {
      "text/latex": [
       "$\\displaystyle \\left(2 a + 2\\right)^{2}$"
      ],
      "text/plain": [
       "(2*a + 2)**2"
      ]
     },
     "metadata": {},
     "output_type": "display_data"
    },
    {
     "data": {
      "text/latex": [
       "$\\displaystyle 64$"
      ],
      "text/plain": [
       "64"
      ]
     },
     "metadata": {},
     "output_type": "display_data"
    }
   ],
   "source": [
    "# Αντικατάσταση με μια αριθμητική τιμή\n",
    "x,a = smp.symbols(\"x,a\")\n",
    "y = (x+2*a)**2\n",
    "display(y)\n",
    "display(y.subs(a,3))\n",
    "display(y.subs(x,2))\n",
    "\n",
    "# Αντικατάσταση αριθμητικών τιμών τόσο για το x όσο και για το a\n",
    "y1 = y.subs([(x,2),(a,3)])\n",
    "display(y1)"
   ]
  },
  {
   "cell_type": "code",
   "execution_count": 17,
   "metadata": {},
   "outputs": [
    {
     "data": {
      "text/latex": [
       "$\\displaystyle \\left(2 b^{2} + 10 c + x\\right)^{2}$"
      ],
      "text/plain": [
       "(2*b**2 + 10*c + x)**2"
      ]
     },
     "metadata": {},
     "output_type": "display_data"
    }
   ],
   "source": [
    "# Αντικατάσταση με μια έκφραση\n",
    "b,c = smp.symbols(\"b,c\")\n",
    "\n",
    "display(y.subs(a,b**2+5*c))"
   ]
  },
  {
   "cell_type": "code",
   "execution_count": 18,
   "metadata": {},
   "outputs": [
    {
     "data": {
      "text/latex": [
       "$\\displaystyle \\left(x + \\pi\\right)^{2}$"
      ],
      "text/plain": [
       "(x + pi)**2"
      ]
     },
     "metadata": {},
     "output_type": "display_data"
    },
    {
     "data": {
      "text/latex": [
       "$\\displaystyle \\left(3 + \\pi\\right)^{2}$"
      ],
      "text/plain": [
       "(3 + pi)**2"
      ]
     },
     "metadata": {},
     "output_type": "display_data"
    }
   ],
   "source": [
    "# Αριθμητική εκτίμηση\n",
    "pi = smp.pi\n",
    "y3 = (x+pi)**2\n",
    "display(y3)\n",
    "display(y3.subs(x,3))"
   ]
  },
  {
   "cell_type": "markdown",
   "metadata": {},
   "source": [
    "Οι εντολές `evalf()` και `N()` χρησιμοποιούνται για την αριθμητική εκτίμηση μιας έκφρασης. Λαμβάνουν ένα όρισμα `n` που καθορίζει τον αριθμό των σημαντικών ψηφίων:"
   ]
  },
  {
   "cell_type": "code",
   "execution_count": 19,
   "metadata": {},
   "outputs": [
    {
     "data": {
      "text/latex": [
       "$\\displaystyle 37.7191603226281$"
      ],
      "text/plain": [
       "37.7191603226281"
      ]
     },
     "execution_count": 19,
     "metadata": {},
     "output_type": "execute_result"
    }
   ],
   "source": [
    "# 1ος τρόπος αριθμητικής εκτίμης\n",
    "y3.subs(x,3).evalf()"
   ]
  },
  {
   "cell_type": "code",
   "execution_count": 20,
   "metadata": {},
   "outputs": [
    {
     "data": {
      "text/latex": [
       "$\\displaystyle 37.7191603226281$"
      ],
      "text/plain": [
       "37.7191603226281"
      ]
     },
     "execution_count": 20,
     "metadata": {},
     "output_type": "execute_result"
    }
   ],
   "source": [
    "# 2ος τρόπος αριθμητικής εκτίμης\n",
    "smp.N(y3.subs(x,3))"
   ]
  },
  {
   "cell_type": "markdown",
   "metadata": {},
   "source": [
    "### **Συμβολικές συναρτήσεις**"
   ]
  },
  {
   "cell_type": "code",
   "execution_count": 21,
   "metadata": {},
   "outputs": [
    {
     "data": {
      "text/latex": [
       "$\\displaystyle \\left|{x}\\right|$"
      ],
      "text/plain": [
       "Abs(x)"
      ]
     },
     "metadata": {},
     "output_type": "display_data"
    },
    {
     "data": {
      "text/latex": [
       "$\\displaystyle x^{4.5}$"
      ],
      "text/plain": [
       "x**4.5"
      ]
     },
     "metadata": {},
     "output_type": "display_data"
    },
    {
     "data": {
      "text/latex": [
       "$\\displaystyle \\sqrt{x}$"
      ],
      "text/plain": [
       "sqrt(x)"
      ]
     },
     "metadata": {},
     "output_type": "display_data"
    },
    {
     "data": {
      "text/latex": [
       "$\\displaystyle \\sin{\\left(x \\right)}$"
      ],
      "text/plain": [
       "sin(x)"
      ]
     },
     "metadata": {},
     "output_type": "display_data"
    },
    {
     "data": {
      "text/latex": [
       "$\\displaystyle \\cos{\\left(x \\right)}$"
      ],
      "text/plain": [
       "cos(x)"
      ]
     },
     "metadata": {},
     "output_type": "display_data"
    },
    {
     "data": {
      "text/latex": [
       "$\\displaystyle \\log{\\left(x \\right)}$"
      ],
      "text/plain": [
       "log(x)"
      ]
     },
     "metadata": {},
     "output_type": "display_data"
    },
    {
     "data": {
      "text/latex": [
       "$\\displaystyle e^{x}$"
      ],
      "text/plain": [
       "exp(x)"
      ]
     },
     "metadata": {},
     "output_type": "display_data"
    }
   ],
   "source": [
    "# Συμβολική μορφή βασικών συναρτήσεων\n",
    "x = smp.symbols(\"x\")\n",
    "\n",
    "display(abs(x))\n",
    "display(pow(x,4.5))\n",
    "display(smp.sqrt(x))\n",
    "display(smp.sin(x))\n",
    "display(smp.cos(x))\n",
    "display(smp.log(x))\n",
    "display(smp.exp(x))"
   ]
  },
  {
   "cell_type": "markdown",
   "metadata": {},
   "source": [
    "Μπορούμε επίσης να ορίσουμε ένα σύμβολο ως συνάρτηση, χρησιμοποιώντας την εντολή `Function()`:"
   ]
  },
  {
   "cell_type": "code",
   "execution_count": 22,
   "metadata": {},
   "outputs": [],
   "source": [
    "# Ορισμός των ανεξάρτητων μεταβλητών\n",
    "x, y  = smp.symbols(\"x y\")\n",
    "\n",
    "# 1ος τρόπος ορισμού (το όρισμα της συνάρτησης δεν περιλαμβάνεται)\n",
    "u = smp.Function(\"u\")\n",
    "\n",
    "# 2ος τρόπος ορισμού (το όρισμα της συνάρτησης δεν περιλαμβάνεται)\n",
    "q = smp.symbols(\"q\",cls=smp.Function)\n",
    "\n",
    "# 3ος τρόπος ορισμού (το όρισματης συνάρτησης  περιλαμβάνεται)\n",
    "v = smp.Function(\"v\")(x)"
   ]
  },
  {
   "cell_type": "code",
   "execution_count": 23,
   "metadata": {},
   "outputs": [
    {
     "data": {
      "text/plain": [
       "u"
      ]
     },
     "metadata": {},
     "output_type": "display_data"
    },
    {
     "data": {
      "text/latex": [
       "$\\displaystyle u{\\left(x \\right)}$"
      ],
      "text/plain": [
       "u(x)"
      ]
     },
     "metadata": {},
     "output_type": "display_data"
    },
    {
     "data": {
      "text/latex": [
       "$\\displaystyle u{\\left(y \\right)}$"
      ],
      "text/plain": [
       "u(y)"
      ]
     },
     "metadata": {},
     "output_type": "display_data"
    },
    {
     "data": {
      "text/latex": [
       "$\\displaystyle u{\\left(x,y \\right)}$"
      ],
      "text/plain": [
       "u(x, y)"
      ]
     },
     "metadata": {},
     "output_type": "display_data"
    }
   ],
   "source": [
    "display(u)\n",
    "display(u(x))\n",
    "display(u(y))\n",
    "display(u(x,y))"
   ]
  },
  {
   "cell_type": "code",
   "execution_count": 24,
   "metadata": {},
   "outputs": [
    {
     "data": {
      "text/plain": [
       "q"
      ]
     },
     "metadata": {},
     "output_type": "display_data"
    },
    {
     "data": {
      "text/latex": [
       "$\\displaystyle q{\\left(x \\right)}$"
      ],
      "text/plain": [
       "q(x)"
      ]
     },
     "metadata": {},
     "output_type": "display_data"
    },
    {
     "data": {
      "text/latex": [
       "$\\displaystyle q{\\left(y \\right)}$"
      ],
      "text/plain": [
       "q(y)"
      ]
     },
     "metadata": {},
     "output_type": "display_data"
    },
    {
     "data": {
      "text/latex": [
       "$\\displaystyle q{\\left(x,y \\right)}$"
      ],
      "text/plain": [
       "q(x, y)"
      ]
     },
     "metadata": {},
     "output_type": "display_data"
    }
   ],
   "source": [
    "display(q)\n",
    "display(q(x))\n",
    "display(q(y))\n",
    "display(q(x,y))"
   ]
  },
  {
   "cell_type": "code",
   "execution_count": 25,
   "metadata": {},
   "outputs": [
    {
     "data": {
      "text/latex": [
       "$\\displaystyle v{\\left(x \\right)}$"
      ],
      "text/plain": [
       "v(x)"
      ]
     },
     "metadata": {},
     "output_type": "display_data"
    }
   ],
   "source": [
    "display(v)\n",
    "#display(v(x))"
   ]
  },
  {
   "cell_type": "code",
   "execution_count": 26,
   "metadata": {},
   "outputs": [],
   "source": [
    "# Ορισμός μιας συνάρτησης σε συμβολική μορφή\n",
    "def f_sym(x,a):\n",
    "    pi = smp.pi\n",
    "    return smp.exp(x-a) + a*smp.sin(x*pi/a)"
   ]
  },
  {
   "cell_type": "code",
   "execution_count": 27,
   "metadata": {},
   "outputs": [
    {
     "data": {
      "text/latex": [
       "$\\displaystyle b \\sin{\\left(\\frac{\\pi x}{b} \\right)} + e^{- b + x}$"
      ],
      "text/plain": [
       "b*sin(pi*x/b) + exp(-b + x)"
      ]
     },
     "metadata": {},
     "output_type": "display_data"
    }
   ],
   "source": [
    "x,b = smp.symbols(\"x,b\")\n",
    "\n",
    "# Αντικατάσταση και των δύο μεταβλητών x και a με σύμβολα στην έκφραση της συνάρτησης\n",
    "display(f_sym(x,b))"
   ]
  },
  {
   "cell_type": "code",
   "execution_count": 28,
   "metadata": {},
   "outputs": [
    {
     "data": {
      "text/latex": [
       "$\\displaystyle b \\sin{\\left(\\frac{2 \\pi}{b} \\right)} + e^{2 - b}$"
      ],
      "text/plain": [
       "b*sin(2*pi/b) + exp(2 - b)"
      ]
     },
     "metadata": {},
     "output_type": "display_data"
    }
   ],
   "source": [
    "# Δίνοντας μια αριθμητική τιμή στη μεταβλητή x και ένα σύμβολο στη μεταβλητή a\n",
    "display(f_sym(2,b))"
   ]
  },
  {
   "cell_type": "code",
   "execution_count": 29,
   "metadata": {},
   "outputs": [
    {
     "data": {
      "text/latex": [
       "$\\displaystyle e^{-1} + \\frac{3 \\sqrt{3}}{2}$"
      ],
      "text/plain": [
       "exp(-1) + 3*sqrt(3)/2"
      ]
     },
     "metadata": {},
     "output_type": "display_data"
    },
    {
     "data": {
      "text/latex": [
       "$\\displaystyle e^{-1} + \\frac{3 \\sqrt{3}}{2}$"
      ],
      "text/plain": [
       "exp(-1) + 3*sqrt(3)/2"
      ]
     },
     "metadata": {},
     "output_type": "display_data"
    },
    {
     "data": {
      "text/latex": [
       "$\\displaystyle b$"
      ],
      "text/plain": [
       "b"
      ]
     },
     "metadata": {},
     "output_type": "display_data"
    }
   ],
   "source": [
    "# Δίνοντας μια αριθμητική τιμή στην παράμετρο a\n",
    "display(f_sym(2,3))\n",
    "\n",
    "# Αντικατάσταση του 'b' με μια τιμή\n",
    "display(f_sym(2,b).subs(b,3))\n",
    "display(b)"
   ]
  },
  {
   "cell_type": "code",
   "execution_count": 30,
   "metadata": {},
   "outputs": [
    {
     "data": {
      "text/latex": [
       "$\\displaystyle 2.96596$"
      ],
      "text/plain": [
       "2.96596"
      ]
     },
     "metadata": {},
     "output_type": "display_data"
    },
    {
     "data": {
      "text/latex": [
       "$\\displaystyle 2.96596$"
      ],
      "text/plain": [
       "2.96596"
      ]
     },
     "metadata": {},
     "output_type": "display_data"
    }
   ],
   "source": [
    "# Αντικατάσταση του 'b' με μια τιμή και αριθμητικής εκτίμηση της συνάρτησης\n",
    "display(f_sym(2,b).subs(b,3).evalf(n=6))\n",
    "display(smp.N(f_sym(2,b).subs(b,3),6))"
   ]
  },
  {
   "cell_type": "markdown",
   "metadata": {},
   "source": [
    "Η αντιμετώπιση ενός μεγάλου αριθμού υπολογισμών στο πλαίσιο μιας εργασίας, απαιτεί συχνά έναν αποτελεσματικό τρόπο, ώστε οι υπολογισμοί αυτοί να ολοκληρώνονται στον ελάχιστο δυνατό χρόνο. Η `SymPy` στις περισσότερες περιπτώσεις, είναι αργή στην αριθμητική εκτίμηση. Ωστόσο, υπάρχει ένας τρόπος να επιτχυνθεί η αριθμητική αξιολόγηση της `SymPy`, με τη χρήση της εντολής `lambdify()`. Αυτή η εντολή, ουσιαστικά «μεταγλωττίζει» μια δεδομένη συμβολική έκφραση σε μια αριθμητική συνάρτηση, η οποία εκτελεί τις απαραίτητες αριθμητικές αξιολογήσεις πολύ πιο γρήγορα."
   ]
  },
  {
   "cell_type": "code",
   "execution_count": 31,
   "metadata": {},
   "outputs": [
    {
     "data": {
      "text/plain": [
       "array([  1.        ,   1.04925142,   1.09608478,   1.14063909,\n",
       "         1.18306057,   1.223503  ,   1.26212813,   1.29910609,\n",
       "         1.33461582,   1.36884553,   1.4019932 ,   1.43426702,\n",
       "         1.46588602,   1.49708053,   1.52809284,   1.55917777,\n",
       "         1.59060336,   1.62265154,   1.6556188 ,   1.68981705,\n",
       "         1.72557431,   1.76323562,   1.80316388,   1.84574079,\n",
       "         1.89136782,   1.94046726,   1.99348325,   2.05088294,\n",
       "         2.11315769,   2.1808243 ,   2.25442637,   2.33453563,\n",
       "         2.42175342,   2.51671227,   2.62007745,   2.73254868,\n",
       "         2.85486196,   2.98779139,   3.13215119,   3.28879773,\n",
       "         3.45863178,   3.64260074,   3.8417011 ,   4.05698096,\n",
       "         4.28954275,   4.54054595,   4.81121016,   5.10281812,\n",
       "         5.41671904,   5.754332  ,   6.11714961,   6.50674181,\n",
       "         6.92475983,   7.37294047,   7.8531105 ,   8.36719129,\n",
       "         8.91720377,   9.50527355,  10.13363635,  10.80464371,\n",
       "        11.52076897,  12.28461362,  13.09891388,  13.96654775,\n",
       "        14.89054228,  15.87408136,  16.92051378,  18.03336184,\n",
       "        19.21633027,  20.47331573,  21.80841674,  23.22594412,\n",
       "        24.730432  ,  26.32664941,  28.01961239,  29.81459685,\n",
       "        31.71715199,  33.73311448,  35.86862334,  38.1301356 ,\n",
       "        40.52444277,  43.0586882 ,  45.74038526,  48.57743652,\n",
       "        51.57815396,  54.75128011,  58.10601037,  61.65201651,\n",
       "        65.3994713 ,  69.35907449,  73.54208011,  77.96032514,\n",
       "        82.62625979,  87.55297917,  92.75425677,  98.24457957,\n",
       "       104.03918503, 110.1540999 , 116.60618118, 123.4131591 ])"
      ]
     },
     "metadata": {},
     "output_type": "display_data"
    },
    {
     "data": {
      "image/png": "[encoded data removed]",
      "text/plain": [
       "<Figure size 640x480 with 1 Axes>"
      ]
     },
     "metadata": {},
     "output_type": "display_data"
    }
   ],
   "source": [
    "# Ορισμός μιας συνάρτησης με την εντολή lambdify()\n",
    "x = smp.symbols(\"x\",real=True)\n",
    "f_lambd = smp.lambdify([x],smp.exp(x)-x**2,\"numpy\")\n",
    "\n",
    "# Παρατηρήστε ότι το πρώτο όρισμα της εντολής είναι μια λίστα μεταβλητών των οποίων\n",
    "# η f_lambd θα είναι συνάρτηση τους. Σε αυτή την περίπτωση έχουμε μια μόνο μεταβλητή\n",
    "# δηλαδή είναι μόνο x -> f_lambd(x)\n",
    "\n",
    "# Δημιουργία ενός linspace με 100 σημεία στο διάστημα [0,5]\n",
    "from numpy import linspace\n",
    "x_vals = linspace(0,5,100)\n",
    "\n",
    "# Εκτύπωση των τιμών της f_lambd στα σημεία του linspace\n",
    "display(f_lambd(x_vals))\n",
    "\n",
    "# Απεικόνιση της συμπεριφοράς του f_lambd στο διάστημα [0,5]\n",
    "import matplotlib.pyplot as plt\n",
    "\n",
    "plt.plot(x_vals,f_lambd(x_vals))\n",
    "plt.xlabel(r\"$x$\")\n",
    "plt.ylabel(r\"$f_{lambd}(x)$\")\n",
    "plt.show()"
   ]
  },
  {
   "cell_type": "markdown",
   "metadata": {},
   "source": [
    "### **Συμβολικές κλαδικές συναρτήσεις**"
   ]
  },
  {
   "cell_type": "markdown",
   "metadata": {},
   "source": [
    "Μπορούμε επίσης να ορίσουμε κλαδικές συναρτήσεις στην `SymPy`, χρησιμοποιώντας την εντολή `Piecewise()`. Ο τρόπος που μπορούμε να το κάνουμε αυτό φαίνεται παρακάτω:"
   ]
  },
  {
   "cell_type": "code",
   "execution_count": 32,
   "metadata": {},
   "outputs": [],
   "source": [
    "def f_pwise(x):\n",
    "    case1 = (5,smp.Eq(x,0))\n",
    "    case2 = (x+1,smp.Ge(x,1)&smp.Le(x,10))\n",
    "    case3 = (x/2,True)\n",
    "    return smp.Piecewise(case1,case2,case3)"
   ]
  },
  {
   "cell_type": "code",
   "execution_count": 33,
   "metadata": {},
   "outputs": [
    {
     "data": {
      "text/latex": [
       "$\\displaystyle \\begin{cases} 5 & \\text{for}\\: x = 0 \\\\x + 1 & \\text{for}\\: x \\geq 1 \\wedge x \\leq 10 \\\\\\frac{x}{2} & \\text{otherwise} \\end{cases}$"
      ],
      "text/plain": [
       "Piecewise((5, Eq(x, 0)), (x + 1, (x >= 1) & (x <= 10)), (x/2, True))"
      ]
     },
     "execution_count": 33,
     "metadata": {},
     "output_type": "execute_result"
    }
   ],
   "source": [
    "x = smp.symbols(\"x\")\n",
    "f_pwise(x)"
   ]
  },
  {
   "cell_type": "code",
   "execution_count": 34,
   "metadata": {},
   "outputs": [
    {
     "data": {
      "text/plain": [
       "False"
      ]
     },
     "metadata": {},
     "output_type": "display_data"
    },
    {
     "data": {
      "text/latex": [
       "$\\displaystyle \\begin{cases} y + 1 & \\text{for}\\: y \\geq 1 \\wedge y \\leq 10 \\\\\\frac{y}{2} & \\text{otherwise} \\end{cases}$"
      ],
      "text/plain": [
       "Piecewise((y + 1, (y >= 1) & (y <= 10)), (y/2, True))"
      ]
     },
     "metadata": {},
     "output_type": "display_data"
    }
   ],
   "source": [
    "y = smp.symbols(\"y\",nonzero=True)  # το y είναι ένας πραγματικός και μη-μηδενικός αριθμός\n",
    "display(y.is_imaginary)\n",
    "display(f_pwise(y))"
   ]
  },
  {
   "cell_type": "code",
   "execution_count": 35,
   "metadata": {},
   "outputs": [
    {
     "data": {
      "text/latex": [
       "$\\displaystyle 5$"
      ],
      "text/plain": [
       "5"
      ]
     },
     "metadata": {},
     "output_type": "display_data"
    },
    {
     "data": {
      "text/latex": [
       "$\\displaystyle 8$"
      ],
      "text/plain": [
       "8"
      ]
     },
     "metadata": {},
     "output_type": "display_data"
    },
    {
     "data": {
      "text/latex": [
       "$\\displaystyle 6.5$"
      ],
      "text/plain": [
       "6.50000000000000"
      ]
     },
     "metadata": {},
     "output_type": "display_data"
    }
   ],
   "source": [
    "display(f_pwise(0))\n",
    "display(f_pwise(7))\n",
    "display(f_pwise(13))"
   ]
  },
  {
   "cell_type": "markdown",
   "metadata": {},
   "source": [
    "## **Παράδειγμα 2**\n",
    "\n",
    "Ορίστε μια συνάρτηση με το όνομα $g$ και συμβολικό τύπο: $$g(x,y,a)=\\ln(|x-a|e)+|y|^2$$\n",
    "\n",
    "και εκτελέστε τις ακόλουθες 3 εργασίες:\n",
    "\n",
    "**α.** Ορίστε 3 σύμβολα «x», «y» και «a» και εμφανίστε τον τύπο της συνάρτησης.\n",
    "\n",
    "**β.** Δείξτε την έκφραση που προκύπτει για την $g$ όταν $x=2$ και $y=4$. Στη συνέχεια, αντικαταστήστε την τιμή 5 στην παράμετρο $a$ και εμφανίστε το αποτέλεσμα. Τέλος, να εκτιμήσετε αριθμητικά την τιμή του $g$, με έως και 5 σημαντικά ψηφία.\n",
    "\n",
    "**γ.** Ορίστε ένα σύμβολο «z», το οποίο θεωρείστε ως μιγαδικό αριθμό. Ορίστε επίσης τον συζυγή αυτού του συμβόλου. Εμφανίστε την έκφραση της συνάρτησης\n",
    "$g$<br>\n",
    "όταν $x=$\"x\", $y$=\"z\" και $a=3$. Εφόσον το σύμβολο \"z\" είναι ένας μιγαδικός αριθμός, μην ξεχάσετε να αντικαταστήσετε την έκφραση $|z|^2$ με την έκφραση $z\\bar{z}$."
   ]
  },
  {
   "cell_type": "markdown",
   "metadata": {},
   "source": [
    "**Λύση**"
   ]
  },
  {
   "cell_type": "code",
   "execution_count": null,
   "metadata": {},
   "outputs": [],
   "source": []
  },
  {
   "cell_type": "markdown",
   "metadata": {},
   "source": [
    "# **Εφαρμογή 2: Αλγεβρικός χειρισμός**\n",
    "\n",
    "Προκειμένου να διαχειριστούμε συμβολικές εκφράσεις, μια σειρά από συναρτήσεις της `SymPy`, προσφέρονται για να κάνουν τα πράγματα ευκολότερα."
   ]
  },
  {
   "cell_type": "markdown",
   "metadata": {},
   "source": [
    "## A. Ανάπτυξη και παραγοντοποίηση"
   ]
  },
  {
   "cell_type": "markdown",
   "metadata": {},
   "source": [
    "### **Ανάπτυξη**\n",
    "\n",
    "Η συνάρτηση `expand()` εκτελεί όλους τους υπολογισμούς σε μια συμβολική έκφραση και πραγματοποιεί αναγωγή ομοίων όρων:"
   ]
  },
  {
   "cell_type": "code",
   "execution_count": 36,
   "metadata": {},
   "outputs": [
    {
     "data": {
      "text/latex": [
       "$\\displaystyle x^{3} - 6 x^{2} + 11 x - 6$"
      ],
      "text/plain": [
       "x**3 - 6*x**2 + 11*x - 6"
      ]
     },
     "metadata": {},
     "output_type": "display_data"
    },
    {
     "data": {
      "text/latex": [
       "$\\displaystyle x^{2} - 4 x + 4$"
      ],
      "text/plain": [
       "x**2 - 4*x + 4"
      ]
     },
     "metadata": {},
     "output_type": "display_data"
    }
   ],
   "source": [
    "# Ανάπτυξη πολυωνυμικών εκφράσεων\n",
    "x = smp.symbols(\"x\")\n",
    "\n",
    "expr_1 = (x-1)*(x-2)*(x-3)\n",
    "expr_2 = (x-2)**2\n",
    "\n",
    "display(smp.expand(expr_1))\n",
    "display(smp.expand(expr_2))"
   ]
  },
  {
   "cell_type": "code",
   "execution_count": 37,
   "metadata": {},
   "outputs": [
    {
     "data": {
      "text/latex": [
       "$\\displaystyle - \\sin{\\left(x \\right)} \\sin{\\left(y \\right)} + \\cos{\\left(x \\right)} \\cos{\\left(y \\right)}$"
      ],
      "text/plain": [
       "-sin(x)*sin(y) + cos(x)*cos(y)"
      ]
     },
     "metadata": {},
     "output_type": "display_data"
    },
    {
     "data": {
      "text/latex": [
       "$\\displaystyle \\sin{\\left(x \\right)} \\cos{\\left(y \\right)} + \\sin{\\left(y \\right)} \\cos{\\left(x \\right)}$"
      ],
      "text/plain": [
       "sin(x)*cos(y) + sin(y)*cos(x)"
      ]
     },
     "metadata": {},
     "output_type": "display_data"
    }
   ],
   "source": [
    "# Ανάπτυξη τριγωνομετρικών εκφράσεων\n",
    "y = smp.symbols(\"y\")\n",
    "expr_3 = smp.cos(x+y)\n",
    "expr_4 = smp.sin(x+y)\n",
    "\n",
    "display(smp.expand(expr_3,trig=True))\n",
    "display(smp.expand(expr_4,trig=True))"
   ]
  },
  {
   "cell_type": "code",
   "execution_count": 38,
   "metadata": {},
   "outputs": [
    {
     "data": {
      "text/latex": [
       "$\\displaystyle e^{3} e^{x} e^{y}$"
      ],
      "text/plain": [
       "exp(3)*exp(x)*exp(y)"
      ]
     },
     "metadata": {},
     "output_type": "display_data"
    }
   ],
   "source": [
    "# Ανάπτυξη εκθετικών εκφράσεων\n",
    "expr_5 = smp.exp(x+y+3)\n",
    "display(smp.expand(expr_5))"
   ]
  },
  {
   "cell_type": "code",
   "execution_count": 39,
   "metadata": {},
   "outputs": [
    {
     "data": {
      "text/latex": [
       "$\\displaystyle \\left(2 + 5 i\\right) \\left(5 - 2 i\\right)$"
      ],
      "text/plain": [
       "(2 + 5*I)*(5 - 2*I)"
      ]
     },
     "metadata": {},
     "output_type": "display_data"
    },
    {
     "data": {
      "text/latex": [
       "$\\displaystyle 20 + 21 i$"
      ],
      "text/plain": [
       "20 + 21*I"
      ]
     },
     "metadata": {},
     "output_type": "display_data"
    }
   ],
   "source": [
    "# Ανάπτυξη εκφράσεων μιγαδικών αριθμών 1\n",
    "i = smp.I\n",
    "c1 = 5-2*i\n",
    "c2 = 2+5*i\n",
    "\n",
    "expr_6 = c1*c2\n",
    "display(expr_6)\n",
    "display(smp.expand_complex(expr_6))"
   ]
  },
  {
   "cell_type": "code",
   "execution_count": 40,
   "metadata": {},
   "outputs": [
    {
     "data": {
      "text/latex": [
       "$\\displaystyle e^{i θ}$"
      ],
      "text/plain": [
       "exp(I*θ)"
      ]
     },
     "metadata": {},
     "output_type": "display_data"
    },
    {
     "data": {
      "text/latex": [
       "$\\displaystyle i \\sin{\\left(θ \\right)} + \\cos{\\left(θ \\right)}$"
      ],
      "text/plain": [
       "I*sin(θ) + cos(θ)"
      ]
     },
     "metadata": {},
     "output_type": "display_data"
    }
   ],
   "source": [
    "# Ανάπτυξη εκφράσεων μιγαδικών αριθμών 2\n",
    "theta = smp.symbols(\"θ\",real=True)\n",
    "expr_7 = smp.exp(i*theta)\n",
    "display(expr_7)\n",
    "display(smp.expand_complex(expr_7))"
   ]
  },
  {
   "cell_type": "markdown",
   "metadata": {},
   "source": [
    "### **Παραγοντοποίηση**\n",
    "\n",
    "Η συνάρτηση `factor()` μετατρέπει τη δεδομένη έκφραση σε γινόμενο παραγόντων, εάν αυτό είναι δυνατό:"
   ]
  },
  {
   "cell_type": "code",
   "execution_count": 41,
   "metadata": {},
   "outputs": [
    {
     "data": {
      "text/latex": [
       "$\\displaystyle \\left(x - 3\\right)^{2}$"
      ],
      "text/plain": [
       "(x - 3)**2"
      ]
     },
     "metadata": {},
     "output_type": "display_data"
    },
    {
     "data": {
      "text/latex": [
       "$\\displaystyle \\left(x + 1\\right) \\left(x + 2\\right) \\left(x + 3\\right)$"
      ],
      "text/plain": [
       "(x + 1)*(x + 2)*(x + 3)"
      ]
     },
     "metadata": {},
     "output_type": "display_data"
    }
   ],
   "source": [
    "# Παραγοντοποίηση πολυωνυμικών εκφράσεων\n",
    "expr_8 = x**2 -6*x + 9\n",
    "expr_9 = x**3 + 6*x**2 + 11*x + 6\n",
    "display(smp.factor(expr_8))\n",
    "display(smp.factor(expr_9))"
   ]
  },
  {
   "cell_type": "markdown",
   "metadata": {},
   "source": [
    "## B. Διαχωρισμός και συνδυασμός\n",
    "\n",
    "Για συμβολικές εκφράσεις που περιέχουν κλάσματα μπορούμε να χρησιμοποιήσουμε τις εντολές `apart()` και/ή `together()`."
   ]
  },
  {
   "cell_type": "markdown",
   "metadata": {},
   "source": [
    "### **Διαχωρισμός κλασμάτων**\n",
    "\n",
    "Η εντολή `apart()` διαχωρίζει ένα ενιαίο κλάσμα σε πολλαπλά κλάσματα με διαφορετικούς παρονομαστές:"
   ]
  },
  {
   "cell_type": "code",
   "execution_count": 42,
   "metadata": {},
   "outputs": [
    {
     "data": {
      "text/latex": [
       "$\\displaystyle \\frac{1}{\\left(x - 1\\right) \\left(x + 1\\right)}$"
      ],
      "text/plain": [
       "1/((x - 1)*(x + 1))"
      ]
     },
     "metadata": {},
     "output_type": "display_data"
    },
    {
     "data": {
      "text/latex": [
       "$\\displaystyle - \\frac{1}{2 \\left(x + 1\\right)} + \\frac{1}{2 \\left(x - 1\\right)}$"
      ],
      "text/plain": [
       "-1/(2*(x + 1)) + 1/(2*(x - 1))"
      ]
     },
     "metadata": {},
     "output_type": "display_data"
    }
   ],
   "source": [
    "x = smp.symbols(\"x\")\n",
    "expr_10 = 1/((x-1)*(x+1))\n",
    "display(expr_10)\n",
    "display(smp.apart(expr_10))"
   ]
  },
  {
   "cell_type": "code",
   "execution_count": 43,
   "metadata": {},
   "outputs": [
    {
     "data": {
      "text/latex": [
       "$\\displaystyle \\frac{1}{\\left(x - 3\\right) \\left(x - 2\\right) \\left(x - 1\\right)}$"
      ],
      "text/plain": [
       "1/((x - 3)*(x - 2)*(x - 1))"
      ]
     },
     "metadata": {},
     "output_type": "display_data"
    },
    {
     "data": {
      "text/latex": [
       "$\\displaystyle \\frac{1}{2 \\left(x - 1\\right)} - \\frac{1}{x - 2} + \\frac{1}{2 \\left(x - 3\\right)}$"
      ],
      "text/plain": [
       "1/(2*(x - 1)) - 1/(x - 2) + 1/(2*(x - 3))"
      ]
     },
     "metadata": {},
     "output_type": "display_data"
    }
   ],
   "source": [
    "expr_11 = 1/((x-1)*(x-2)*(x-3))\n",
    "display(expr_11)\n",
    "display(smp.apart(expr_11))"
   ]
  },
  {
   "cell_type": "markdown",
   "metadata": {},
   "source": [
    "### **Συνδυασμός κλασμάτων**\n",
    "\n",
    "Η συνάρτηση `together()` είναι το αντίθετο της συνάρτησης `apart()`. Δηλαδή, συνδυάζει πολλαπλά κλάσματα με διαφορετικούς παρονομαστές σε ένα ενιαίο κλάσμα:"
   ]
  },
  {
   "cell_type": "code",
   "execution_count": 44,
   "metadata": {},
   "outputs": [
    {
     "data": {
      "text/latex": [
       "$\\displaystyle \\frac{1}{x + 2} + \\frac{1}{x - 2}$"
      ],
      "text/plain": [
       "1/(x + 2) + 1/(x - 2)"
      ]
     },
     "metadata": {},
     "output_type": "display_data"
    },
    {
     "data": {
      "text/latex": [
       "$\\displaystyle \\frac{2 x}{\\left(x - 2\\right) \\left(x + 2\\right)}$"
      ],
      "text/plain": [
       "2*x/((x - 2)*(x + 2))"
      ]
     },
     "metadata": {},
     "output_type": "display_data"
    }
   ],
   "source": [
    "expr_12 = 1/(x+2) + 1/(x-2)\n",
    "display(expr_12)\n",
    "display(smp.together(expr_12))"
   ]
  },
  {
   "cell_type": "code",
   "execution_count": 45,
   "metadata": {},
   "outputs": [
    {
     "data": {
      "text/latex": [
       "$\\displaystyle \\frac{1}{x - 1} + \\frac{1}{x - 2} + \\frac{1}{x - 3}$"
      ],
      "text/plain": [
       "1/(x - 1) + 1/(x - 2) + 1/(x - 3)"
      ]
     },
     "metadata": {},
     "output_type": "display_data"
    },
    {
     "data": {
      "text/latex": [
       "$\\displaystyle \\frac{\\left(x - 3\\right) \\left(x - 2\\right) + \\left(x - 3\\right) \\left(x - 1\\right) + \\left(x - 2\\right) \\left(x - 1\\right)}{\\left(x - 3\\right) \\left(x - 2\\right) \\left(x - 1\\right)}$"
      ],
      "text/plain": [
       "((x - 3)*(x - 2) + (x - 3)*(x - 1) + (x - 2)*(x - 1))/((x - 3)*(x - 2)*(x - 1))"
      ]
     },
     "metadata": {},
     "output_type": "display_data"
    }
   ],
   "source": [
    "expr_13 = 1/(x-1)+ 1/(x-2) + 1/(x-3)\n",
    "display(expr_13)\n",
    "display(smp.together(expr_13))"
   ]
  },
  {
   "cell_type": "markdown",
   "metadata": {},
   "source": [
    "## C. Απλοποίηση\n",
    "\n",
    "Η εντολή `simplify()` προσπαθεί να απλοποιήσει μια έκφραση σε μια πιο κομψή μορφή, χρησιμοποιώντας διάφορες τεχνικές. Υπάρχουν επίσης πιο εξειδικευμένες εναλλακτικές λύσεις της συνάρτησης `simplify()`, όπως για παράδειγμα οι εντολές: `trigsimp()`, `powsimp()`, `logcombine()`, κλπ. Η `Simplify`, συνήθως συνδυάζει κλάσματα αλλά δεν τα παραγοντοποιεί:"
   ]
  },
  {
   "cell_type": "code",
   "execution_count": 46,
   "metadata": {},
   "outputs": [
    {
     "data": {
      "text/latex": [
       "$\\displaystyle \\frac{3 x^{2} - 12 x + 11}{x^{3} - 6 x^{2} + 11 x - 6}$"
      ],
      "text/plain": [
       "(3*x**2 - 12*x + 11)/(x**3 - 6*x**2 + 11*x - 6)"
      ]
     },
     "metadata": {},
     "output_type": "display_data"
    }
   ],
   "source": [
    "display(smp.simplify(expr_13))"
   ]
  },
  {
   "cell_type": "code",
   "execution_count": 47,
   "metadata": {},
   "outputs": [
    {
     "data": {
      "text/latex": [
       "$\\displaystyle 2 \\sin{\\left(x \\right)} \\cos{\\left(x \\right)}$"
      ],
      "text/plain": [
       "2*sin(x)*cos(x)"
      ]
     },
     "metadata": {},
     "output_type": "display_data"
    },
    {
     "data": {
      "text/latex": [
       "$\\displaystyle \\sin{\\left(2 x \\right)}$"
      ],
      "text/plain": [
       "sin(2*x)"
      ]
     },
     "metadata": {},
     "output_type": "display_data"
    },
    {
     "data": {
      "text/latex": [
       "$\\displaystyle 1 - 2 \\sin^{2}{\\left(x \\right)}$"
      ],
      "text/plain": [
       "1 - 2*sin(x)**2"
      ]
     },
     "metadata": {},
     "output_type": "display_data"
    },
    {
     "data": {
      "text/latex": [
       "$\\displaystyle \\cos{\\left(2 x \\right)}$"
      ],
      "text/plain": [
       "cos(2*x)"
      ]
     },
     "metadata": {},
     "output_type": "display_data"
    }
   ],
   "source": [
    "expr_14 = 2*smp.sin(x)*smp.cos(x)\n",
    "expr_15 = 1-2*smp.sin(x)**2\n",
    "display(expr_14)\n",
    "display(smp.simplify(expr_14))\n",
    "display(expr_15)\n",
    "display(smp.simplify(expr_15))"
   ]
  }
 ],
 "metadata": {
  "kernelspec": {
   "display_name": "Python 3",
   "language": "python",
   "name": "python3"
  },
  "language_info": {
   "codemirror_mode": {
    "name": "ipython",
    "version": 3
   },
   "file_extension": ".py",
   "mimetype": "text/x-python",
   "name": "python",
   "nbconvert_exporter": "python",
   "pygments_lexer": "ipython3",
   "version": "3.11.6"
  }
 },
 "nbformat": 4,
 "nbformat_minor": 2
}
