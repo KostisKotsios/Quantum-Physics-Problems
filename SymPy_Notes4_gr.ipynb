{
 "cells": [
  {
   "cell_type": "markdown",
   "metadata": {},
   "source": [
    "**ΤΜΗΜΑ ΦΥΣΙΚΗΣ - ΑΡΙΣΤΟΤΕΛΕΙΟ ΠΑΝΕΠΙΣΤΗΜΙΟ ΘΕΣΣΑΛΟΝΙΚΗΣ**<br>\n",
    "**ΜΑΘΗΜΑ: Προβλήματα Κβαντικής Φυσικής [ΓΘΕ204]**<br>\n",
    "**ΑΚΑΔΗΜΑΪΚΟ ΕΤΟΣ: 2024-2025**\n",
    "\n",
    "***Σημειωματάριο SymPy 4:***<br>\n",
    "-Επίλυση αλγεβρικών εξισώσεων και συστημάτων εξισώσεων με τη `SymPy`<br>\n",
    "-Επίλυση συνήθων διαφορικών εξισώσεων με τη `SymPy`<br>\n",
    "-Επίλυση προβλημάτων αρχικών τιμών με τη `SymPy`<br>\n",
    "\n",
    "**Σημειώσεις: Ιωάννης Στεργάκης (μεταπτυχιακός φοιτητής του ΠΜΣ Υπολογιστικής Φυσικής ΑΠΘ)**"
   ]
  },
  {
   "cell_type": "code",
   "execution_count": 1,
   "metadata": {},
   "outputs": [],
   "source": [
    "# Εισαγωγή της βιβλιοθήκης SymPy (μην το ξεχνάτε ποτέ αυτό !!!)\n",
    "import sympy as smp"
   ]
  },
  {
   "cell_type": "markdown",
   "metadata": {},
   "source": [
    "# **Εφαρμογή 5: Επίλυση εξισώσεων**\n",
    "\n",
    "Η `SymPy` προσφέρει εργαλεία με τα οποία μπορούμε να λύσουμε αλγεβρικές ή/και συνήθεις διαφορικές εξισώσεις, αναλυτικά. "
   ]
  },
  {
   "cell_type": "markdown",
   "metadata": {},
   "source": [
    "## A. Επίλυση αλγεβρικών εξισώσεων και συστημάτων αλγεβρικών εξισώσεων"
   ]
  },
  {
   "cell_type": "markdown",
   "metadata": {},
   "source": [
    "### **Επίλυση εξισώσεων**"
   ]
  },
  {
   "cell_type": "markdown",
   "metadata": {},
   "source": [
    "Μπορούμε να χρησιμοποιήσουμε την εντολή `solve()` για να λύσουμε μια αλγεβρική εξίσωση:"
   ]
  },
  {
   "cell_type": "code",
   "execution_count": 2,
   "metadata": {},
   "outputs": [
    {
     "data": {
      "text/plain": [
       "[-2, 2]"
      ]
     },
     "execution_count": 2,
     "metadata": {},
     "output_type": "execute_result"
    }
   ],
   "source": [
    "# Παράδειγμα 1: εξίσωση με πραγματικές μόνο ρίζες\n",
    "x = smp.symbols(\"x\")\n",
    "eq1 = x**2 - 4\n",
    "smp.solve(eq1,x)"
   ]
  },
  {
   "cell_type": "code",
   "execution_count": 3,
   "metadata": {},
   "outputs": [
    {
     "data": {
      "text/plain": [
       "[-2*I, 2*I]"
      ]
     },
     "execution_count": 3,
     "metadata": {},
     "output_type": "execute_result"
    }
   ],
   "source": [
    "# Παράδειγμα 2: εξίσωση με φανταστικές μόνο ρίζες\n",
    "x = smp.symbols(\"x\")\n",
    "eq2 = x**2 + 4\n",
    "smp.solve(eq2,x)"
   ]
  },
  {
   "cell_type": "code",
   "execution_count": 4,
   "metadata": {},
   "outputs": [
    {
     "data": {
      "text/latex": [
       "$\\displaystyle \\frac{- b - \\sqrt{- 4 a c + b^{2}}}{2 a}$"
      ],
      "text/plain": [
       "(-b - sqrt(-4*a*c + b**2))/(2*a)"
      ]
     },
     "metadata": {},
     "output_type": "display_data"
    },
    {
     "data": {
      "text/latex": [
       "$\\displaystyle \\frac{- b + \\sqrt{- 4 a c + b^{2}}}{2 a}$"
      ],
      "text/plain": [
       "(-b + sqrt(-4*a*c + b**2))/(2*a)"
      ]
     },
     "metadata": {},
     "output_type": "display_data"
    }
   ],
   "source": [
    "# Παράδειγμα 3: εξίσωση με παραμέτρους\n",
    "x = smp.symbols(\"x\")\n",
    "a,b,c = smp.symbols(\"a,b,c\")\n",
    "eq3 = a*x**2+b*x+c\n",
    "roots_eq3 = smp.solve(eq3,x)\n",
    "# Ξεχωριστή εκτύπωση κάθε ρίζας\n",
    "for root in roots_eq3:\n",
    "    display(root)"
   ]
  },
  {
   "cell_type": "code",
   "execution_count": 5,
   "metadata": {},
   "outputs": [
    {
     "data": {
      "text/plain": [
       "[-sqrt(3)/2 - I/2, -sqrt(3)/2 + I/2, sqrt(3)/2 - I/2, sqrt(3)/2 + I/2]"
      ]
     },
     "metadata": {},
     "output_type": "display_data"
    },
    {
     "data": {
      "text/latex": [
       "$\\displaystyle - \\frac{\\sqrt{3}}{2} - \\frac{i}{2}$"
      ],
      "text/plain": [
       "-sqrt(3)/2 - I/2"
      ]
     },
     "metadata": {},
     "output_type": "display_data"
    },
    {
     "data": {
      "text/latex": [
       "$\\displaystyle - \\frac{\\sqrt{3}}{2} + \\frac{i}{2}$"
      ],
      "text/plain": [
       "-sqrt(3)/2 + I/2"
      ]
     },
     "metadata": {},
     "output_type": "display_data"
    },
    {
     "data": {
      "text/latex": [
       "$\\displaystyle \\frac{\\sqrt{3}}{2} - \\frac{i}{2}$"
      ],
      "text/plain": [
       "sqrt(3)/2 - I/2"
      ]
     },
     "metadata": {},
     "output_type": "display_data"
    },
    {
     "data": {
      "text/latex": [
       "$\\displaystyle \\frac{\\sqrt{3}}{2} + \\frac{i}{2}$"
      ],
      "text/plain": [
       "sqrt(3)/2 + I/2"
      ]
     },
     "metadata": {},
     "output_type": "display_data"
    }
   ],
   "source": [
    "# Παράδειγμα 4: εξίσωση με μιγαδικές ρίζες\n",
    "x = smp.symbols(\"x\")\n",
    "eq4 = x**4 - x**2 + 1\n",
    "roots_eq4 = smp.solve(eq4, x)\n",
    "display(roots_eq4)\n",
    "# Ξεχωριστή εκτύπωση κάθε ρίζας\n",
    "for root in roots_eq4:\n",
    "    display(root)"
   ]
  },
  {
   "cell_type": "markdown",
   "metadata": {},
   "source": [
    "Μια άλλη χρήσιμη εντολή είναι η εντολή `solveset()`:"
   ]
  },
  {
   "cell_type": "code",
   "execution_count": 6,
   "metadata": {},
   "outputs": [
    {
     "data": {
      "text/latex": [
       "$\\displaystyle \\left\\{- \\frac{\\sqrt{3}}{2} - \\frac{i}{2}, - \\frac{\\sqrt{3}}{2} + \\frac{i}{2}, \\frac{\\sqrt{3}}{2} - \\frac{i}{2}, \\frac{\\sqrt{3}}{2} + \\frac{i}{2}\\right\\}$"
      ],
      "text/plain": [
       "{-sqrt(3)/2 - I/2, -sqrt(3)/2 + I/2, sqrt(3)/2 - I/2, sqrt(3)/2 + I/2}"
      ]
     },
     "metadata": {},
     "output_type": "display_data"
    }
   ],
   "source": [
    "# Παράδειγμα 5: ίδιο με το Παράδειγμα 4, αλλά με τη χρήση της εντολής solveset()\n",
    "x = smp.symbols(\"x\")\n",
    "eq5 = eq4\n",
    "roots_eq5 = smp.solveset(eq5,x)\n",
    "display(roots_eq5)"
   ]
  },
  {
   "cell_type": "markdown",
   "metadata": {},
   "source": [
    "Η κύρια διαφορά είναι η έξοδος αυτών των δύο εντολών: η μέθοδος `solve()` επιστρέφει έναν **πίνακα τύπου array** και τα περιεχόμενά του μπορούν να χρησιμοποιηθούν άμεσα, ενώ η μέθοδος `solveset()` επιστρέφει το αποτέλεσμα με έναν πιο κομψό τρόπο, αλλά χρειάζεται κάποια επιπλέον βήματα για να χρησιμοποιηθούν οι τιμές των ριζών:"
   ]
  },
  {
   "cell_type": "code",
   "execution_count": 7,
   "metadata": {},
   "outputs": [
    {
     "data": {
      "text/latex": [
       "$\\displaystyle - \\frac{\\sqrt{3}}{2} - \\frac{i}{2}$"
      ],
      "text/plain": [
       "-sqrt(3)/2 - I/2"
      ]
     },
     "metadata": {},
     "output_type": "display_data"
    }
   ],
   "source": [
    "# Λήψη της πρώτης ρίζας της εξίσωσης 4 (eq4) από το Παράδειγμα 4\n",
    "root_prime_exmpl4 = roots_eq4[0]\n",
    "display(root_prime_exmpl4)"
   ]
  },
  {
   "cell_type": "code",
   "execution_count": 8,
   "metadata": {},
   "outputs": [],
   "source": [
    "# Η πρώτη ρίζα της εξίσωσης 5 (eq5) από το Παράδειγμα 5 (λάθος τρόπος)\n",
    "# root_prime_exmpl5 = roots_eq5[0] # αυτό θα επιστρέψει σφάλμα\n",
    "# print(root_prime_exmpl5)"
   ]
  },
  {
   "cell_type": "code",
   "execution_count": 9,
   "metadata": {},
   "outputs": [
    {
     "name": "stdout",
     "output_type": "stream",
     "text": [
      "(-sqrt(3)/2 - I/2, -sqrt(3)/2 + I/2, sqrt(3)/2 - I/2, sqrt(3)/2 + I/2)\n"
     ]
    },
    {
     "data": {
      "text/latex": [
       "$\\displaystyle - \\frac{\\sqrt{3}}{2} - \\frac{i}{2}$"
      ],
      "text/plain": [
       "-sqrt(3)/2 - I/2"
      ]
     },
     "metadata": {},
     "output_type": "display_data"
    }
   ],
   "source": [
    "# Η πρώτη ρίζα της εξίσωσης 5 (eq5) από το Παράδειγμα 5 (Σωστός τρόπος)\n",
    "roots_eq5_vals = roots_eq5.args # αυτό θα επιστρέψει μια πλειάδα (tuple) με τις ρίζες\n",
    "print(roots_eq5_vals)\n",
    "# print(type(roots5_vals))\n",
    "root_prime_exmpl5 = roots_eq5_vals[0] # λαμβάνοντας το πρώτο στοιχείο της πλειάδας\n",
    "display(root_prime_exmpl5)"
   ]
  },
  {
   "cell_type": "markdown",
   "metadata": {},
   "source": [
    "Επομένως, γιατί χρειαζόμαστε την `solveset()` αφού η έξοδός της είναι πιο περίπλοκη στη χρήση;"
   ]
  },
  {
   "cell_type": "code",
   "execution_count": 10,
   "metadata": {},
   "outputs": [
    {
     "data": {
      "text/plain": [
       "[0, 2*pi]"
      ]
     },
     "metadata": {},
     "output_type": "display_data"
    },
    {
     "data": {
      "text/latex": [
       "$\\displaystyle \\left\\{2 n \\pi\\; \\middle|\\; n \\in \\mathbb{Z}\\right\\}$"
      ],
      "text/plain": [
       "ImageSet(Lambda(_n, 2*_n*pi), Integers)"
      ]
     },
     "metadata": {},
     "output_type": "display_data"
    }
   ],
   "source": [
    "# Παράδειγμα 6: τριγωνομετρική εξίσωση cos(θ)=1 ή cos(θ)-1=0\n",
    "theta = smp.symbols(\"θ\")\n",
    "eq6 = smp.cos(theta) - 1\n",
    "roots_eq6a = smp.solve(eq6,theta) # χρησιμοποιώντας τη μέθοδο 'solve()'\n",
    "display(roots_eq6a)\n",
    "roots_eq6b = smp.solveset(eq6,theta) # χρησιμοποιώντας τη μέθοδο 'solveset()'\n",
    "display(roots_eq6b)"
   ]
  },
  {
   "cell_type": "markdown",
   "metadata": {},
   "source": [
    "### **Συστήματα εξισώσεων**"
   ]
  },
  {
   "cell_type": "markdown",
   "metadata": {},
   "source": [
    "Για συστήματα εξισώσεων μπορούμε να χρησιμοποιήσουμε μόνο τη μέθοδο `solve()`. Για να εκφράσουμε τις εξισώσεις με έναν πιο κομψό τρόπο μπορούμε να χρησιμοποιήσουμε επιπλέον την εντολή `Eq()`:"
   ]
  },
  {
   "cell_type": "code",
   "execution_count": 11,
   "metadata": {},
   "outputs": [
    {
     "data": {
      "text/latex": [
       "$\\displaystyle 5 x + 2 y = 8$"
      ],
      "text/plain": [
       "Eq(5*x + 2*y, 8)"
      ]
     },
     "metadata": {},
     "output_type": "display_data"
    },
    {
     "data": {
      "text/latex": [
       "$\\displaystyle x + 6 y = 1$"
      ],
      "text/plain": [
       "Eq(x + 6*y, 1)"
      ]
     },
     "metadata": {},
     "output_type": "display_data"
    },
    {
     "data": {
      "text/plain": [
       "{x: 23/14, y: -3/28}"
      ]
     },
     "metadata": {},
     "output_type": "display_data"
    }
   ],
   "source": [
    "# Παράδειγμα 1: γραμμικό σύστημα δύο εξισώσεων δύο μεταβλητών x και y\n",
    "x,y = smp.symbols(\"x,y\")\n",
    "eq1 = smp.Eq(5*x + 2*y,8)\n",
    "eq2 = smp.Eq(x + 6*y,1)\n",
    "sys1 = [eq1,eq2]\n",
    "display(eq1,eq2)\n",
    "roots_sys1 = smp.solve(sys1,[x,y])\n",
    "display(roots_sys1)"
   ]
  },
  {
   "cell_type": "code",
   "execution_count": 12,
   "metadata": {},
   "outputs": [
    {
     "data": {
      "text/latex": [
       "$\\displaystyle \\frac{23}{14}$"
      ],
      "text/plain": [
       "23/14"
      ]
     },
     "metadata": {},
     "output_type": "display_data"
    },
    {
     "data": {
      "text/latex": [
       "$\\displaystyle - \\frac{3}{28}$"
      ],
      "text/plain": [
       "-3/28"
      ]
     },
     "metadata": {},
     "output_type": "display_data"
    }
   ],
   "source": [
    "display(roots_sys1[x]) # παίρνοντας μόνο την τιμή του x\n",
    "display(roots_sys1[y]) # παίρνοντας μόνο την τιμή του y"
   ]
  },
  {
   "cell_type": "code",
   "execution_count": 13,
   "metadata": {},
   "outputs": [
    {
     "data": {
      "text/latex": [
       "$\\displaystyle 2 b y + 5 x = 8 a$"
      ],
      "text/plain": [
       "Eq(2*b*y + 5*x, 8*a)"
      ]
     },
     "metadata": {},
     "output_type": "display_data"
    },
    {
     "data": {
      "text/latex": [
       "$\\displaystyle a x + 6 y = b$"
      ],
      "text/plain": [
       "Eq(a*x + 6*y, b)"
      ]
     },
     "metadata": {},
     "output_type": "display_data"
    },
    {
     "data": {
      "text/plain": [
       "{x: (-24*a + b**2)/(a*b - 15), y: (8*a**2 - 5*b)/(2*a*b - 30)}"
      ]
     },
     "metadata": {},
     "output_type": "display_data"
    }
   ],
   "source": [
    "# Παράδειγμα 2: γραμμικό σύστημα δύο εξισώσεων δύο μεταβλητών x και y με παραμέτρους a,b\n",
    "x,y = smp.symbols(\"x,y\") # μεταβλητές\n",
    "a,b = smp.symbols(\"a,b\") # παράμετροι\n",
    "eq1 = smp.Eq(5*x + 2*b*y,8*a)\n",
    "eq2 = smp.Eq(a*x + 6*y,1*b)\n",
    "sys2 = [eq1,eq2]\n",
    "display(eq1,eq2)\n",
    "roots_sys2 = smp.solve(sys2,[x,y])\n",
    "display(roots_sys2)"
   ]
  },
  {
   "cell_type": "code",
   "execution_count": 14,
   "metadata": {},
   "outputs": [
    {
     "data": {
      "text/latex": [
       "$\\displaystyle \\frac{- 24 a + b^{2}}{a b - 15}$"
      ],
      "text/plain": [
       "(-24*a + b**2)/(a*b - 15)"
      ]
     },
     "metadata": {},
     "output_type": "display_data"
    },
    {
     "data": {
      "text/latex": [
       "$\\displaystyle \\frac{8 a^{2} - 5 b}{2 a b - 30}$"
      ],
      "text/plain": [
       "(8*a**2 - 5*b)/(2*a*b - 30)"
      ]
     },
     "metadata": {},
     "output_type": "display_data"
    }
   ],
   "source": [
    "display(roots_sys2[x]) # παίρνοντας μόνο την τιμή του x\n",
    "display(roots_sys2[y]) # παίρνοντας μόνο την τιμή του y"
   ]
  },
  {
   "cell_type": "code",
   "execution_count": 15,
   "metadata": {},
   "outputs": [
    {
     "data": {
      "text/latex": [
       "$\\displaystyle x^{2} + 2 y = 8$"
      ],
      "text/plain": [
       "Eq(x**2 + 2*y, 8)"
      ]
     },
     "metadata": {},
     "output_type": "display_data"
    },
    {
     "data": {
      "text/latex": [
       "$\\displaystyle x + 3 y = 3$"
      ],
      "text/plain": [
       "Eq(x + 3*y, 3)"
      ]
     },
     "metadata": {},
     "output_type": "display_data"
    },
    {
     "data": {
      "text/plain": [
       "[(1/3 - sqrt(55)/3, sqrt(55)/9 + 8/9), (1/3 + sqrt(55)/3, 8/9 - sqrt(55)/9)]"
      ]
     },
     "metadata": {},
     "output_type": "display_data"
    }
   ],
   "source": [
    "# Παράδειγμα 3: μη γραμμικό σύστημα δύο εξισώσεων δύο μεταβλητών x και y\n",
    "x,y = smp.symbols(\"x,y\")\n",
    "eq1 = smp.Eq(x**2 + 2*y,8)\n",
    "eq2 = smp.Eq(x + 3*y,3)\n",
    "sys3 = [eq1,eq2]\n",
    "display(eq1,eq2)\n",
    "roots_sys3 = smp.solve(sys3,[x,y])\n",
    "display(roots_sys3)"
   ]
  },
  {
   "cell_type": "code",
   "execution_count": 16,
   "metadata": {},
   "outputs": [
    {
     "name": "stdout",
     "output_type": "stream",
     "text": [
      "τιμές x:\n"
     ]
    },
    {
     "data": {
      "text/latex": [
       "$\\displaystyle -2.13873282903189$"
      ],
      "text/plain": [
       "-2.13873282903189"
      ]
     },
     "metadata": {},
     "output_type": "display_data"
    },
    {
     "data": {
      "text/latex": [
       "$\\displaystyle \\frac{1}{3} + \\frac{\\sqrt{55}}{3}$"
      ],
      "text/plain": [
       "1/3 + sqrt(55)/3"
      ]
     },
     "metadata": {},
     "output_type": "display_data"
    },
    {
     "name": "stdout",
     "output_type": "stream",
     "text": [
      "τιμές y:\n"
     ]
    },
    {
     "data": {
      "text/latex": [
       "$\\displaystyle 1.71291094301063$"
      ],
      "text/plain": [
       "1.71291094301063"
      ]
     },
     "metadata": {},
     "output_type": "display_data"
    },
    {
     "data": {
      "text/latex": [
       "$\\displaystyle \\frac{8}{9} - \\frac{\\sqrt{55}}{9}$"
      ],
      "text/plain": [
       "8/9 - sqrt(55)/9"
      ]
     },
     "metadata": {},
     "output_type": "display_data"
    }
   ],
   "source": [
    "print(\"τιμές x:\")\n",
    "display(roots_sys3[0][0].evalf(),roots_sys3[1][0]) # παίρνοντας μόνο τις τιμές του x\n",
    "print(\"τιμές y:\")\n",
    "display(roots_sys3[0][1].evalf(),roots_sys3[1][1]) # παίρνοντας μόνον τις τιμές του y"
   ]
  },
  {
   "cell_type": "markdown",
   "metadata": {},
   "source": [
    "## Β. Συνήθεις διαφορικές εξισώσεις και συστήματα διαφορικών εξισώσεων"
   ]
  },
  {
   "cell_type": "markdown",
   "metadata": {},
   "source": [
    "### **Διαφορικές εξισώσεις**"
   ]
  },
  {
   "cell_type": "code",
   "execution_count": 17,
   "metadata": {},
   "outputs": [
    {
     "data": {
      "text/latex": [
       "$\\displaystyle \\frac{d}{d x} f{\\left(x \\right)} = 2 f{\\left(x \\right)}$"
      ],
      "text/plain": [
       "Eq(Derivative(f(x), x), 2*f(x))"
      ]
     },
     "metadata": {},
     "output_type": "display_data"
    },
    {
     "data": {
      "text/latex": [
       "$\\displaystyle f{\\left(x \\right)} = C_{1} e^{2 x}$"
      ],
      "text/plain": [
       "Eq(f(x), C1*exp(2*x))"
      ]
     },
     "metadata": {},
     "output_type": "display_data"
    },
    {
     "data": {
      "text/latex": [
       "$\\displaystyle C_{1} e^{2 x}$"
      ],
      "text/plain": [
       "C1*exp(2*x)"
      ]
     },
     "metadata": {},
     "output_type": "display_data"
    }
   ],
   "source": [
    "# Παράδειγμα 1: Διαφορική εξίσωση πρώτης τάξης\n",
    "\n",
    "# Βήμα 1 -> ορισμός της ανεξάρτητης μεταβλητής\n",
    "x = smp.symbols(\"x\")\n",
    "# Βήμα 2 -> ορισμός της άγνωστης συνάρτησης ως συνάρτηση-σύμβολο \n",
    "f = smp.Function(\"f\") \n",
    "# Βήμα 3 -> ορισμός της διαφορικής εξίσωσης\n",
    "deq1 = smp.Eq(f(x).diff(x),2*f(x)) \n",
    "display(deq1)\n",
    "# Βήμα 4 -> επίλυση της διαφορικής εξίσωσης\n",
    "dsol1 = smp.dsolve(deq1,f(x)) \n",
    "display(dsol1)\n",
    "display(dsol1.rhs) # λαμβάνοντας μόνο τον τύπο της συνάρτησης-λύσης (rhs->δεξιά πλευρά της εξίσωσης)"
   ]
  },
  {
   "cell_type": "code",
   "execution_count": 18,
   "metadata": {},
   "outputs": [
    {
     "data": {
      "text/latex": [
       "$\\displaystyle C_{1} e^{4}$"
      ],
      "text/plain": [
       "C1*exp(4)"
      ]
     },
     "execution_count": 18,
     "metadata": {},
     "output_type": "execute_result"
    }
   ],
   "source": [
    "# Χρησιμοποιώντας τη λύση της διαφορικής εξίσωσης\n",
    "def f1_sol(x_val):\n",
    "    return dsol1.rhs.subs(x,x_val)\n",
    "\n",
    "f1_sol(2)"
   ]
  },
  {
   "cell_type": "code",
   "execution_count": 19,
   "metadata": {},
   "outputs": [
    {
     "data": {
      "text/latex": [
       "$\\displaystyle \\frac{d^{2}}{d x^{2}} f{\\left(x \\right)} = 2 x$"
      ],
      "text/plain": [
       "Eq(Derivative(f(x), (x, 2)), 2*x)"
      ]
     },
     "metadata": {},
     "output_type": "display_data"
    },
    {
     "data": {
      "text/latex": [
       "$\\displaystyle f{\\left(x \\right)} = C_{1} + C_{2} x + \\frac{x^{3}}{3}$"
      ],
      "text/plain": [
       "Eq(f(x), C1 + C2*x + x**3/3)"
      ]
     },
     "metadata": {},
     "output_type": "display_data"
    },
    {
     "data": {
      "text/latex": [
       "$\\displaystyle C_{1} + C_{2} x + \\frac{x^{3}}{3}$"
      ],
      "text/plain": [
       "C1 + C2*x + x**3/3"
      ]
     },
     "metadata": {},
     "output_type": "display_data"
    }
   ],
   "source": [
    "# Παράδειγμα 2: Διαφορική εξίσωση δεύτερης τάξης\n",
    "\n",
    "# Βήμα 1 -> ορισμός της ανεξάρτητης μεταβλητής\n",
    "x = smp.symbols(\"x\")\n",
    "# Βήμα 2 -> ορισμός της άγνωστης συνάρτησης ως συνάρτηση-σύμβολο\n",
    "f = smp.Function(\"f\") \n",
    "# Βήμα 3 -> ορισμός της διαφορικής εξίσωσης\n",
    "deq2 = smp.Eq(f(x).diff(x,2),2*x) \n",
    "display(deq2)\n",
    "# Βήμα 4 -> επίλυση της διαφορικής εξίσωσης\n",
    "dsol2 = smp.dsolve(deq2,f(x)) \n",
    "display(dsol2)\n",
    "display(dsol2.rhs) # παίρνοντας μόνο τον τύπο της συνάρτησης λύσης"
   ]
  },
  {
   "cell_type": "markdown",
   "metadata": {},
   "source": [
    "### **Συστήματα διαφορικών εξισώσεων**"
   ]
  },
  {
   "cell_type": "code",
   "execution_count": 20,
   "metadata": {},
   "outputs": [
    {
     "data": {
      "text/latex": [
       "$\\displaystyle \\frac{d}{d x} f{\\left(x \\right)} = g{\\left(x \\right)}$"
      ],
      "text/plain": [
       "Eq(Derivative(f(x), x), g(x))"
      ]
     },
     "metadata": {},
     "output_type": "display_data"
    },
    {
     "data": {
      "text/latex": [
       "$\\displaystyle \\frac{d}{d x} g{\\left(x \\right)} = 2 x$"
      ],
      "text/plain": [
       "Eq(Derivative(g(x), x), 2*x)"
      ]
     },
     "metadata": {},
     "output_type": "display_data"
    },
    {
     "data": {
      "text/plain": [
       "[Eq(f(x), C1 + C2*x + x**3/3), Eq(g(x), C2 + x**2)]"
      ]
     },
     "metadata": {},
     "output_type": "display_data"
    },
    {
     "data": {
      "text/latex": [
       "$\\displaystyle f{\\left(x \\right)} = C_{1} + C_{2} x + \\frac{x^{3}}{3}$"
      ],
      "text/plain": [
       "Eq(f(x), C1 + C2*x + x**3/3)"
      ]
     },
     "metadata": {},
     "output_type": "display_data"
    },
    {
     "data": {
      "text/latex": [
       "$\\displaystyle g{\\left(x \\right)} = C_{2} + x^{2}$"
      ],
      "text/plain": [
       "Eq(g(x), C2 + x**2)"
      ]
     },
     "metadata": {},
     "output_type": "display_data"
    },
    {
     "data": {
      "text/latex": [
       "$\\displaystyle C_{1} + C_{2} x + \\frac{x^{3}}{3}$"
      ],
      "text/plain": [
       "C1 + C2*x + x**3/3"
      ]
     },
     "metadata": {},
     "output_type": "display_data"
    },
    {
     "data": {
      "text/latex": [
       "$\\displaystyle C_{2} + x^{2}$"
      ],
      "text/plain": [
       "C2 + x**2"
      ]
     },
     "metadata": {},
     "output_type": "display_data"
    }
   ],
   "source": [
    "# Παράδειγμα 3: Επίλυση της διαφορικής εξίσωσης δεύτερης τάξης του Παραδείγματος 2 ως σύστημα δύο διαφορικών εξισώσεων πρώτης τάξης\n",
    "\n",
    "# Βήμα 1 -> ορισμός της ανεξάρτητης μεταβλητής\n",
    "x = smp.symbols(\"x\")\n",
    "# Βήμα 2 -> ορισμός των άγνωστων συναρτήσεων ως συναρτήσεις-σύμβολα\n",
    "f = smp.Function(\"f\")\n",
    "g = smp.Function(\"g\") # αυτή θα θεωρηθεί ως g=df/dx\n",
    "# Βήμα 3 -> ορισμός των διαφορικών εξισώσεων και λήψη του συστήματός τους\n",
    "deq3_1 = smp.Eq(f(x).diff(x),g(x)) \n",
    "deq3_2 = smp.Eq(g(x).diff(x),2*x)\n",
    "display(deq3_1,deq3_2)\n",
    "dsys_3 = (deq3_1,deq3_2)\n",
    "# Βήμα 4 -> επίλυση του συστήματος διαφορικών εξισώσεων\n",
    "dsol3 = smp.dsolve(dsys_3,[f(x),g(x)]) # προσπαθήστε να αντιστρέψετε τις συναρτήσεις f και g της συγκεκριμένης λίστας !!!\n",
    "display(dsol3)\n",
    "display(dsol3[0],dsol3[1])\n",
    "display(dsol3[0].rhs,dsol3[1].rhs) # παίρνοντας μόνο τους τύπους των λύσεων-συναρτήσεων"
   ]
  },
  {
   "cell_type": "code",
   "execution_count": 21,
   "metadata": {},
   "outputs": [
    {
     "data": {
      "text/latex": [
       "$\\displaystyle \\frac{d}{d t} x{\\left(t \\right)} = x{\\left(t \\right)} + y{\\left(t \\right)}$"
      ],
      "text/plain": [
       "Eq(Derivative(x(t), t), x(t) + y(t))"
      ]
     },
     "metadata": {},
     "output_type": "display_data"
    },
    {
     "data": {
      "text/latex": [
       "$\\displaystyle \\frac{d}{d t} y{\\left(t \\right)} = x{\\left(t \\right)} - y{\\left(t \\right)}$"
      ],
      "text/plain": [
       "Eq(Derivative(y(t), t), x(t) - y(t))"
      ]
     },
     "metadata": {},
     "output_type": "display_data"
    },
    {
     "data": {
      "text/plain": [
       "[Eq(x(t), C1*(1 - sqrt(2))*exp(-sqrt(2)*t) + C2*(1 + sqrt(2))*exp(sqrt(2)*t)),\n",
       " Eq(y(t), C1*exp(-sqrt(2)*t) + C2*exp(sqrt(2)*t))]"
      ]
     },
     "metadata": {},
     "output_type": "display_data"
    },
    {
     "data": {
      "text/latex": [
       "$\\displaystyle x{\\left(t \\right)} = C_{1} \\left(1 - \\sqrt{2}\\right) e^{- \\sqrt{2} t} + C_{2} \\left(1 + \\sqrt{2}\\right) e^{\\sqrt{2} t}$"
      ],
      "text/plain": [
       "Eq(x(t), C1*(1 - sqrt(2))*exp(-sqrt(2)*t) + C2*(1 + sqrt(2))*exp(sqrt(2)*t))"
      ]
     },
     "metadata": {},
     "output_type": "display_data"
    },
    {
     "data": {
      "text/latex": [
       "$\\displaystyle y{\\left(t \\right)} = C_{1} e^{- \\sqrt{2} t} + C_{2} e^{\\sqrt{2} t}$"
      ],
      "text/plain": [
       "Eq(y(t), C1*exp(-sqrt(2)*t) + C2*exp(sqrt(2)*t))"
      ]
     },
     "metadata": {},
     "output_type": "display_data"
    },
    {
     "data": {
      "text/latex": [
       "$\\displaystyle C_{1} \\left(1 - \\sqrt{2}\\right) e^{- \\sqrt{2} t} + C_{2} \\left(1 + \\sqrt{2}\\right) e^{\\sqrt{2} t}$"
      ],
      "text/plain": [
       "C1*(1 - sqrt(2))*exp(-sqrt(2)*t) + C2*(1 + sqrt(2))*exp(sqrt(2)*t)"
      ]
     },
     "metadata": {},
     "output_type": "display_data"
    },
    {
     "data": {
      "text/latex": [
       "$\\displaystyle C_{1} e^{- \\sqrt{2} t} + C_{2} e^{\\sqrt{2} t}$"
      ],
      "text/plain": [
       "C1*exp(-sqrt(2)*t) + C2*exp(sqrt(2)*t)"
      ]
     },
     "metadata": {},
     "output_type": "display_data"
    }
   ],
   "source": [
    "# Παράδειγμα 4: άλλο ένα παράδειγμα συστήματος διαφορικών εξισώσεων\n",
    "\n",
    "# Βήμα 1 -> ορισμός της ανεξάρτητης μεταβλητής\n",
    "t = smp.symbols(\"t\")\n",
    "# Βήμα 2 -> ορισμός των άγνωστων συναρτήσεων ως συναρτήσεις-σύμβολα\n",
    "x = smp.Function('x')(t)\n",
    "y = smp.Function('y')(t)\n",
    "# Βήμα 3 -> Ορισμός του συστήματος των διαφορικών εξισώσεων\n",
    "deq4_1 = smp.Eq(x.diff(t), x + y)\n",
    "deq4_2 = smp.Eq(y.diff(t), x - y)\n",
    "display(deq4_1,deq4_2)\n",
    "dsys_4 = [deq4_1,deq4_2]\n",
    "# Βήμα 4 -> επίλυση του συστήματος διαφορικών εξισώσεων\n",
    "dsol4 = smp.dsolve(dsys_4,[x,y])\n",
    "display(dsol4)\n",
    "display(dsol4[0],dsol4[1])\n",
    "display(dsol4[0].rhs,dsol4[1].rhs) # παίρνοντας μόνο τους τύπους των λύσεων-συναρτήσεων"
   ]
  },
  {
   "cell_type": "markdown",
   "metadata": {},
   "source": [
    "### **Προβλήματα αρχικών τιμών**"
   ]
  },
  {
   "cell_type": "code",
   "execution_count": 22,
   "metadata": {},
   "outputs": [
    {
     "data": {
      "text/latex": [
       "$\\displaystyle \\frac{d}{d t} x{\\left(t \\right)} = x{\\left(t \\right)} + y{\\left(t \\right)}$"
      ],
      "text/plain": [
       "Eq(Derivative(x(t), t), x(t) + y(t))"
      ]
     },
     "metadata": {},
     "output_type": "display_data"
    },
    {
     "data": {
      "text/latex": [
       "$\\displaystyle \\frac{d}{d t} y{\\left(t \\right)} = x{\\left(t \\right)} - y{\\left(t \\right)}$"
      ],
      "text/plain": [
       "Eq(Derivative(y(t), t), x(t) - y(t))"
      ]
     },
     "metadata": {},
     "output_type": "display_data"
    },
    {
     "data": {
      "text/plain": [
       "[Eq(x(t), (4 + 7*sqrt(2))*exp(sqrt(2)*t)/4 + (4 - 7*sqrt(2))*exp(-sqrt(2)*t)/4),\n",
       " Eq(y(t), (10 - 3*sqrt(2))*exp(sqrt(2)*t)/4 + (3*sqrt(2) + 10)*exp(-sqrt(2)*t)/4)]"
      ]
     },
     "metadata": {},
     "output_type": "display_data"
    },
    {
     "data": {
      "text/latex": [
       "$\\displaystyle x{\\left(t \\right)} = \\frac{\\left(4 + 7 \\sqrt{2}\\right) e^{\\sqrt{2} t}}{4} + \\frac{\\left(4 - 7 \\sqrt{2}\\right) e^{- \\sqrt{2} t}}{4}$"
      ],
      "text/plain": [
       "Eq(x(t), (4 + 7*sqrt(2))*exp(sqrt(2)*t)/4 + (4 - 7*sqrt(2))*exp(-sqrt(2)*t)/4)"
      ]
     },
     "metadata": {},
     "output_type": "display_data"
    },
    {
     "data": {
      "text/latex": [
       "$\\displaystyle y{\\left(t \\right)} = \\frac{\\left(10 - 3 \\sqrt{2}\\right) e^{\\sqrt{2} t}}{4} + \\frac{\\left(3 \\sqrt{2} + 10\\right) e^{- \\sqrt{2} t}}{4}$"
      ],
      "text/plain": [
       "Eq(y(t), (10 - 3*sqrt(2))*exp(sqrt(2)*t)/4 + (3*sqrt(2) + 10)*exp(-sqrt(2)*t)/4)"
      ]
     },
     "metadata": {},
     "output_type": "display_data"
    }
   ],
   "source": [
    "# Παράδειγμα 5: Προσθήκη αρχικών τιμών στο πρόβλημα του Παραδείγματος 4\n",
    "\n",
    "# Βήμα 1 -> ορισμός της ανεξάρτητης μεταβλητής\n",
    "t = smp.symbols(\"t\")\n",
    "# Βήμα 2 -> ορισμός των άγνωστων συναρτήσεων ως συναρτήσεις-σύμβολα\n",
    "x = smp.Function('x')(t)\n",
    "y = smp.Function('y')(t)\n",
    "# Βήμα 3 -> Ορισμός του συστήματος των διαφορικών εξισώσεων\n",
    "deq5_1 = smp.Eq(x.diff(t), x + y)\n",
    "deq5_2 = smp.Eq(y.diff(t), x - y)\n",
    "display(deq5_1,deq5_2)\n",
    "dsys_5 = [deq5_1,deq5_2]\n",
    "# Βήμα 4 -> επίλυση του συστήματος διαφορικών εξισώσεων\n",
    "dsol5 = smp.dsolve(dsys_5,\n",
    "                   [x,y],\n",
    "                   ics={x.subs(t,0):2,y.subs(t,0):5})\n",
    "display(dsol5)\n",
    "display(dsol5[0],dsol5[1])"
   ]
  },
  {
   "cell_type": "code",
   "execution_count": 23,
   "metadata": {},
   "outputs": [
    {
     "data": {
      "text/latex": [
       "$\\displaystyle ω_{0}^{2} x{\\left(t \\right)} + \\frac{d^{2}}{d t^{2}} x{\\left(t \\right)} = 0$"
      ],
      "text/plain": [
       "Eq(ω_0**2*x(t) + Derivative(x(t), (t, 2)), 0)"
      ]
     },
     "metadata": {},
     "output_type": "display_data"
    },
    {
     "data": {
      "text/latex": [
       "$\\displaystyle x{\\left(t \\right)} = C_{1} \\sin{\\left(t ω_{0} \\right)} + C_{2} \\cos{\\left(t ω_{0} \\right)}$"
      ],
      "text/plain": [
       "Eq(x(t), C1*sin(t*ω_0) + C2*cos(t*ω_0))"
      ]
     },
     "metadata": {},
     "output_type": "display_data"
    },
    {
     "data": {
      "text/latex": [
       "$\\displaystyle x{\\left(t \\right)} = \\frac{u_{0} \\sin{\\left(t ω_{0} \\right)}}{ω_{0}} + x_{0} \\cos{\\left(t ω_{0} \\right)}$"
      ],
      "text/plain": [
       "Eq(x(t), u_0*sin(t*ω_0)/ω_0 + x_0*cos(t*ω_0))"
      ]
     },
     "metadata": {},
     "output_type": "display_data"
    }
   ],
   "source": [
    "# Παράδειγμα 6: ο κλασικός αρμονικός ταλαντωτής\n",
    "\n",
    "# Βήμα 1 -> καθορισμός της ανεξάρτητης μεταβλητής και χρήσιμων συμβόλων\n",
    "t = smp.symbols(\"t\",Real=True)\n",
    "x_0,u_0 = smp.symbols(\"x_0,u_0\",Real=True) # αρχικές τιμές της θέσης και της ταχύτητας ως σύμβολα\n",
    "omega_0 = smp.symbols(\"ω_0\",Real=True,positive=True) # ιδιοσυχνότητα\n",
    "# Βήμα 2 -> ορισμός της άγνωστης συνάρτησης ως συνάρτηση-σύμβολο\n",
    "x = smp.Function(\"x\")\n",
    "# Βήμα 3 -> Ορισμός της διαφορικής εξίσωσης\n",
    "deq6 = smp.Eq(x(t).diff(t,2)+omega_0**2*x(t),0)\n",
    "display(deq6)\n",
    "# Βήμα 4α -> επίλυση της διαφορικής εξίσωσης χωρίς αρχικές τιμές\n",
    "dsol6a = smp.dsolve(deq6,\n",
    "                   x(t),\n",
    "                   )\n",
    "display(dsol6a)\n",
    "# Βήμα 4β -> επίλυση της διαφορικής εξίσωσης με αρχικές τιμές\n",
    "dsol6b = smp.dsolve(deq6,\n",
    "                   x(t),\n",
    "                   ics={x(0):x_0,x(t).diff(t).subs(t,0):u_0})\n",
    "display(dsol6b)"
   ]
  },
  {
   "cell_type": "code",
   "execution_count": null,
   "metadata": {},
   "outputs": [],
   "source": []
  }
 ],
 "metadata": {
  "kernelspec": {
   "display_name": "Python 3",
   "language": "python",
   "name": "python3"
  },
  "language_info": {
   "codemirror_mode": {
    "name": "ipython",
    "version": 3
   },
   "file_extension": ".py",
   "mimetype": "text/x-python",
   "name": "python",
   "nbconvert_exporter": "python",
   "pygments_lexer": "ipython3",
   "version": "3.11.6"
  }
 },
 "nbformat": 4,
 "nbformat_minor": 2
}
