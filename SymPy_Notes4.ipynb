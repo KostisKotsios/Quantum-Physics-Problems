{
 "cells": [
  {
   "cell_type": "markdown",
   "metadata": {},
   "source": [
    "**PHYSICS DEPARTMENT - ARISTOTLE UNIVERSITY OF THESSALONIKI**<br>\n",
    "**SUBJECT: Quantum Physics Problems [ΓΘΕ204]**<br>\n",
    "**ACADEMIC YEAR: 2024-2025**\n",
    "\n",
    "***SymPy Notebook 4:***<br>\n",
    "-Solving algebraic equations and systems of them with `SymPy`<br>\n",
    "-Solving ordinary differential equations and systems of them with `SymPy`<br>\n",
    "-Solving initial values problems (ivp) with `SymPy`<br>\n",
    "\n",
    "**Written by: Ioannis Stergakis (postgraduate student at MSc Computational Physics AUTh)**"
   ]
  },
  {
   "cell_type": "code",
   "execution_count": 1,
   "metadata": {},
   "outputs": [],
   "source": [
    "# Importation of SymPy module (never forget to run this cell !!!)\n",
    "import sympy as smp"
   ]
  },
  {
   "cell_type": "markdown",
   "metadata": {},
   "source": [
    "# **Application 5: Solving equations**\n",
    "\n",
    "`SymPy` offers tools for solving algebraic and/or ordinary differential equations and of course systems of equations, analytically."
   ]
  },
  {
   "cell_type": "markdown",
   "metadata": {},
   "source": [
    "## A. Algebraic equations and systems of them"
   ]
  },
  {
   "cell_type": "markdown",
   "metadata": {},
   "source": [
    "### **Equations**"
   ]
  },
  {
   "cell_type": "markdown",
   "metadata": {},
   "source": [
    "We can use the command `solve()` to solve an algebraic equation:"
   ]
  },
  {
   "cell_type": "code",
   "execution_count": 2,
   "metadata": {},
   "outputs": [
    {
     "data": {
      "text/plain": [
       "[-2, 2]"
      ]
     },
     "execution_count": 2,
     "metadata": {},
     "output_type": "execute_result"
    }
   ],
   "source": [
    "# Example 1: equation with only real roots\n",
    "x = smp.symbols(\"x\")\n",
    "eq1 = x**2 - 4\n",
    "smp.solve(eq1,x)"
   ]
  },
  {
   "cell_type": "code",
   "execution_count": 3,
   "metadata": {},
   "outputs": [
    {
     "data": {
      "text/plain": [
       "[-2*I, 2*I]"
      ]
     },
     "execution_count": 3,
     "metadata": {},
     "output_type": "execute_result"
    }
   ],
   "source": [
    "# Example 2: equation with only imaginary roots\n",
    "x = smp.symbols(\"x\")\n",
    "eq2 = x**2 + 4\n",
    "smp.solve(eq2,x)"
   ]
  },
  {
   "cell_type": "code",
   "execution_count": 4,
   "metadata": {},
   "outputs": [
    {
     "data": {
      "text/latex": [
       "$\\displaystyle \\frac{- b - \\sqrt{- 4 a c + b^{2}}}{2 a}$"
      ],
      "text/plain": [
       "(-b - sqrt(-4*a*c + b**2))/(2*a)"
      ]
     },
     "metadata": {},
     "output_type": "display_data"
    },
    {
     "data": {
      "text/latex": [
       "$\\displaystyle \\frac{- b + \\sqrt{- 4 a c + b^{2}}}{2 a}$"
      ],
      "text/plain": [
       "(-b + sqrt(-4*a*c + b**2))/(2*a)"
      ]
     },
     "metadata": {},
     "output_type": "display_data"
    }
   ],
   "source": [
    "# Example 3: equation with parameters\n",
    "x = smp.symbols(\"x\")\n",
    "a,b,c = smp.symbols(\"a,b,c\")\n",
    "eq3 = a*x**2+b*x+c\n",
    "roots_eq3 = smp.solve(eq3,x)\n",
    "# Priniting the roots seperately\n",
    "for root in roots_eq3:\n",
    "    display(root)"
   ]
  },
  {
   "cell_type": "code",
   "execution_count": 5,
   "metadata": {},
   "outputs": [
    {
     "data": {
      "text/plain": [
       "[-sqrt(3)/2 - I/2, -sqrt(3)/2 + I/2, sqrt(3)/2 - I/2, sqrt(3)/2 + I/2]"
      ]
     },
     "metadata": {},
     "output_type": "display_data"
    },
    {
     "data": {
      "text/latex": [
       "$\\displaystyle - \\frac{\\sqrt{3}}{2} - \\frac{i}{2}$"
      ],
      "text/plain": [
       "-sqrt(3)/2 - I/2"
      ]
     },
     "metadata": {},
     "output_type": "display_data"
    },
    {
     "data": {
      "text/latex": [
       "$\\displaystyle - \\frac{\\sqrt{3}}{2} + \\frac{i}{2}$"
      ],
      "text/plain": [
       "-sqrt(3)/2 + I/2"
      ]
     },
     "metadata": {},
     "output_type": "display_data"
    },
    {
     "data": {
      "text/latex": [
       "$\\displaystyle \\frac{\\sqrt{3}}{2} - \\frac{i}{2}$"
      ],
      "text/plain": [
       "sqrt(3)/2 - I/2"
      ]
     },
     "metadata": {},
     "output_type": "display_data"
    },
    {
     "data": {
      "text/latex": [
       "$\\displaystyle \\frac{\\sqrt{3}}{2} + \\frac{i}{2}$"
      ],
      "text/plain": [
       "sqrt(3)/2 + I/2"
      ]
     },
     "metadata": {},
     "output_type": "display_data"
    }
   ],
   "source": [
    "# Example 4: equation with complex roots\n",
    "x = smp.symbols(\"x\")\n",
    "eq4 = x**4 - x**2 + 1\n",
    "roots_eq4 = smp.solve(eq4, x)\n",
    "display(roots_eq4)\n",
    "# Priniting the roots seperately\n",
    "for root in roots_eq4:\n",
    "    display(root)"
   ]
  },
  {
   "cell_type": "markdown",
   "metadata": {},
   "source": [
    "Another useful command is the command `solveset()`:"
   ]
  },
  {
   "cell_type": "code",
   "execution_count": 6,
   "metadata": {},
   "outputs": [
    {
     "data": {
      "text/latex": [
       "$\\displaystyle \\left\\{- \\frac{\\sqrt{3}}{2} - \\frac{i}{2}, - \\frac{\\sqrt{3}}{2} + \\frac{i}{2}, \\frac{\\sqrt{3}}{2} - \\frac{i}{2}, \\frac{\\sqrt{3}}{2} + \\frac{i}{2}\\right\\}$"
      ],
      "text/plain": [
       "{-sqrt(3)/2 - I/2, -sqrt(3)/2 + I/2, sqrt(3)/2 - I/2, sqrt(3)/2 + I/2}"
      ]
     },
     "metadata": {},
     "output_type": "display_data"
    }
   ],
   "source": [
    "# Example 5: same as Example 4 but using the solveset() command\n",
    "x = smp.symbols(\"x\")\n",
    "eq5 = eq4\n",
    "roots_eq5 = smp.solveset(eq5,x)\n",
    "display(roots_eq5)"
   ]
  },
  {
   "cell_type": "markdown",
   "metadata": {},
   "source": [
    "The main difference is the output of these two commands: the `solve()` method returns an **array** and its contents can be used directly, while the `solveset()` method returns the result in a more elegant way, but needs some extra steps to use the values of the roots:"
   ]
  },
  {
   "cell_type": "code",
   "execution_count": 7,
   "metadata": {},
   "outputs": [
    {
     "data": {
      "text/latex": [
       "$\\displaystyle - \\frac{\\sqrt{3}}{2} - \\frac{i}{2}$"
      ],
      "text/plain": [
       "-sqrt(3)/2 - I/2"
      ]
     },
     "metadata": {},
     "output_type": "display_data"
    }
   ],
   "source": [
    "# Getting the first root of equation 4 (eq4) from Example 4\n",
    "root_prime_exmpl4 = roots_eq4[0]\n",
    "display(root_prime_exmpl4)"
   ]
  },
  {
   "cell_type": "code",
   "execution_count": 8,
   "metadata": {},
   "outputs": [],
   "source": [
    "# Getting the first root of equation 5 (eq5) from Example 5 (Wrong Way)\n",
    "# root_prime_exmpl5 = roots_eq5[0] # this will return an error\n",
    "# print(root_prime_exmpl5)"
   ]
  },
  {
   "cell_type": "code",
   "execution_count": 9,
   "metadata": {},
   "outputs": [
    {
     "name": "stdout",
     "output_type": "stream",
     "text": [
      "(-sqrt(3)/2 - I/2, -sqrt(3)/2 + I/2, sqrt(3)/2 - I/2, sqrt(3)/2 + I/2)\n"
     ]
    },
    {
     "data": {
      "text/latex": [
       "$\\displaystyle - \\frac{\\sqrt{3}}{2} - \\frac{i}{2}$"
      ],
      "text/plain": [
       "-sqrt(3)/2 - I/2"
      ]
     },
     "metadata": {},
     "output_type": "display_data"
    }
   ],
   "source": [
    "# Getting the first root of equation 5 (eq5) from Example 5 (Right Way)\n",
    "roots_eq5_vals = roots_eq5.args # this will return a tuple of the roots\n",
    "print(roots_eq5_vals)\n",
    "# print(type(roots5_vals))\n",
    "root_prime_exmpl5 = roots_eq5_vals[0] # taking the first element of the tuple\n",
    "display(root_prime_exmpl5)"
   ]
  },
  {
   "cell_type": "markdown",
   "metadata": {},
   "source": [
    "So, why do we need the `solveset()` since its output is more complicated to use?"
   ]
  },
  {
   "cell_type": "code",
   "execution_count": 10,
   "metadata": {},
   "outputs": [
    {
     "data": {
      "text/plain": [
       "[0, 2*pi]"
      ]
     },
     "metadata": {},
     "output_type": "display_data"
    },
    {
     "data": {
      "text/latex": [
       "$\\displaystyle \\left\\{2 n \\pi\\; \\middle|\\; n \\in \\mathbb{Z}\\right\\}$"
      ],
      "text/plain": [
       "ImageSet(Lambda(_n, 2*_n*pi), Integers)"
      ]
     },
     "metadata": {},
     "output_type": "display_data"
    }
   ],
   "source": [
    "# Example 6: trigonometric equation cos(θ)=1 or cos(θ)-1=0\n",
    "theta = smp.symbols(\"θ\")\n",
    "eq6 = smp.cos(theta) - 1\n",
    "roots_eq6a = smp.solve(eq6,theta) # using the 'solve()' method\n",
    "display(roots_eq6a)\n",
    "roots_eq6b = smp.solveset(eq6,theta) # using the 'solveset()' method\n",
    "display(roots_eq6b)"
   ]
  },
  {
   "cell_type": "markdown",
   "metadata": {},
   "source": [
    "### **Systems of equations**"
   ]
  },
  {
   "cell_type": "markdown",
   "metadata": {},
   "source": [
    "For systems of equations we can use only the `solve()` method. To express the equations in a more elegeant way we can use additionally the `Eq()` command:"
   ]
  },
  {
   "cell_type": "code",
   "execution_count": 11,
   "metadata": {},
   "outputs": [
    {
     "data": {
      "text/latex": [
       "$\\displaystyle 5 x + 2 y = 8$"
      ],
      "text/plain": [
       "Eq(5*x + 2*y, 8)"
      ]
     },
     "metadata": {},
     "output_type": "display_data"
    },
    {
     "data": {
      "text/latex": [
       "$\\displaystyle x + 6 y = 1$"
      ],
      "text/plain": [
       "Eq(x + 6*y, 1)"
      ]
     },
     "metadata": {},
     "output_type": "display_data"
    },
    {
     "data": {
      "text/plain": [
       "{x: 23/14, y: -3/28}"
      ]
     },
     "metadata": {},
     "output_type": "display_data"
    }
   ],
   "source": [
    "# Example 1: linear system of two equations of two variables x and y\n",
    "x,y = smp.symbols(\"x,y\")\n",
    "eq1 = smp.Eq(5*x + 2*y,8)\n",
    "eq2 = smp.Eq(x + 6*y, 1)\n",
    "sys1 = [eq1,eq2]\n",
    "display(eq1,eq2)\n",
    "roots_sys1 = smp.solve(sys1,[x,y])\n",
    "display(roots_sys1)"
   ]
  },
  {
   "cell_type": "code",
   "execution_count": 12,
   "metadata": {},
   "outputs": [
    {
     "data": {
      "text/latex": [
       "$\\displaystyle \\frac{23}{14}$"
      ],
      "text/plain": [
       "23/14"
      ]
     },
     "metadata": {},
     "output_type": "display_data"
    },
    {
     "data": {
      "text/latex": [
       "$\\displaystyle - \\frac{3}{28}$"
      ],
      "text/plain": [
       "-3/28"
      ]
     },
     "metadata": {},
     "output_type": "display_data"
    }
   ],
   "source": [
    "display(roots_sys1[x]) # getting only the value of x\n",
    "display(roots_sys1[y]) # getting only the value of y"
   ]
  },
  {
   "cell_type": "code",
   "execution_count": 13,
   "metadata": {},
   "outputs": [
    {
     "data": {
      "text/latex": [
       "$\\displaystyle 2 b y + 5 x = 8 a$"
      ],
      "text/plain": [
       "Eq(2*b*y + 5*x, 8*a)"
      ]
     },
     "metadata": {},
     "output_type": "display_data"
    },
    {
     "data": {
      "text/latex": [
       "$\\displaystyle a x + 6 y = b$"
      ],
      "text/plain": [
       "Eq(a*x + 6*y, b)"
      ]
     },
     "metadata": {},
     "output_type": "display_data"
    },
    {
     "data": {
      "text/plain": [
       "{x: (-24*a + b**2)/(a*b - 15), y: (8*a**2 - 5*b)/(2*a*b - 30)}"
      ]
     },
     "metadata": {},
     "output_type": "display_data"
    }
   ],
   "source": [
    "# Example 2: linear system of two equations of two variables x and y with parameters a,b\n",
    "x,y = smp.symbols(\"x,y\") # variables\n",
    "a,b = smp.symbols(\"a,b\") # parameters\n",
    "eq1 = smp.Eq(5*x + 2*b*y,8*a)\n",
    "eq2 = smp.Eq(a*x + 6*y,1*b)\n",
    "sys2 = [eq1,eq2]\n",
    "display(eq1,eq2)\n",
    "roots_sys2 = smp.solve(sys2,[x,y])\n",
    "display(roots_sys2)"
   ]
  },
  {
   "cell_type": "code",
   "execution_count": 14,
   "metadata": {},
   "outputs": [
    {
     "data": {
      "text/latex": [
       "$\\displaystyle \\frac{- 24 a + b^{2}}{a b - 15}$"
      ],
      "text/plain": [
       "(-24*a + b**2)/(a*b - 15)"
      ]
     },
     "metadata": {},
     "output_type": "display_data"
    },
    {
     "data": {
      "text/latex": [
       "$\\displaystyle \\frac{8 a^{2} - 5 b}{2 a b - 30}$"
      ],
      "text/plain": [
       "(8*a**2 - 5*b)/(2*a*b - 30)"
      ]
     },
     "metadata": {},
     "output_type": "display_data"
    }
   ],
   "source": [
    "display(roots_sys2[x]) # getting only the value of x\n",
    "display(roots_sys2[y]) # getting only the value of y"
   ]
  },
  {
   "cell_type": "code",
   "execution_count": 15,
   "metadata": {},
   "outputs": [
    {
     "data": {
      "text/latex": [
       "$\\displaystyle x^{2} + 2 y = 8$"
      ],
      "text/plain": [
       "Eq(x**2 + 2*y, 8)"
      ]
     },
     "metadata": {},
     "output_type": "display_data"
    },
    {
     "data": {
      "text/latex": [
       "$\\displaystyle x + 3 y = 3$"
      ],
      "text/plain": [
       "Eq(x + 3*y, 3)"
      ]
     },
     "metadata": {},
     "output_type": "display_data"
    },
    {
     "data": {
      "text/plain": [
       "[(1/3 - sqrt(55)/3, sqrt(55)/9 + 8/9), (1/3 + sqrt(55)/3, 8/9 - sqrt(55)/9)]"
      ]
     },
     "metadata": {},
     "output_type": "display_data"
    }
   ],
   "source": [
    "# Example 3: non-linear system of two equations of two variables x and y\n",
    "x,y = smp.symbols(\"x,y\")\n",
    "eq1 = smp.Eq(x**2 + 2*y,8)\n",
    "eq2 = smp.Eq(x + 3*y,3)\n",
    "sys3 = [eq1,eq2]\n",
    "display(eq1,eq2)\n",
    "roots_sys3 = smp.solve(sys3,[x,y])\n",
    "display(roots_sys3)"
   ]
  },
  {
   "cell_type": "code",
   "execution_count": 16,
   "metadata": {},
   "outputs": [
    {
     "name": "stdout",
     "output_type": "stream",
     "text": [
      "x values:\n"
     ]
    },
    {
     "data": {
      "text/latex": [
       "$\\displaystyle -2.13873282903189$"
      ],
      "text/plain": [
       "-2.13873282903189"
      ]
     },
     "metadata": {},
     "output_type": "display_data"
    },
    {
     "data": {
      "text/latex": [
       "$\\displaystyle \\frac{1}{3} + \\frac{\\sqrt{55}}{3}$"
      ],
      "text/plain": [
       "1/3 + sqrt(55)/3"
      ]
     },
     "metadata": {},
     "output_type": "display_data"
    },
    {
     "name": "stdout",
     "output_type": "stream",
     "text": [
      "y values:\n"
     ]
    },
    {
     "data": {
      "text/latex": [
       "$\\displaystyle 1.71291094301063$"
      ],
      "text/plain": [
       "1.71291094301063"
      ]
     },
     "metadata": {},
     "output_type": "display_data"
    },
    {
     "data": {
      "text/latex": [
       "$\\displaystyle \\frac{8}{9} - \\frac{\\sqrt{55}}{9}$"
      ],
      "text/plain": [
       "8/9 - sqrt(55)/9"
      ]
     },
     "metadata": {},
     "output_type": "display_data"
    }
   ],
   "source": [
    "print(\"x values:\")\n",
    "display(roots_sys3[0][0].evalf(),roots_sys3[1][0]) # getting only the values of x\n",
    "print(\"y values:\")\n",
    "display(roots_sys3[0][1].evalf(),roots_sys3[1][1]) # getting only the value of y"
   ]
  },
  {
   "cell_type": "markdown",
   "metadata": {},
   "source": [
    "## Β. Ordinary differential equations and systems of them"
   ]
  },
  {
   "cell_type": "markdown",
   "metadata": {},
   "source": [
    "### **Differential equations**"
   ]
  },
  {
   "cell_type": "code",
   "execution_count": 17,
   "metadata": {},
   "outputs": [
    {
     "data": {
      "text/latex": [
       "$\\displaystyle \\frac{d}{d x} f{\\left(x \\right)} = 2 f{\\left(x \\right)}$"
      ],
      "text/plain": [
       "Eq(Derivative(f(x), x), 2*f(x))"
      ]
     },
     "metadata": {},
     "output_type": "display_data"
    },
    {
     "data": {
      "text/latex": [
       "$\\displaystyle f{\\left(x \\right)} = C_{1} e^{2 x}$"
      ],
      "text/plain": [
       "Eq(f(x), C1*exp(2*x))"
      ]
     },
     "metadata": {},
     "output_type": "display_data"
    },
    {
     "data": {
      "text/latex": [
       "$\\displaystyle C_{1} e^{2 x}$"
      ],
      "text/plain": [
       "C1*exp(2*x)"
      ]
     },
     "metadata": {},
     "output_type": "display_data"
    }
   ],
   "source": [
    "# Example 1: First order differential equation\n",
    "\n",
    "# Step 1 -> defining the independent variable\n",
    "x = smp.symbols(\"x\")\n",
    "# Step 2 -> defining the unknown function as a symbol-function \n",
    "f = smp.Function(\"f\") \n",
    "# Step 3 -> defining the differential equation\n",
    "deq1 = smp.Eq(f(x).diff(x),2*f(x)) \n",
    "display(deq1)\n",
    "# Step 4 -> solving the differential equation\n",
    "dsol1 = smp.dsolve(deq1,f(x)) \n",
    "display(dsol1)\n",
    "display(dsol1.rhs) # getting only the formula of the solution-function (rhs->right hand side of equation)"
   ]
  },
  {
   "cell_type": "code",
   "execution_count": 18,
   "metadata": {},
   "outputs": [
    {
     "data": {
      "text/latex": [
       "$\\displaystyle C_{1} e^{4}$"
      ],
      "text/plain": [
       "C1*exp(4)"
      ]
     },
     "execution_count": 18,
     "metadata": {},
     "output_type": "execute_result"
    }
   ],
   "source": [
    "# Using the solution of the differential equation\n",
    "def f1_sol(x_val):\n",
    "    return dsol1.rhs.subs(x,x_val)\n",
    "\n",
    "f1_sol(2)"
   ]
  },
  {
   "cell_type": "code",
   "execution_count": 19,
   "metadata": {},
   "outputs": [
    {
     "data": {
      "text/latex": [
       "$\\displaystyle \\frac{d^{2}}{d x^{2}} f{\\left(x \\right)} = 2 x$"
      ],
      "text/plain": [
       "Eq(Derivative(f(x), (x, 2)), 2*x)"
      ]
     },
     "metadata": {},
     "output_type": "display_data"
    },
    {
     "data": {
      "text/latex": [
       "$\\displaystyle f{\\left(x \\right)} = C_{1} + C_{2} x + \\frac{x^{3}}{3}$"
      ],
      "text/plain": [
       "Eq(f(x), C1 + C2*x + x**3/3)"
      ]
     },
     "metadata": {},
     "output_type": "display_data"
    },
    {
     "data": {
      "text/latex": [
       "$\\displaystyle C_{1} + C_{2} x + \\frac{x^{3}}{3}$"
      ],
      "text/plain": [
       "C1 + C2*x + x**3/3"
      ]
     },
     "metadata": {},
     "output_type": "display_data"
    }
   ],
   "source": [
    "# Example 2: Second order differential equation\n",
    "\n",
    "# Step 1 -> defining the independent variable\n",
    "x = smp.symbols(\"x\")\n",
    "# Step 2 -> defining the unknown function as a symbol-function\n",
    "f = smp.Function(\"f\") \n",
    "# Step 3 -> defining the differential equation\n",
    "deq2 = smp.Eq(f(x).diff(x,2),2*x) \n",
    "display(deq2)\n",
    "# Step 4 -> solving the differential equation\n",
    "dsol2 = smp.dsolve(deq2,f(x)) \n",
    "display(dsol2)\n",
    "display(dsol2.rhs) # getting only the formula of the solution-function"
   ]
  },
  {
   "cell_type": "markdown",
   "metadata": {},
   "source": [
    "### **Systems of differential equations**"
   ]
  },
  {
   "cell_type": "code",
   "execution_count": 20,
   "metadata": {},
   "outputs": [
    {
     "data": {
      "text/latex": [
       "$\\displaystyle \\frac{d}{d x} f{\\left(x \\right)} = g{\\left(x \\right)}$"
      ],
      "text/plain": [
       "Eq(Derivative(f(x), x), g(x))"
      ]
     },
     "metadata": {},
     "output_type": "display_data"
    },
    {
     "data": {
      "text/latex": [
       "$\\displaystyle \\frac{d}{d x} g{\\left(x \\right)} = 2 x$"
      ],
      "text/plain": [
       "Eq(Derivative(g(x), x), 2*x)"
      ]
     },
     "metadata": {},
     "output_type": "display_data"
    },
    {
     "data": {
      "text/plain": [
       "[Eq(f(x), C1 + C2*x + x**3/3), Eq(g(x), C2 + x**2)]"
      ]
     },
     "metadata": {},
     "output_type": "display_data"
    },
    {
     "data": {
      "text/latex": [
       "$\\displaystyle f{\\left(x \\right)} = C_{1} + C_{2} x + \\frac{x^{3}}{3}$"
      ],
      "text/plain": [
       "Eq(f(x), C1 + C2*x + x**3/3)"
      ]
     },
     "metadata": {},
     "output_type": "display_data"
    },
    {
     "data": {
      "text/latex": [
       "$\\displaystyle g{\\left(x \\right)} = C_{2} + x^{2}$"
      ],
      "text/plain": [
       "Eq(g(x), C2 + x**2)"
      ]
     },
     "metadata": {},
     "output_type": "display_data"
    },
    {
     "data": {
      "text/latex": [
       "$\\displaystyle C_{1} + C_{2} x + \\frac{x^{3}}{3}$"
      ],
      "text/plain": [
       "C1 + C2*x + x**3/3"
      ]
     },
     "metadata": {},
     "output_type": "display_data"
    },
    {
     "data": {
      "text/latex": [
       "$\\displaystyle C_{2} + x^{2}$"
      ],
      "text/plain": [
       "C2 + x**2"
      ]
     },
     "metadata": {},
     "output_type": "display_data"
    }
   ],
   "source": [
    "# Example 3: Solving the Second order differential equation of Example 2 as a system of two differential equations of first order\n",
    "\n",
    "# Step 1 -> defining the independent variable\n",
    "x = smp.symbols(\"x\")\n",
    "# Step 2 -> defining the unknown functions as symbol-functions\n",
    "f = smp.Function(\"f\")\n",
    "g = smp.Function(\"g\") # this one will be considered as g=df/dx \n",
    "# Step 3 -> defining the differential equations and getting their system\n",
    "deq3_1 = smp.Eq(f(x).diff(x),g(x)) \n",
    "deq3_2 = smp.Eq(g(x).diff(x),2*x)\n",
    "display(deq3_1,deq3_2)\n",
    "dsys_3 = (deq3_1,deq3_2)\n",
    "# Step 4 -> solving the system of differential equations\n",
    "dsol3 = smp.dsolve(dsys_3,[f(x),g(x)]) # try to inverse the functions f and g in the given list !!!\n",
    "display(dsol3)\n",
    "display(dsol3[0],dsol3[1])\n",
    "display(dsol3[0].rhs,dsol3[1].rhs) # getting only the formulas of the solutions-functions"
   ]
  },
  {
   "cell_type": "code",
   "execution_count": 21,
   "metadata": {},
   "outputs": [
    {
     "data": {
      "text/latex": [
       "$\\displaystyle \\frac{d}{d t} x{\\left(t \\right)} = x{\\left(t \\right)} + y{\\left(t \\right)}$"
      ],
      "text/plain": [
       "Eq(Derivative(x(t), t), x(t) + y(t))"
      ]
     },
     "metadata": {},
     "output_type": "display_data"
    },
    {
     "data": {
      "text/latex": [
       "$\\displaystyle \\frac{d}{d t} y{\\left(t \\right)} = x{\\left(t \\right)} - y{\\left(t \\right)}$"
      ],
      "text/plain": [
       "Eq(Derivative(y(t), t), x(t) - y(t))"
      ]
     },
     "metadata": {},
     "output_type": "display_data"
    },
    {
     "data": {
      "text/plain": [
       "[Eq(x(t), C1*(1 - sqrt(2))*exp(-sqrt(2)*t) + C2*(1 + sqrt(2))*exp(sqrt(2)*t)),\n",
       " Eq(y(t), C1*exp(-sqrt(2)*t) + C2*exp(sqrt(2)*t))]"
      ]
     },
     "metadata": {},
     "output_type": "display_data"
    },
    {
     "data": {
      "text/latex": [
       "$\\displaystyle x{\\left(t \\right)} = C_{1} \\left(1 - \\sqrt{2}\\right) e^{- \\sqrt{2} t} + C_{2} \\left(1 + \\sqrt{2}\\right) e^{\\sqrt{2} t}$"
      ],
      "text/plain": [
       "Eq(x(t), C1*(1 - sqrt(2))*exp(-sqrt(2)*t) + C2*(1 + sqrt(2))*exp(sqrt(2)*t))"
      ]
     },
     "metadata": {},
     "output_type": "display_data"
    },
    {
     "data": {
      "text/latex": [
       "$\\displaystyle y{\\left(t \\right)} = C_{1} e^{- \\sqrt{2} t} + C_{2} e^{\\sqrt{2} t}$"
      ],
      "text/plain": [
       "Eq(y(t), C1*exp(-sqrt(2)*t) + C2*exp(sqrt(2)*t))"
      ]
     },
     "metadata": {},
     "output_type": "display_data"
    },
    {
     "data": {
      "text/latex": [
       "$\\displaystyle C_{1} \\left(1 - \\sqrt{2}\\right) e^{- \\sqrt{2} t} + C_{2} \\left(1 + \\sqrt{2}\\right) e^{\\sqrt{2} t}$"
      ],
      "text/plain": [
       "C1*(1 - sqrt(2))*exp(-sqrt(2)*t) + C2*(1 + sqrt(2))*exp(sqrt(2)*t)"
      ]
     },
     "metadata": {},
     "output_type": "display_data"
    },
    {
     "data": {
      "text/latex": [
       "$\\displaystyle C_{1} e^{- \\sqrt{2} t} + C_{2} e^{\\sqrt{2} t}$"
      ],
      "text/plain": [
       "C1*exp(-sqrt(2)*t) + C2*exp(sqrt(2)*t)"
      ]
     },
     "metadata": {},
     "output_type": "display_data"
    }
   ],
   "source": [
    "# Example 4: another example of a system of differential equations\n",
    "\n",
    "# Step 1 -> defining the independent variable\n",
    "t = smp.symbols(\"t\")\n",
    "# Step 2 -> defining the unknown functions as symbol-functions\n",
    "x = smp.Function('x')(t)\n",
    "y = smp.Function('y')(t)\n",
    "# Step 3 -> Defining the system of the differential equations\n",
    "deq4_1 = smp.Eq(x.diff(t), x + y)\n",
    "deq4_2 = smp.Eq(y.diff(t), x - y)\n",
    "display(deq4_1,deq4_2)\n",
    "dsys_4 = [deq4_1,deq4_2]\n",
    "# Step 4 -> solving the system of differential equations\n",
    "dsol4 = smp.dsolve(dsys_4,[x,y])\n",
    "display(dsol4)\n",
    "display(dsol4[0],dsol4[1])\n",
    "display(dsol4[0].rhs,dsol4[1].rhs) # getting only the formulas of the solutions-functions"
   ]
  },
  {
   "cell_type": "markdown",
   "metadata": {},
   "source": [
    "### **Initial values problems**"
   ]
  },
  {
   "cell_type": "code",
   "execution_count": 22,
   "metadata": {},
   "outputs": [
    {
     "data": {
      "text/latex": [
       "$\\displaystyle \\frac{d}{d t} x{\\left(t \\right)} = x{\\left(t \\right)} + y{\\left(t \\right)}$"
      ],
      "text/plain": [
       "Eq(Derivative(x(t), t), x(t) + y(t))"
      ]
     },
     "metadata": {},
     "output_type": "display_data"
    },
    {
     "data": {
      "text/latex": [
       "$\\displaystyle \\frac{d}{d t} y{\\left(t \\right)} = x{\\left(t \\right)} - y{\\left(t \\right)}$"
      ],
      "text/plain": [
       "Eq(Derivative(y(t), t), x(t) - y(t))"
      ]
     },
     "metadata": {},
     "output_type": "display_data"
    },
    {
     "data": {
      "text/plain": [
       "[Eq(x(t), (4 + 7*sqrt(2))*exp(sqrt(2)*t)/4 + (4 - 7*sqrt(2))*exp(-sqrt(2)*t)/4),\n",
       " Eq(y(t), (10 - 3*sqrt(2))*exp(sqrt(2)*t)/4 + (3*sqrt(2) + 10)*exp(-sqrt(2)*t)/4)]"
      ]
     },
     "metadata": {},
     "output_type": "display_data"
    },
    {
     "data": {
      "text/latex": [
       "$\\displaystyle x{\\left(t \\right)} = \\frac{\\left(4 + 7 \\sqrt{2}\\right) e^{\\sqrt{2} t}}{4} + \\frac{\\left(4 - 7 \\sqrt{2}\\right) e^{- \\sqrt{2} t}}{4}$"
      ],
      "text/plain": [
       "Eq(x(t), (4 + 7*sqrt(2))*exp(sqrt(2)*t)/4 + (4 - 7*sqrt(2))*exp(-sqrt(2)*t)/4)"
      ]
     },
     "metadata": {},
     "output_type": "display_data"
    },
    {
     "data": {
      "text/latex": [
       "$\\displaystyle y{\\left(t \\right)} = \\frac{\\left(10 - 3 \\sqrt{2}\\right) e^{\\sqrt{2} t}}{4} + \\frac{\\left(3 \\sqrt{2} + 10\\right) e^{- \\sqrt{2} t}}{4}$"
      ],
      "text/plain": [
       "Eq(y(t), (10 - 3*sqrt(2))*exp(sqrt(2)*t)/4 + (3*sqrt(2) + 10)*exp(-sqrt(2)*t)/4)"
      ]
     },
     "metadata": {},
     "output_type": "display_data"
    }
   ],
   "source": [
    "# Example 5: Adding initial values on the problem of Example 4\n",
    "\n",
    "# Step 1 -> defining the independent variable\n",
    "t = smp.symbols(\"t\")\n",
    "# Step 2 -> defining the unknown functions as symbol-functions\n",
    "x = smp.Function('x')(t)\n",
    "y = smp.Function('y')(t)\n",
    "# Step 3 -> Defining the system of the differential equations\n",
    "deq5_1 = smp.Eq(x.diff(t), x + y)\n",
    "deq5_2 = smp.Eq(y.diff(t), x - y)\n",
    "display(deq5_1,deq5_2)\n",
    "dsys_5 = [deq5_1,deq5_2]\n",
    "# Step 4 -> solving the system of differential equations\n",
    "dsol5 = smp.dsolve(dsys_5,\n",
    "                   [x,y],\n",
    "                   ics={x.subs(t,0):2,y.subs(t,0):5})\n",
    "display(dsol5)\n",
    "display(dsol5[0],dsol5[1])"
   ]
  },
  {
   "cell_type": "code",
   "execution_count": 23,
   "metadata": {},
   "outputs": [
    {
     "data": {
      "text/latex": [
       "$\\displaystyle ω_{0}^{2} x{\\left(t \\right)} + \\frac{d^{2}}{d t^{2}} x{\\left(t \\right)} = 0$"
      ],
      "text/plain": [
       "Eq(ω_0**2*x(t) + Derivative(x(t), (t, 2)), 0)"
      ]
     },
     "metadata": {},
     "output_type": "display_data"
    },
    {
     "data": {
      "text/latex": [
       "$\\displaystyle x{\\left(t \\right)} = C_{1} \\sin{\\left(t ω_{0} \\right)} + C_{2} \\cos{\\left(t ω_{0} \\right)}$"
      ],
      "text/plain": [
       "Eq(x(t), C1*sin(t*ω_0) + C2*cos(t*ω_0))"
      ]
     },
     "metadata": {},
     "output_type": "display_data"
    },
    {
     "data": {
      "text/latex": [
       "$\\displaystyle x{\\left(t \\right)} = \\frac{u_{0} \\sin{\\left(t ω_{0} \\right)}}{ω_{0}} + x_{0} \\cos{\\left(t ω_{0} \\right)}$"
      ],
      "text/plain": [
       "Eq(x(t), u_0*sin(t*ω_0)/ω_0 + x_0*cos(t*ω_0))"
      ]
     },
     "metadata": {},
     "output_type": "display_data"
    }
   ],
   "source": [
    "# Example 6: the classical harmonic oscillator\n",
    "\n",
    "# Step 1 -> defining the independent variable and useful symbols\n",
    "t = smp.symbols(\"t\",Real=True)\n",
    "x_0,u_0 = smp.symbols(\"x_0,u_0\",Real=True) # initial values of position and velocity as symbols\n",
    "omega_0 = smp.symbols(\"ω_0\",Real=True,positive=True) # eigen-frequency\n",
    "# Step 2 -> defining the unknown function as symbol-function\n",
    "x = smp.Function(\"x\")\n",
    "# Step 3 -> Defining the differential equation\n",
    "deq6 = smp.Eq(x(t).diff(t,2)+omega_0**2*x(t),0)\n",
    "display(deq6)\n",
    "# Step 4a -> solving the differential equation without initial values\n",
    "dsol6a = smp.dsolve(deq6,\n",
    "                   x(t),\n",
    "                   )\n",
    "display(dsol6a)\n",
    "# Step 4b -> solving the differential equation with initial values\n",
    "dsol6b = smp.dsolve(deq6,\n",
    "                   x(t),\n",
    "                   ics={x(0):x_0,x(t).diff(t).subs(t,0):u_0})\n",
    "display(dsol6b)"
   ]
  },
  {
   "cell_type": "code",
   "execution_count": null,
   "metadata": {},
   "outputs": [],
   "source": []
  }
 ],
 "metadata": {
  "kernelspec": {
   "display_name": "Python 3",
   "language": "python",
   "name": "python3"
  },
  "language_info": {
   "codemirror_mode": {
    "name": "ipython",
    "version": 3
   },
   "file_extension": ".py",
   "mimetype": "text/x-python",
   "name": "python",
   "nbconvert_exporter": "python",
   "pygments_lexer": "ipython3",
   "version": "3.11.6"
  }
 },
 "nbformat": 4,
 "nbformat_minor": 2
}
