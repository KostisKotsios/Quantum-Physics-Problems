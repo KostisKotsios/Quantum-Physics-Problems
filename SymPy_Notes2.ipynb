{
 "cells": [
  {
   "cell_type": "markdown",
   "metadata": {},
   "source": [
    "**PHYSICS DEPARTMENT - ARISTOTLE UNIVERSITY OF THESSALONIKI**<br>\n",
    "**SUBJECT: Quantum Physics Problems [ΓΘΕ204]**<br>\n",
    "**ACADEMIC YEAR: 2024-2025**\n",
    "\n",
    "***SymPy Notebook 2:***<br>\n",
    "-Linear algebra with `SymPy`<br>\n",
    "\n",
    "**Written by: Ioannis Stergakis (postgraduate student at MSc Computational Physics AUTh)**"
   ]
  },
  {
   "cell_type": "code",
   "execution_count": 32,
   "metadata": {},
   "outputs": [],
   "source": [
    "# Importation of useful modules (never forget to run this cell !!!)\n",
    "import sympy as smp\n",
    "import numpy as np\n",
    "import matplotlib.pyplot as plt"
   ]
  },
  {
   "cell_type": "markdown",
   "metadata": {},
   "source": [
    "# **Application 3: Linear Algebra**\n",
    "\n",
    "In `SymPy` we can define and manipulate, as well as perform all the known operations of linear algebra between matrices"
   ]
  },
  {
   "cell_type": "markdown",
   "metadata": {},
   "source": [
    "## A. Defining and displaying matrices"
   ]
  },
  {
   "cell_type": "code",
   "execution_count": 33,
   "metadata": {},
   "outputs": [],
   "source": [
    "# Defining the elements of matrices as symbols\n",
    "a11,a12,a21,a22 = smp.symbols(\"a_{11},a_{12},a_{21},a_{22}\") # elements a_ij of a 2x2 matrix A\n",
    "b1,b2 = smp.symbols(\"b_{1},b_{2}\") # elements b_ij of a 2x1 matrix B\n",
    "c11,c12,c13,c21,c22,c23,c31,c32,c33 = smp.symbols(\"c_{11},c_{12},c_{13},c_{21},c_{22},c_{23},c_{31},c_{32},c_{33}\") # elements c_ij of a 3x3 matrix C"
   ]
  },
  {
   "cell_type": "code",
   "execution_count": 34,
   "metadata": {},
   "outputs": [
    {
     "data": {
      "text/latex": [
       "$\\displaystyle \\left[\\begin{matrix}a_{11} & a_{12}\\\\a_{21} & a_{22}\\end{matrix}\\right]$"
      ],
      "text/plain": [
       "Matrix([\n",
       "[a_{11}, a_{12}],\n",
       "[a_{21}, a_{22}]])"
      ]
     },
     "metadata": {},
     "output_type": "display_data"
    },
    {
     "data": {
      "text/latex": [
       "$\\displaystyle \\left[\\begin{matrix}b_{1}\\\\b_{2}\\end{matrix}\\right]$"
      ],
      "text/plain": [
       "Matrix([\n",
       "[b_{1}],\n",
       "[b_{2}]])"
      ]
     },
     "metadata": {},
     "output_type": "display_data"
    },
    {
     "data": {
      "text/latex": [
       "$\\displaystyle \\left[\\begin{matrix}c_{11} & c_{12} & c_{13}\\\\c_{21} & c_{22} & c_{23}\\\\c_{31} & c_{32} & c_{33}\\end{matrix}\\right]$"
      ],
      "text/plain": [
       "Matrix([\n",
       "[c_{11}, c_{12}, c_{13}],\n",
       "[c_{21}, c_{22}, c_{23}],\n",
       "[c_{31}, c_{32}, c_{33}]])"
      ]
     },
     "metadata": {},
     "output_type": "display_data"
    },
    {
     "data": {
      "text/latex": [
       "$\\displaystyle \\left[\\begin{matrix}x y & \\left(x + y\\right)^{2}\\\\\\frac{x}{y} & 2 x + 3 y\\end{matrix}\\right]$"
      ],
      "text/plain": [
       "Matrix([\n",
       "[x*y, (x + y)**2],\n",
       "[x/y,  2*x + 3*y]])"
      ]
     },
     "metadata": {},
     "output_type": "display_data"
    },
    {
     "data": {
      "text/latex": [
       "$\\displaystyle \\left[\\begin{matrix}2 & 5\\\\-1 & 4\\end{matrix}\\right]$"
      ],
      "text/plain": [
       "Matrix([\n",
       "[ 2, 5],\n",
       "[-1, 4]])"
      ]
     },
     "metadata": {},
     "output_type": "display_data"
    }
   ],
   "source": [
    "# Defining and displaying the matrices\n",
    "\n",
    "# 2x2 square matrix A\n",
    "A = smp.Matrix([[a11,a12],[a21,a22]])\n",
    "display(A)\n",
    "\n",
    "# 2x1 column matrix B\n",
    "B = smp.Matrix([[b1],[b2]])\n",
    "display(B)\n",
    "\n",
    "# 3x3 square mattrix C\n",
    "C = smp.Matrix([[c11,c12,c13],[c21,c22,c23],[c31,c32,c33]])\n",
    "display(C)\n",
    "\n",
    "# 2x2 square matrix D\n",
    "x,y = smp.symbols(\"x y\")\n",
    "D = smp.Matrix([[x*y,(x+y)**2],[x/y,2*x+3*y]])\n",
    "display(D)\n",
    "\n",
    "# 2x2 square matrix F\n",
    "F = smp.Matrix([[2,5],[-1,4]])\n",
    "display(F)"
   ]
  },
  {
   "cell_type": "markdown",
   "metadata": {},
   "source": [
    "## B. Matrix operations"
   ]
  },
  {
   "cell_type": "markdown",
   "metadata": {},
   "source": [
    "One can find the sum or the difference between matrices with the same dimensions "
   ]
  },
  {
   "cell_type": "code",
   "execution_count": 35,
   "metadata": {},
   "outputs": [
    {
     "data": {
      "text/latex": [
       "$\\displaystyle \\left[\\begin{matrix}a_{11} + x y & a_{12} + \\left(x + y\\right)^{2}\\\\a_{21} + \\frac{x}{y} & a_{22} + 2 x + 3 y\\end{matrix}\\right]$"
      ],
      "text/plain": [
       "Matrix([\n",
       "[a_{11} + x*y, a_{12} + (x + y)**2],\n",
       "[a_{21} + x/y,  a_{22} + 2*x + 3*y]])"
      ]
     },
     "metadata": {},
     "output_type": "display_data"
    },
    {
     "data": {
      "text/latex": [
       "$\\displaystyle \\left[\\begin{matrix}a_{11} - x y & a_{12} - \\left(x + y\\right)^{2}\\\\a_{21} - \\frac{x}{y} & a_{22} - 2 x - 3 y\\end{matrix}\\right]$"
      ],
      "text/plain": [
       "Matrix([\n",
       "[a_{11} - x*y, a_{12} - (x + y)**2],\n",
       "[a_{21} - x/y,  a_{22} - 2*x - 3*y]])"
      ]
     },
     "metadata": {},
     "output_type": "display_data"
    }
   ],
   "source": [
    "# Sum of two matrices\n",
    "display(A+D)\n",
    "\n",
    "# Difference of two matrices\n",
    "display(A-D)"
   ]
  },
  {
   "cell_type": "markdown",
   "metadata": {},
   "source": [
    "We can, also, perform matrix multiplication according to the rules of linear algebra. That is the number of columns of the matrix in the left of the product\n",
    "must be equal to the number of rows of the matrix in the right of the product:"
   ]
  },
  {
   "cell_type": "code",
   "execution_count": 36,
   "metadata": {},
   "outputs": [
    {
     "data": {
      "text/latex": [
       "$\\displaystyle \\left[\\begin{matrix}2 λ & 5 λ\\\\- λ & 4 λ\\end{matrix}\\right]$"
      ],
      "text/plain": [
       "Matrix([\n",
       "[2*λ, 5*λ],\n",
       "[ -λ, 4*λ]])"
      ]
     },
     "metadata": {},
     "output_type": "display_data"
    },
    {
     "data": {
      "text/latex": [
       "$\\displaystyle \\left[\\begin{matrix}a_{11} b_{1} + a_{12} b_{2}\\\\a_{21} b_{1} + a_{22} b_{2}\\end{matrix}\\right]$"
      ],
      "text/plain": [
       "Matrix([\n",
       "[a_{11}*b_{1} + a_{12}*b_{2}],\n",
       "[a_{21}*b_{1} + a_{22}*b_{2}]])"
      ]
     },
     "metadata": {},
     "output_type": "display_data"
    },
    {
     "data": {
      "text/latex": [
       "$\\displaystyle \\left[\\begin{matrix}a_{11} x y + \\frac{a_{12} x}{y} & a_{11} \\left(x + y\\right)^{2} + a_{12} \\cdot \\left(2 x + 3 y\\right)\\\\a_{21} x y + \\frac{a_{22} x}{y} & a_{21} \\left(x + y\\right)^{2} + a_{22} \\cdot \\left(2 x + 3 y\\right)\\end{matrix}\\right]$"
      ],
      "text/plain": [
       "Matrix([\n",
       "[a_{11}*x*y + a_{12}*x/y, a_{11}*(x + y)**2 + a_{12}*(2*x + 3*y)],\n",
       "[a_{21}*x*y + a_{22}*x/y, a_{21}*(x + y)**2 + a_{22}*(2*x + 3*y)]])"
      ]
     },
     "metadata": {},
     "output_type": "display_data"
    }
   ],
   "source": [
    "# Multiplication of a matrix by a constant\n",
    "l = smp.symbols(\"λ\")\n",
    "display(l*F)\n",
    "\n",
    "# Product A*B\n",
    "display(A*B)\n",
    "\n",
    "# Product A*D\n",
    "display(A*D)"
   ]
  },
  {
   "cell_type": "markdown",
   "metadata": {},
   "source": [
    "Of course one can calculate the powers of a matrix:"
   ]
  },
  {
   "cell_type": "code",
   "execution_count": 37,
   "metadata": {},
   "outputs": [
    {
     "data": {
      "text/latex": [
       "$\\displaystyle \\left[\\begin{matrix}a_{11}^{2} + a_{12} a_{21} & a_{11} a_{12} + a_{12} a_{22}\\\\a_{11} a_{21} + a_{21} a_{22} & a_{12} a_{21} + a_{22}^{2}\\end{matrix}\\right]$"
      ],
      "text/plain": [
       "Matrix([\n",
       "[    a_{11}**2 + a_{12}*a_{21}, a_{11}*a_{12} + a_{12}*a_{22}],\n",
       "[a_{11}*a_{21} + a_{21}*a_{22},     a_{12}*a_{21} + a_{22}**2]])"
      ]
     },
     "metadata": {},
     "output_type": "display_data"
    },
    {
     "data": {
      "text/latex": [
       "$\\displaystyle \\left[\\begin{matrix}\\frac{x^{3} + x^{2} y^{3} + 2 x^{2} y + x y^{2}}{y} & x^{3} y + 2 x^{3} + 2 x^{2} y^{2} + 7 x^{2} y + x y^{3} + 8 x y^{2} + 3 y^{3}\\\\\\frac{x^{2} y + 2 x^{2} + 3 x y}{y} & \\frac{x^{3} + 6 x^{2} y + 13 x y^{2} + 9 y^{3}}{y}\\end{matrix}\\right]$"
      ],
      "text/plain": [
       "Matrix([\n",
       "[(x**3 + x**2*y**3 + 2*x**2*y + x*y**2)/y, x**3*y + 2*x**3 + 2*x**2*y**2 + 7*x**2*y + x*y**3 + 8*x*y**2 + 3*y**3],\n",
       "[             (x**2*y + 2*x**2 + 3*x*y)/y,                              (x**3 + 6*x**2*y + 13*x*y**2 + 9*y**3)/y]])"
      ]
     },
     "metadata": {},
     "output_type": "display_data"
    },
    {
     "data": {
      "text/latex": [
       "$\\displaystyle \\left[\\begin{matrix}-1 & 30\\\\-6 & 11\\end{matrix}\\right]$"
      ],
      "text/plain": [
       "Matrix([\n",
       "[-1, 30],\n",
       "[-6, 11]])"
      ]
     },
     "metadata": {},
     "output_type": "display_data"
    },
    {
     "data": {
      "text/latex": [
       "$\\displaystyle \\left[\\begin{matrix}a_{11}^{3} + 2 a_{11} a_{12} a_{21} + a_{12} a_{21} a_{22} & a_{11}^{2} a_{12} + a_{11} a_{12} a_{22} + a_{12}^{2} a_{21} + a_{12} a_{22}^{2}\\\\a_{11}^{2} a_{21} + a_{11} a_{21} a_{22} + a_{12} a_{21}^{2} + a_{21} a_{22}^{2} & a_{11} a_{12} a_{21} + 2 a_{12} a_{21} a_{22} + a_{22}^{3}\\end{matrix}\\right]$"
      ],
      "text/plain": [
       "Matrix([\n",
       "[                    a_{11}**3 + 2*a_{11}*a_{12}*a_{21} + a_{12}*a_{21}*a_{22}, a_{11}**2*a_{12} + a_{11}*a_{12}*a_{22} + a_{12}**2*a_{21} + a_{12}*a_{22}**2],\n",
       "[a_{11}**2*a_{21} + a_{11}*a_{21}*a_{22} + a_{12}*a_{21}**2 + a_{21}*a_{22}**2,                     a_{11}*a_{12}*a_{21} + 2*a_{12}*a_{21}*a_{22} + a_{22}**3]])"
      ]
     },
     "metadata": {},
     "output_type": "display_data"
    }
   ],
   "source": [
    "# A^2 = A*A\n",
    "display(A**2)\n",
    "\n",
    "# D^2 = D*D\n",
    "display(D**2)\n",
    "\n",
    "# F^2 = F*F\n",
    "display(F**2)\n",
    "\n",
    "# A^3 = A*A*A\n",
    "display(A**3)"
   ]
  },
  {
   "cell_type": "markdown",
   "metadata": {},
   "source": [
    "## C. Determinant, transpose and inverse of a matrix"
   ]
  },
  {
   "cell_type": "markdown",
   "metadata": {},
   "source": [
    "Using the `Determinant()` function we can dipslay the determinant of a matrix, while using the `.det()` function we can calculate the determinant of a matrix, as shown below:"
   ]
  },
  {
   "cell_type": "code",
   "execution_count": 38,
   "metadata": {},
   "outputs": [
    {
     "data": {
      "text/latex": [
       "$\\displaystyle \\left|{\\begin{matrix}a_{11} & a_{12}\\\\a_{21} & a_{22}\\end{matrix}}\\right|$"
      ],
      "text/plain": [
       "Determinant(Matrix([\n",
       "[a_{11}, a_{12}],\n",
       "[a_{21}, a_{22}]]))"
      ]
     },
     "metadata": {},
     "output_type": "display_data"
    },
    {
     "data": {
      "text/latex": [
       "$\\displaystyle a_{11} a_{22} - a_{12} a_{21}$"
      ],
      "text/plain": [
       "a_{11}*a_{22} - a_{12}*a_{21}"
      ]
     },
     "metadata": {},
     "output_type": "display_data"
    }
   ],
   "source": [
    "# Determinant of matrix A\n",
    "display(smp.Determinant(A))\n",
    "display(A.det())"
   ]
  },
  {
   "cell_type": "code",
   "execution_count": 39,
   "metadata": {},
   "outputs": [
    {
     "data": {
      "text/latex": [
       "$\\displaystyle \\left|{\\begin{matrix}c_{11} & c_{12} & c_{13}\\\\c_{21} & c_{22} & c_{23}\\\\c_{31} & c_{32} & c_{33}\\end{matrix}}\\right|$"
      ],
      "text/plain": [
       "Determinant(Matrix([\n",
       "[c_{11}, c_{12}, c_{13}],\n",
       "[c_{21}, c_{22}, c_{23}],\n",
       "[c_{31}, c_{32}, c_{33}]]))"
      ]
     },
     "metadata": {},
     "output_type": "display_data"
    },
    {
     "data": {
      "text/latex": [
       "$\\displaystyle c_{11} c_{22} c_{33} - c_{11} c_{23} c_{32} - c_{12} c_{21} c_{33} + c_{12} c_{23} c_{31} + c_{13} c_{21} c_{32} - c_{13} c_{22} c_{31}$"
      ],
      "text/plain": [
       "c_{11}*c_{22}*c_{33} - c_{11}*c_{23}*c_{32} - c_{12}*c_{21}*c_{33} + c_{12}*c_{23}*c_{31} + c_{13}*c_{21}*c_{32} - c_{13}*c_{22}*c_{31}"
      ]
     },
     "metadata": {},
     "output_type": "display_data"
    }
   ],
   "source": [
    "# Determinant of matrix C\n",
    "display(smp.Determinant(C))\n",
    "display(C.det())"
   ]
  },
  {
   "cell_type": "code",
   "execution_count": 40,
   "metadata": {},
   "outputs": [
    {
     "data": {
      "text/latex": [
       "$\\displaystyle \\left|{\\begin{matrix}x y & \\left(x + y\\right)^{2}\\\\\\frac{x}{y} & 2 x + 3 y\\end{matrix}}\\right|$"
      ],
      "text/plain": [
       "Determinant(Matrix([\n",
       "[x*y, (x + y)**2],\n",
       "[x/y,  2*x + 3*y]]))"
      ]
     },
     "metadata": {},
     "output_type": "display_data"
    },
    {
     "data": {
      "text/latex": [
       "$\\displaystyle \\frac{- x^{3} + 2 x^{2} y^{2} - 2 x^{2} y + 3 x y^{3} - x y^{2}}{y}$"
      ],
      "text/plain": [
       "(-x**3 + 2*x**2*y**2 - 2*x**2*y + 3*x*y**3 - x*y**2)/y"
      ]
     },
     "metadata": {},
     "output_type": "display_data"
    }
   ],
   "source": [
    "# Determinant of matrix D\n",
    "display(smp.Determinant(D))\n",
    "display(D.det())"
   ]
  },
  {
   "cell_type": "code",
   "execution_count": 41,
   "metadata": {},
   "outputs": [
    {
     "data": {
      "text/latex": [
       "$\\displaystyle \\left|{\\begin{matrix}2 & 5\\\\-1 & 4\\end{matrix}}\\right|$"
      ],
      "text/plain": [
       "Determinant(Matrix([\n",
       "[ 2, 5],\n",
       "[-1, 4]]))"
      ]
     },
     "metadata": {},
     "output_type": "display_data"
    },
    {
     "data": {
      "text/latex": [
       "$\\displaystyle 13$"
      ],
      "text/plain": [
       "13"
      ]
     },
     "metadata": {},
     "output_type": "display_data"
    }
   ],
   "source": [
    "# Determinant of matrix F\n",
    "display(smp.Determinant(F))\n",
    "display(F.det())"
   ]
  },
  {
   "cell_type": "markdown",
   "metadata": {},
   "source": [
    "The same goes for the transpose and inverse (if such exists) of a matrix:"
   ]
  },
  {
   "cell_type": "code",
   "execution_count": 42,
   "metadata": {},
   "outputs": [
    {
     "data": {
      "text/latex": [
       "$\\displaystyle \\left[\\begin{matrix}a_{11} & a_{12}\\\\a_{21} & a_{22}\\end{matrix}\\right]^{T}$"
      ],
      "text/plain": [
       "Matrix([\n",
       "[a_{11}, a_{12}],\n",
       "[a_{21}, a_{22}]]).T"
      ]
     },
     "metadata": {},
     "output_type": "display_data"
    },
    {
     "data": {
      "text/latex": [
       "$\\displaystyle \\left[\\begin{matrix}a_{11} & a_{21}\\\\a_{12} & a_{22}\\end{matrix}\\right]$"
      ],
      "text/plain": [
       "Matrix([\n",
       "[a_{11}, a_{21}],\n",
       "[a_{12}, a_{22}]])"
      ]
     },
     "metadata": {},
     "output_type": "display_data"
    }
   ],
   "source": [
    "# Transpose of matrix A\n",
    "display(smp.Transpose(A))\n",
    "display(A.transpose())"
   ]
  },
  {
   "cell_type": "code",
   "execution_count": 43,
   "metadata": {},
   "outputs": [
    {
     "data": {
      "text/latex": [
       "$\\displaystyle \\left(\\left[\\begin{matrix}x y & \\left(x + y\\right)^{2}\\\\\\frac{x}{y} & 2 x + 3 y\\end{matrix}\\right]\\right)^{T}$"
      ],
      "text/plain": [
       "Matrix([\n",
       "[x*y, (x + y)**2],\n",
       "[x/y,  2*x + 3*y]]).T"
      ]
     },
     "metadata": {},
     "output_type": "display_data"
    },
    {
     "data": {
      "text/latex": [
       "$\\displaystyle \\left[\\begin{matrix}x y & \\frac{x}{y}\\\\\\left(x + y\\right)^{2} & 2 x + 3 y\\end{matrix}\\right]$"
      ],
      "text/plain": [
       "Matrix([\n",
       "[       x*y,       x/y],\n",
       "[(x + y)**2, 2*x + 3*y]])"
      ]
     },
     "metadata": {},
     "output_type": "display_data"
    }
   ],
   "source": [
    "# Transpose of matrix D\n",
    "display(smp.Transpose(D))\n",
    "display(D.transpose())"
   ]
  },
  {
   "cell_type": "code",
   "execution_count": 44,
   "metadata": {},
   "outputs": [
    {
     "data": {
      "text/latex": [
       "$\\displaystyle \\left[\\begin{matrix}2 & 5\\\\-1 & 4\\end{matrix}\\right]^{T}$"
      ],
      "text/plain": [
       "Matrix([\n",
       "[ 2, 5],\n",
       "[-1, 4]]).T"
      ]
     },
     "metadata": {},
     "output_type": "display_data"
    },
    {
     "data": {
      "text/latex": [
       "$\\displaystyle \\left[\\begin{matrix}2 & -1\\\\5 & 4\\end{matrix}\\right]$"
      ],
      "text/plain": [
       "Matrix([\n",
       "[2, -1],\n",
       "[5,  4]])"
      ]
     },
     "metadata": {},
     "output_type": "display_data"
    }
   ],
   "source": [
    "\n",
    "# Transpose of matrix F\n",
    "display(smp.Transpose(F))\n",
    "display(F.transpose())"
   ]
  },
  {
   "cell_type": "code",
   "execution_count": 45,
   "metadata": {},
   "outputs": [
    {
     "data": {
      "text/latex": [
       "$\\displaystyle \\left[\\begin{matrix}a_{11} & a_{12}\\\\a_{21} & a_{22}\\end{matrix}\\right]^{-1}$"
      ],
      "text/plain": [
       "Matrix([\n",
       "[a_{11}, a_{12}],\n",
       "[a_{21}, a_{22}]])**(-1)"
      ]
     },
     "metadata": {},
     "output_type": "display_data"
    },
    {
     "data": {
      "text/latex": [
       "$\\displaystyle \\left[\\begin{matrix}\\frac{a_{22}}{a_{11} a_{22} - a_{12} a_{21}} & - \\frac{a_{12}}{a_{11} a_{22} - a_{12} a_{21}}\\\\- \\frac{a_{21}}{a_{11} a_{22} - a_{12} a_{21}} & \\frac{a_{11}}{a_{11} a_{22} - a_{12} a_{21}}\\end{matrix}\\right]$"
      ],
      "text/plain": [
       "Matrix([\n",
       "[ a_{22}/(a_{11}*a_{22} - a_{12}*a_{21}), -a_{12}/(a_{11}*a_{22} - a_{12}*a_{21})],\n",
       "[-a_{21}/(a_{11}*a_{22} - a_{12}*a_{21}),  a_{11}/(a_{11}*a_{22} - a_{12}*a_{21})]])"
      ]
     },
     "metadata": {},
     "output_type": "display_data"
    },
    {
     "data": {
      "text/latex": [
       "$\\displaystyle \\left[\\begin{matrix}\\frac{a_{11} a_{22}}{a_{11} a_{22} - a_{12} a_{21}} - \\frac{a_{12} a_{21}}{a_{11} a_{22} - a_{12} a_{21}} & 0\\\\0 & \\frac{a_{11} a_{22}}{a_{11} a_{22} - a_{12} a_{21}} - \\frac{a_{12} a_{21}}{a_{11} a_{22} - a_{12} a_{21}}\\end{matrix}\\right]$"
      ],
      "text/plain": [
       "Matrix([\n",
       "[a_{11}*a_{22}/(a_{11}*a_{22} - a_{12}*a_{21}) - a_{12}*a_{21}/(a_{11}*a_{22} - a_{12}*a_{21}),                                                                                             0],\n",
       "[                                                                                            0, a_{11}*a_{22}/(a_{11}*a_{22} - a_{12}*a_{21}) - a_{12}*a_{21}/(a_{11}*a_{22} - a_{12}*a_{21})]])"
      ]
     },
     "metadata": {},
     "output_type": "display_data"
    },
    {
     "data": {
      "text/latex": [
       "$\\displaystyle \\left[\\begin{matrix}\\frac{a_{11} a_{22}}{a_{11} a_{22} - a_{12} a_{21}} - \\frac{a_{12} a_{21}}{a_{11} a_{22} - a_{12} a_{21}} & 0\\\\0 & \\frac{a_{11} a_{22}}{a_{11} a_{22} - a_{12} a_{21}} - \\frac{a_{12} a_{21}}{a_{11} a_{22} - a_{12} a_{21}}\\end{matrix}\\right]$"
      ],
      "text/plain": [
       "Matrix([\n",
       "[a_{11}*a_{22}/(a_{11}*a_{22} - a_{12}*a_{21}) - a_{12}*a_{21}/(a_{11}*a_{22} - a_{12}*a_{21}),                                                                                             0],\n",
       "[                                                                                            0, a_{11}*a_{22}/(a_{11}*a_{22} - a_{12}*a_{21}) - a_{12}*a_{21}/(a_{11}*a_{22} - a_{12}*a_{21})]])"
      ]
     },
     "metadata": {},
     "output_type": "display_data"
    }
   ],
   "source": [
    "# Inverse of matrix A\n",
    "display(smp.Inverse(A))\n",
    "display(A.inv())\n",
    "display(A*A.inv())\n",
    "display(A.inv()*A)"
   ]
  },
  {
   "cell_type": "code",
   "execution_count": 46,
   "metadata": {},
   "outputs": [
    {
     "data": {
      "text/latex": [
       "$\\displaystyle \\left(\\left[\\begin{matrix}x y & \\left(x + y\\right)^{2}\\\\\\frac{x}{y} & 2 x + 3 y\\end{matrix}\\right]\\right)^{-1}$"
      ],
      "text/plain": [
       "Matrix([\n",
       "[x*y, (x + y)**2],\n",
       "[x/y,  2*x + 3*y]])**(-1)"
      ]
     },
     "metadata": {},
     "output_type": "display_data"
    },
    {
     "data": {
      "text/latex": [
       "$\\displaystyle \\left[\\begin{matrix}\\frac{- 2 x y - 3 y^{2}}{x^{3} - 2 x^{2} y^{2} + 2 x^{2} y - 3 x y^{3} + x y^{2}} & \\frac{x^{2} y + 2 x y^{2} + y^{3}}{x^{3} - 2 x^{2} y^{2} + 2 x^{2} y - 3 x y^{3} + x y^{2}}\\\\\\frac{1}{x^{2} - 2 x y^{2} + 2 x y - 3 y^{3} + y^{2}} & - \\frac{y^{2}}{x^{2} - 2 x y^{2} + 2 x y - 3 y^{3} + y^{2}}\\end{matrix}\\right]$"
      ],
      "text/plain": [
       "Matrix([\n",
       "[(-2*x*y - 3*y**2)/(x**3 - 2*x**2*y**2 + 2*x**2*y - 3*x*y**3 + x*y**2), (x**2*y + 2*x*y**2 + y**3)/(x**3 - 2*x**2*y**2 + 2*x**2*y - 3*x*y**3 + x*y**2)],\n",
       "[                          1/(x**2 - 2*x*y**2 + 2*x*y - 3*y**3 + y**2),                                -y**2/(x**2 - 2*x*y**2 + 2*x*y - 3*y**3 + y**2)]])"
      ]
     },
     "metadata": {},
     "output_type": "display_data"
    },
    {
     "data": {
      "text/latex": [
       "$\\displaystyle \\left[\\begin{matrix}\\frac{x y \\left(- 2 x y - 3 y^{2}\\right)}{x^{3} - 2 x^{2} y^{2} + 2 x^{2} y - 3 x y^{3} + x y^{2}} + \\frac{\\left(x + y\\right)^{2}}{x^{2} - 2 x y^{2} + 2 x y - 3 y^{3} + y^{2}} & \\frac{x y \\left(x^{2} y + 2 x y^{2} + y^{3}\\right)}{x^{3} - 2 x^{2} y^{2} + 2 x^{2} y - 3 x y^{3} + x y^{2}} - \\frac{y^{2} \\left(x + y\\right)^{2}}{x^{2} - 2 x y^{2} + 2 x y - 3 y^{3} + y^{2}}\\\\\\frac{x \\left(- 2 x y - 3 y^{2}\\right)}{y \\left(x^{3} - 2 x^{2} y^{2} + 2 x^{2} y - 3 x y^{3} + x y^{2}\\right)} + \\frac{2 x + 3 y}{x^{2} - 2 x y^{2} + 2 x y - 3 y^{3} + y^{2}} & \\frac{x \\left(x^{2} y + 2 x y^{2} + y^{3}\\right)}{y \\left(x^{3} - 2 x^{2} y^{2} + 2 x^{2} y - 3 x y^{3} + x y^{2}\\right)} - \\frac{y^{2} \\cdot \\left(2 x + 3 y\\right)}{x^{2} - 2 x y^{2} + 2 x y - 3 y^{3} + y^{2}}\\end{matrix}\\right]$"
      ],
      "text/plain": [
       "Matrix([\n",
       "[   x*y*(-2*x*y - 3*y**2)/(x**3 - 2*x**2*y**2 + 2*x**2*y - 3*x*y**3 + x*y**2) + (x + y)**2/(x**2 - 2*x*y**2 + 2*x*y - 3*y**3 + y**2),    x*y*(x**2*y + 2*x*y**2 + y**3)/(x**3 - 2*x**2*y**2 + 2*x**2*y - 3*x*y**3 + x*y**2) - y**2*(x + y)**2/(x**2 - 2*x*y**2 + 2*x*y - 3*y**3 + y**2)],\n",
       "[x*(-2*x*y - 3*y**2)/(y*(x**3 - 2*x**2*y**2 + 2*x**2*y - 3*x*y**3 + x*y**2)) + (2*x + 3*y)/(x**2 - 2*x*y**2 + 2*x*y - 3*y**3 + y**2), x*(x**2*y + 2*x*y**2 + y**3)/(y*(x**3 - 2*x**2*y**2 + 2*x**2*y - 3*x*y**3 + x*y**2)) - y**2*(2*x + 3*y)/(x**2 - 2*x*y**2 + 2*x*y - 3*y**3 + y**2)]])"
      ]
     },
     "metadata": {},
     "output_type": "display_data"
    },
    {
     "data": {
      "text/latex": [
       "$\\displaystyle \\left[\\begin{matrix}\\frac{x y \\left(- 2 x y - 3 y^{2}\\right)}{x^{3} - 2 x^{2} y^{2} + 2 x^{2} y - 3 x y^{3} + x y^{2}} + \\frac{x \\left(x^{2} y + 2 x y^{2} + y^{3}\\right)}{y \\left(x^{3} - 2 x^{2} y^{2} + 2 x^{2} y - 3 x y^{3} + x y^{2}\\right)} & \\frac{\\left(x + y\\right)^{2} \\left(- 2 x y - 3 y^{2}\\right)}{x^{3} - 2 x^{2} y^{2} + 2 x^{2} y - 3 x y^{3} + x y^{2}} + \\frac{\\left(2 x + 3 y\\right) \\left(x^{2} y + 2 x y^{2} + y^{3}\\right)}{x^{3} - 2 x^{2} y^{2} + 2 x^{2} y - 3 x y^{3} + x y^{2}}\\\\0 & - \\frac{y^{2} \\cdot \\left(2 x + 3 y\\right)}{x^{2} - 2 x y^{2} + 2 x y - 3 y^{3} + y^{2}} + \\frac{\\left(x + y\\right)^{2}}{x^{2} - 2 x y^{2} + 2 x y - 3 y^{3} + y^{2}}\\end{matrix}\\right]$"
      ],
      "text/plain": [
       "Matrix([\n",
       "[x*y*(-2*x*y - 3*y**2)/(x**3 - 2*x**2*y**2 + 2*x**2*y - 3*x*y**3 + x*y**2) + x*(x**2*y + 2*x*y**2 + y**3)/(y*(x**3 - 2*x**2*y**2 + 2*x**2*y - 3*x*y**3 + x*y**2)), (x + y)**2*(-2*x*y - 3*y**2)/(x**3 - 2*x**2*y**2 + 2*x**2*y - 3*x*y**3 + x*y**2) + (2*x + 3*y)*(x**2*y + 2*x*y**2 + y**3)/(x**3 - 2*x**2*y**2 + 2*x**2*y - 3*x*y**3 + x*y**2)],\n",
       "[                                                                                                                                                               0,                                                            -y**2*(2*x + 3*y)/(x**2 - 2*x*y**2 + 2*x*y - 3*y**3 + y**2) + (x + y)**2/(x**2 - 2*x*y**2 + 2*x*y - 3*y**3 + y**2)]])"
      ]
     },
     "metadata": {},
     "output_type": "display_data"
    }
   ],
   "source": [
    "# Inverse of matrix D\n",
    "display(smp.Inverse(D))\n",
    "display(D.inv())\n",
    "display(D*D.inv())\n",
    "display(D.inv()*D)"
   ]
  },
  {
   "cell_type": "code",
   "execution_count": 47,
   "metadata": {},
   "outputs": [
    {
     "data": {
      "text/latex": [
       "$\\displaystyle \\left[\\begin{matrix}2 & 5\\\\-1 & 4\\end{matrix}\\right]^{-1}$"
      ],
      "text/plain": [
       "Matrix([\n",
       "[ 2, 5],\n",
       "[-1, 4]])**(-1)"
      ]
     },
     "metadata": {},
     "output_type": "display_data"
    },
    {
     "data": {
      "text/latex": [
       "$\\displaystyle \\left[\\begin{matrix}\\frac{4}{13} & - \\frac{5}{13}\\\\\\frac{1}{13} & \\frac{2}{13}\\end{matrix}\\right]$"
      ],
      "text/plain": [
       "Matrix([\n",
       "[4/13, -5/13],\n",
       "[1/13,  2/13]])"
      ]
     },
     "metadata": {},
     "output_type": "display_data"
    },
    {
     "data": {
      "text/latex": [
       "$\\displaystyle \\left[\\begin{matrix}1 & 0\\\\0 & 1\\end{matrix}\\right]$"
      ],
      "text/plain": [
       "Matrix([\n",
       "[1, 0],\n",
       "[0, 1]])"
      ]
     },
     "metadata": {},
     "output_type": "display_data"
    },
    {
     "data": {
      "text/latex": [
       "$\\displaystyle \\left[\\begin{matrix}1 & 0\\\\0 & 1\\end{matrix}\\right]$"
      ],
      "text/plain": [
       "Matrix([\n",
       "[1, 0],\n",
       "[0, 1]])"
      ]
     },
     "metadata": {},
     "output_type": "display_data"
    }
   ],
   "source": [
    "# Inverse of matrix F\n",
    "display(smp.Inverse(F))\n",
    "display(F.inv())\n",
    "display(F*F.inv())\n",
    "display(F.inv()*F)"
   ]
  },
  {
   "cell_type": "markdown",
   "metadata": {},
   "source": [
    "## **Example 3: Time evolution of a spin-state $|s\\rangle$ inside magnetic field**\n",
    "\n",
    "Consider a quantum particle with intial spin-state $|s \\rangle =\\frac{1}{\\sqrt{2}}\\begin{bmatrix} 1 \\\\ 1\\end{bmatrix}$ at time $t=0$. At the particle is applied an external stable magnetic field, parallel to z-axis: $\\vec{B}//\\vec{e_z}$. Using the linear algebra capabilities of `SymPy`, complete the following tasks:\n",
    "\n",
    "**a.** Show that the operator of time evolution $\\hat{U}(t)$ (of the particle's spin-state) has the following matrix-form: \n",
    "$$\\begin{bmatrix} e^{-iωt} & 0 \\\\ 0 & e^{iωt}\\end{bmatrix}$$\n",
    "\n",
    "**b.** **i)** Define a function that returns the time evolution of the particle's spin-state $|s(t)\\rangle$ in matrix-form and display the symbolic form of $|s(t)\\rangle$. **ii)** Find $|s(t)\\rangle$ at time <br>$t=5s$, when $ω=\\frac{π}{3}Hz$.\n",
    "\n",
    "**c.** **i)** Find the symbolic form of the following mean values: $\\langle \\hat{s_x} \\rangle_t$, $\\langle \\hat{s_y} \\rangle_t$ and $\\langle \\hat{s_z} \\rangle_t$, with respect to the state $|s(t)\\rangle$. **ii)** Define the mean values $\\langle \\hat{s_x} \\rangle_t$ and $\\langle \\hat{s_y} \\rangle_t$ as numerical functions of $t$ and $ω$, using the `lambdify()` command. Consider $\\hbar=1$, $ω=\\frac{π}{4}Hz$ and create a `NumPy` linspace of 100 points of $t$, in the interval $[0,4]s$. Make a plot using the values of $\\langle \\hat{s_x} \\rangle_t$ at the linspace points as coordinates in the horizontal axis and the values of $\\langle \\hat{s_y} \\rangle_t$ at the linspace points as coordinates in the vertical axis. Make a comment about the result.\n",
    "\n",
    "\n",
    "**Hints:**\n",
    "\n",
    "1. The general formula of the time evolution operator for a spin-state, when an external magnetic field $\\vec{B}$ is applied is: $$\\hat{U}(t) = e^{-iωt(\\vec{σ}\\cdot \\vec{B})}=cos(ωt)I_{2x2}-i (\\vec{σ}\\cdot \\vec{n})sin(ωt)$$ where $I_{2x2}$ is the $2x2$ identity matrix, $\\vec{n}=\\frac{\\vec{B}}{|\\vec{B}|}$ and $\\vec{σ}=σ_1 \\vec{e_x} + σ_2 \\vec{e_y} + σ_3 \\vec{e_z}$ (with $σ_i$, $i=1,2,3$ the *Pauli* matrices).\n",
    "\n",
    "2. The mean value $\\langle \\hat{A} \\rangle_ψ$ of a hermitian operator $\\hat{A}$, with respect to a quantum state $|ψ\\rangle$ is equal to: $$\\langle\\hat{A} \\rangle_ψ = \\langle ψ|\\hat{A}|ψ\\rangle$$\n",
    "\n",
    "3. $\\vec{s}=\\frac{\\hbar}{2}\\vec{σ}$"
   ]
  },
  {
   "cell_type": "markdown",
   "metadata": {},
   "source": [
    "**Solution**"
   ]
  },
  {
   "cell_type": "code",
   "execution_count": null,
   "metadata": {},
   "outputs": [],
   "source": []
  }
 ],
 "metadata": {
  "kernelspec": {
   "display_name": "base",
   "language": "python",
   "name": "python3"
  },
  "language_info": {
   "codemirror_mode": {
    "name": "ipython",
    "version": 3
   },
   "file_extension": ".py",
   "mimetype": "text/x-python",
   "name": "python",
   "nbconvert_exporter": "python",
   "pygments_lexer": "ipython3",
   "version": "3.11.7"
  }
 },
 "nbformat": 4,
 "nbformat_minor": 2
}
