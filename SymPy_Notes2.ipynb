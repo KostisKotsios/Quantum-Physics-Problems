{
 "cells": [
  {
   "cell_type": "markdown",
   "metadata": {},
   "source": [
    "**PHYSICS DEPARTMENT - ARISTOTLE UNIVERSITY OF THESSALONIKI**<br>\n",
    "**SUBJECT: Quantum Physics Problems [ΓΘΕ204]**<br>\n",
    "**ACADEMIC YEAR: 2024-2025**\n",
    "\n",
    "***SymPy Notebook 2:***<br>\n",
    "-Linear algebra with `SymPy`<br>\n",
    "\n",
    "**Written by: Ioannis Stergakis (postgraduate student at MSc Computational Physics AUTh)**"
   ]
  },
  {
   "cell_type": "code",
   "execution_count": 1,
   "metadata": {},
   "outputs": [],
   "source": [
    "# Importation of SymPy module (never forget to run this cell !!!)\n",
    "import sympy as smp"
   ]
  },
  {
   "cell_type": "markdown",
   "metadata": {},
   "source": [
    "# **Application 3: Linear Algebra**\n",
    "\n",
    "In `SymPy` we can define and manipulate, as well as perform all the known operations of linear algebra between matrices"
   ]
  },
  {
   "cell_type": "markdown",
   "metadata": {},
   "source": [
    "## A. Defining and displaying matrices"
   ]
  },
  {
   "cell_type": "code",
   "execution_count": 2,
   "metadata": {},
   "outputs": [],
   "source": [
    "# Defining the elements of matrices as symbols\n",
    "a11,a12,a21,a22 = smp.symbols(\"a_{11},a_{12},a_{21},a_{22}\") # elements a_ij of a 2x2 matrix A\n",
    "b1,b2 = smp.symbols(\"b_{1},b_{2}\") # elements b_ij of a 2x1 matrix B\n",
    "c11,c12,c13,c21,c22,c23,c31,c32,c33 = smp.symbols(\"c_{11},c_{12},c_{13},c_{21},c_{22},c_{23},c_{31},c_{32},c_{33}\") # elements c_ij of a 3x3 matrix C"
   ]
  },
  {
   "cell_type": "code",
   "execution_count": 3,
   "metadata": {},
   "outputs": [
    {
     "data": {
      "text/latex": [
       "$\\displaystyle \\left[\\begin{matrix}a_{11} & a_{12}\\\\a_{21} & a_{22}\\end{matrix}\\right]$"
      ],
      "text/plain": [
       "Matrix([\n",
       "[a_{11}, a_{12}],\n",
       "[a_{21}, a_{22}]])"
      ]
     },
     "metadata": {},
     "output_type": "display_data"
    },
    {
     "data": {
      "text/latex": [
       "$\\displaystyle \\left[\\begin{matrix}b_{1}\\\\b_{2}\\end{matrix}\\right]$"
      ],
      "text/plain": [
       "Matrix([\n",
       "[b_{1}],\n",
       "[b_{2}]])"
      ]
     },
     "metadata": {},
     "output_type": "display_data"
    },
    {
     "data": {
      "text/latex": [
       "$\\displaystyle \\left[\\begin{matrix}c_{11} & c_{12} & c_{13}\\\\c_{21} & c_{22} & c_{23}\\\\c_{31} & c_{32} & c_{33}\\end{matrix}\\right]$"
      ],
      "text/plain": [
       "Matrix([\n",
       "[c_{11}, c_{12}, c_{13}],\n",
       "[c_{21}, c_{22}, c_{23}],\n",
       "[c_{31}, c_{32}, c_{33}]])"
      ]
     },
     "metadata": {},
     "output_type": "display_data"
    },
    {
     "data": {
      "text/latex": [
       "$\\displaystyle \\left[\\begin{matrix}x y & \\left(x + y\\right)^{2}\\\\\\frac{x}{y} & 2 x + 3 y\\end{matrix}\\right]$"
      ],
      "text/plain": [
       "Matrix([\n",
       "[x*y, (x + y)**2],\n",
       "[x/y,  2*x + 3*y]])"
      ]
     },
     "metadata": {},
     "output_type": "display_data"
    },
    {
     "data": {
      "text/latex": [
       "$\\displaystyle \\left[\\begin{matrix}2 & 5\\\\-1 & 4\\end{matrix}\\right]$"
      ],
      "text/plain": [
       "Matrix([\n",
       "[ 2, 5],\n",
       "[-1, 4]])"
      ]
     },
     "metadata": {},
     "output_type": "display_data"
    }
   ],
   "source": [
    "# Defining and displaying the matrices\n",
    "\n",
    "# 2x2 square matrix A\n",
    "A = smp.Matrix([[a11,a12],[a21,a22]])\n",
    "display(A)\n",
    "\n",
    "# 2x1 column matrix B\n",
    "B = smp.Matrix([[b1],[b2]])\n",
    "display(B)\n",
    "\n",
    "# 3x3 square mattrix C\n",
    "C = smp.Matrix([[c11,c12,c13],[c21,c22,c23],[c31,c32,c33]])\n",
    "display(C)\n",
    "\n",
    "# 2x2 square matrix D\n",
    "x,y = smp.symbols(\"x y\")\n",
    "D = smp.Matrix([[x*y,(x+y)**2],[x/y,2*x+3*y]])\n",
    "display(D)\n",
    "\n",
    "# 2x2 square matrix F\n",
    "F = smp.Matrix([[2,5],[-1,4]])\n",
    "display(F)"
   ]
  },
  {
   "cell_type": "markdown",
   "metadata": {},
   "source": [
    "## B. Matrix operations"
   ]
  },
  {
   "cell_type": "markdown",
   "metadata": {},
   "source": [
    "One can find the sum or the difference between matrices with the same dimensions "
   ]
  },
  {
   "cell_type": "code",
   "execution_count": 4,
   "metadata": {},
   "outputs": [
    {
     "data": {
      "text/latex": [
       "$\\displaystyle \\left[\\begin{matrix}a_{11} + x y & a_{12} + \\left(x + y\\right)^{2}\\\\a_{21} + \\frac{x}{y} & a_{22} + 2 x + 3 y\\end{matrix}\\right]$"
      ],
      "text/plain": [
       "Matrix([\n",
       "[a_{11} + x*y, a_{12} + (x + y)**2],\n",
       "[a_{21} + x/y,  a_{22} + 2*x + 3*y]])"
      ]
     },
     "metadata": {},
     "output_type": "display_data"
    },
    {
     "data": {
      "text/latex": [
       "$\\displaystyle \\left[\\begin{matrix}a_{11} - x y & a_{12} - \\left(x + y\\right)^{2}\\\\a_{21} - \\frac{x}{y} & a_{22} - 2 x - 3 y\\end{matrix}\\right]$"
      ],
      "text/plain": [
       "Matrix([\n",
       "[a_{11} - x*y, a_{12} - (x + y)**2],\n",
       "[a_{21} - x/y,  a_{22} - 2*x - 3*y]])"
      ]
     },
     "metadata": {},
     "output_type": "display_data"
    }
   ],
   "source": [
    "# Sum of two matrices\n",
    "display(A+D)\n",
    "\n",
    "# Difference of two matrices\n",
    "display(A-D)"
   ]
  },
  {
   "cell_type": "markdown",
   "metadata": {},
   "source": [
    "We can, also, perform matrix multiplication according to the rules of linear algebra. That is the number of columns of the matrix in the left of the product\n",
    "must be equal to the number of rows of the matrix in the right of the product:"
   ]
  },
  {
   "cell_type": "code",
   "execution_count": 5,
   "metadata": {},
   "outputs": [
    {
     "data": {
      "text/latex": [
       "$\\displaystyle \\left[\\begin{matrix}2 λ & 5 λ\\\\- λ & 4 λ\\end{matrix}\\right]$"
      ],
      "text/plain": [
       "Matrix([\n",
       "[2*λ, 5*λ],\n",
       "[ -λ, 4*λ]])"
      ]
     },
     "metadata": {},
     "output_type": "display_data"
    },
    {
     "data": {
      "text/latex": [
       "$\\displaystyle \\left[\\begin{matrix}a_{11} b_{1} + a_{12} b_{2}\\\\a_{21} b_{1} + a_{22} b_{2}\\end{matrix}\\right]$"
      ],
      "text/plain": [
       "Matrix([\n",
       "[a_{11}*b_{1} + a_{12}*b_{2}],\n",
       "[a_{21}*b_{1} + a_{22}*b_{2}]])"
      ]
     },
     "metadata": {},
     "output_type": "display_data"
    },
    {
     "data": {
      "text/latex": [
       "$\\displaystyle \\left[\\begin{matrix}a_{11} x y + \\frac{a_{12} x}{y} & a_{11} \\left(x + y\\right)^{2} + a_{12} \\cdot \\left(2 x + 3 y\\right)\\\\a_{21} x y + \\frac{a_{22} x}{y} & a_{21} \\left(x + y\\right)^{2} + a_{22} \\cdot \\left(2 x + 3 y\\right)\\end{matrix}\\right]$"
      ],
      "text/plain": [
       "Matrix([\n",
       "[a_{11}*x*y + a_{12}*x/y, a_{11}*(x + y)**2 + a_{12}*(2*x + 3*y)],\n",
       "[a_{21}*x*y + a_{22}*x/y, a_{21}*(x + y)**2 + a_{22}*(2*x + 3*y)]])"
      ]
     },
     "metadata": {},
     "output_type": "display_data"
    }
   ],
   "source": [
    "# Multiplication of a matrix by a constant\n",
    "l = smp.symbols(\"λ\")\n",
    "display(l*F)\n",
    "\n",
    "# Product A*B\n",
    "display(A*B)\n",
    "\n",
    "# Product A*D\n",
    "display(A*D)"
   ]
  },
  {
   "cell_type": "markdown",
   "metadata": {},
   "source": [
    "Of course one can calculate the powers of a matrix:"
   ]
  },
  {
   "cell_type": "code",
   "execution_count": 6,
   "metadata": {},
   "outputs": [
    {
     "data": {
      "text/latex": [
       "$\\displaystyle \\left[\\begin{matrix}a_{11}^{2} + a_{12} a_{21} & a_{11} a_{12} + a_{12} a_{22}\\\\a_{11} a_{21} + a_{21} a_{22} & a_{12} a_{21} + a_{22}^{2}\\end{matrix}\\right]$"
      ],
      "text/plain": [
       "Matrix([\n",
       "[    a_{11}**2 + a_{12}*a_{21}, a_{11}*a_{12} + a_{12}*a_{22}],\n",
       "[a_{11}*a_{21} + a_{21}*a_{22},     a_{12}*a_{21} + a_{22}**2]])"
      ]
     },
     "metadata": {},
     "output_type": "display_data"
    },
    {
     "data": {
      "text/latex": [
       "$\\displaystyle \\left[\\begin{matrix}\\frac{x^{3} + x^{2} y^{3} + 2 x^{2} y + x y^{2}}{y} & x^{3} y + 2 x^{3} + 2 x^{2} y^{2} + 7 x^{2} y + x y^{3} + 8 x y^{2} + 3 y^{3}\\\\\\frac{x^{2} y + 2 x^{2} + 3 x y}{y} & \\frac{x^{3} + 6 x^{2} y + 13 x y^{2} + 9 y^{3}}{y}\\end{matrix}\\right]$"
      ],
      "text/plain": [
       "Matrix([\n",
       "[(x**3 + x**2*y**3 + 2*x**2*y + x*y**2)/y, x**3*y + 2*x**3 + 2*x**2*y**2 + 7*x**2*y + x*y**3 + 8*x*y**2 + 3*y**3],\n",
       "[             (x**2*y + 2*x**2 + 3*x*y)/y,                              (x**3 + 6*x**2*y + 13*x*y**2 + 9*y**3)/y]])"
      ]
     },
     "metadata": {},
     "output_type": "display_data"
    },
    {
     "data": {
      "text/latex": [
       "$\\displaystyle \\left[\\begin{matrix}-1 & 30\\\\-6 & 11\\end{matrix}\\right]$"
      ],
      "text/plain": [
       "Matrix([\n",
       "[-1, 30],\n",
       "[-6, 11]])"
      ]
     },
     "metadata": {},
     "output_type": "display_data"
    },
    {
     "data": {
      "text/latex": [
       "$\\displaystyle \\left[\\begin{matrix}a_{11}^{3} + 2 a_{11} a_{12} a_{21} + a_{12} a_{21} a_{22} & a_{11}^{2} a_{12} + a_{11} a_{12} a_{22} + a_{12}^{2} a_{21} + a_{12} a_{22}^{2}\\\\a_{11}^{2} a_{21} + a_{11} a_{21} a_{22} + a_{12} a_{21}^{2} + a_{21} a_{22}^{2} & a_{11} a_{12} a_{21} + 2 a_{12} a_{21} a_{22} + a_{22}^{3}\\end{matrix}\\right]$"
      ],
      "text/plain": [
       "Matrix([\n",
       "[                    a_{11}**3 + 2*a_{11}*a_{12}*a_{21} + a_{12}*a_{21}*a_{22}, a_{11}**2*a_{12} + a_{11}*a_{12}*a_{22} + a_{12}**2*a_{21} + a_{12}*a_{22}**2],\n",
       "[a_{11}**2*a_{21} + a_{11}*a_{21}*a_{22} + a_{12}*a_{21}**2 + a_{21}*a_{22}**2,                     a_{11}*a_{12}*a_{21} + 2*a_{12}*a_{21}*a_{22} + a_{22}**3]])"
      ]
     },
     "metadata": {},
     "output_type": "display_data"
    }
   ],
   "source": [
    "# A^2 = A*A\n",
    "display(A**2)\n",
    "\n",
    "# D^2 = D*D\n",
    "display(D**2)\n",
    "\n",
    "# F^2 = F*F\n",
    "display(F**2)\n",
    "\n",
    "# A^3 = A*A*A\n",
    "display(A**3)"
   ]
  },
  {
   "cell_type": "markdown",
   "metadata": {},
   "source": [
    "## C. Determinant, transpose and inverse of a matrix"
   ]
  },
  {
   "cell_type": "markdown",
   "metadata": {},
   "source": [
    "### **Determinant of a matrix**\n",
    "\n",
    "Using the `Determinant()` function we can dipslay the determinant of a matrix, while using the `.det()` function we can calculate the determinant of a matrix, as shown below:"
   ]
  },
  {
   "cell_type": "code",
   "execution_count": 7,
   "metadata": {},
   "outputs": [
    {
     "data": {
      "text/latex": [
       "$\\displaystyle \\left|{\\begin{matrix}a_{11} & a_{12}\\\\a_{21} & a_{22}\\end{matrix}}\\right|$"
      ],
      "text/plain": [
       "Determinant(Matrix([\n",
       "[a_{11}, a_{12}],\n",
       "[a_{21}, a_{22}]]))"
      ]
     },
     "metadata": {},
     "output_type": "display_data"
    },
    {
     "data": {
      "text/latex": [
       "$\\displaystyle a_{11} a_{22} - a_{12} a_{21}$"
      ],
      "text/plain": [
       "a_{11}*a_{22} - a_{12}*a_{21}"
      ]
     },
     "metadata": {},
     "output_type": "display_data"
    }
   ],
   "source": [
    "# Determinant of matrix A\n",
    "display(smp.Determinant(A))\n",
    "display(A.det())"
   ]
  },
  {
   "cell_type": "code",
   "execution_count": 8,
   "metadata": {},
   "outputs": [],
   "source": [
    "# Determinant of matrix B\n",
    "# display(smp.Determinant(B))\n",
    "# display(B.det())"
   ]
  },
  {
   "cell_type": "code",
   "execution_count": 9,
   "metadata": {},
   "outputs": [
    {
     "data": {
      "text/latex": [
       "$\\displaystyle \\left|{\\begin{matrix}c_{11} & c_{12} & c_{13}\\\\c_{21} & c_{22} & c_{23}\\\\c_{31} & c_{32} & c_{33}\\end{matrix}}\\right|$"
      ],
      "text/plain": [
       "Determinant(Matrix([\n",
       "[c_{11}, c_{12}, c_{13}],\n",
       "[c_{21}, c_{22}, c_{23}],\n",
       "[c_{31}, c_{32}, c_{33}]]))"
      ]
     },
     "metadata": {},
     "output_type": "display_data"
    },
    {
     "data": {
      "text/latex": [
       "$\\displaystyle c_{11} c_{22} c_{33} - c_{11} c_{23} c_{32} - c_{12} c_{21} c_{33} + c_{12} c_{23} c_{31} + c_{13} c_{21} c_{32} - c_{13} c_{22} c_{31}$"
      ],
      "text/plain": [
       "c_{11}*c_{22}*c_{33} - c_{11}*c_{23}*c_{32} - c_{12}*c_{21}*c_{33} + c_{12}*c_{23}*c_{31} + c_{13}*c_{21}*c_{32} - c_{13}*c_{22}*c_{31}"
      ]
     },
     "metadata": {},
     "output_type": "display_data"
    }
   ],
   "source": [
    "# Determinant of matrix C\n",
    "display(smp.Determinant(C))\n",
    "display(C.det())"
   ]
  },
  {
   "cell_type": "code",
   "execution_count": 10,
   "metadata": {},
   "outputs": [
    {
     "data": {
      "text/latex": [
       "$\\displaystyle \\left|{\\begin{matrix}x y & \\left(x + y\\right)^{2}\\\\\\frac{x}{y} & 2 x + 3 y\\end{matrix}}\\right|$"
      ],
      "text/plain": [
       "Determinant(Matrix([\n",
       "[x*y, (x + y)**2],\n",
       "[x/y,  2*x + 3*y]]))"
      ]
     },
     "metadata": {},
     "output_type": "display_data"
    },
    {
     "data": {
      "text/latex": [
       "$\\displaystyle \\frac{- x^{3} + 2 x^{2} y^{2} - 2 x^{2} y + 3 x y^{3} - x y^{2}}{y}$"
      ],
      "text/plain": [
       "(-x**3 + 2*x**2*y**2 - 2*x**2*y + 3*x*y**3 - x*y**2)/y"
      ]
     },
     "metadata": {},
     "output_type": "display_data"
    }
   ],
   "source": [
    "# Determinant of matrix D\n",
    "display(smp.Determinant(D))\n",
    "display(D.det())"
   ]
  },
  {
   "cell_type": "code",
   "execution_count": 11,
   "metadata": {},
   "outputs": [
    {
     "data": {
      "text/latex": [
       "$\\displaystyle \\left|{\\begin{matrix}2 & 5\\\\-1 & 4\\end{matrix}}\\right|$"
      ],
      "text/plain": [
       "Determinant(Matrix([\n",
       "[ 2, 5],\n",
       "[-1, 4]]))"
      ]
     },
     "metadata": {},
     "output_type": "display_data"
    },
    {
     "data": {
      "text/latex": [
       "$\\displaystyle 13$"
      ],
      "text/plain": [
       "13"
      ]
     },
     "metadata": {},
     "output_type": "display_data"
    }
   ],
   "source": [
    "# Determinant of matrix F\n",
    "display(smp.Determinant(F))\n",
    "display(F.det())"
   ]
  },
  {
   "cell_type": "markdown",
   "metadata": {},
   "source": [
    "The same goes for the transpose and inverse (if such exists) of a matrix:\n",
    "\n",
    "### **Transpose of a matrix**"
   ]
  },
  {
   "cell_type": "code",
   "execution_count": 12,
   "metadata": {},
   "outputs": [
    {
     "data": {
      "text/latex": [
       "$\\displaystyle \\left[\\begin{matrix}a_{11} & a_{12}\\\\a_{21} & a_{22}\\end{matrix}\\right]^{T}$"
      ],
      "text/plain": [
       "Matrix([\n",
       "[a_{11}, a_{12}],\n",
       "[a_{21}, a_{22}]]).T"
      ]
     },
     "metadata": {},
     "output_type": "display_data"
    },
    {
     "data": {
      "text/latex": [
       "$\\displaystyle \\left[\\begin{matrix}a_{11} & a_{21}\\\\a_{12} & a_{22}\\end{matrix}\\right]$"
      ],
      "text/plain": [
       "Matrix([\n",
       "[a_{11}, a_{21}],\n",
       "[a_{12}, a_{22}]])"
      ]
     },
     "metadata": {},
     "output_type": "display_data"
    }
   ],
   "source": [
    "# Transpose of matrix A\n",
    "display(smp.Transpose(A))\n",
    "display(A.transpose())"
   ]
  },
  {
   "cell_type": "code",
   "execution_count": 13,
   "metadata": {},
   "outputs": [
    {
     "data": {
      "text/latex": [
       "$\\displaystyle \\left[\\begin{matrix}b_{1}\\\\b_{2}\\end{matrix}\\right]^{T}$"
      ],
      "text/plain": [
       "Matrix([\n",
       "[b_{1}],\n",
       "[b_{2}]]).T"
      ]
     },
     "metadata": {},
     "output_type": "display_data"
    },
    {
     "data": {
      "text/latex": [
       "$\\displaystyle \\left[\\begin{matrix}b_{1} & b_{2}\\end{matrix}\\right]$"
      ],
      "text/plain": [
       "Matrix([[b_{1}, b_{2}]])"
      ]
     },
     "metadata": {},
     "output_type": "display_data"
    }
   ],
   "source": [
    "# Transpose of matrix B\n",
    "display(smp.Transpose(B))\n",
    "display(B.transpose())"
   ]
  },
  {
   "cell_type": "code",
   "execution_count": 14,
   "metadata": {},
   "outputs": [
    {
     "data": {
      "text/latex": [
       "$\\displaystyle \\left(\\left[\\begin{matrix}x y & \\left(x + y\\right)^{2}\\\\\\frac{x}{y} & 2 x + 3 y\\end{matrix}\\right]\\right)^{T}$"
      ],
      "text/plain": [
       "Matrix([\n",
       "[x*y, (x + y)**2],\n",
       "[x/y,  2*x + 3*y]]).T"
      ]
     },
     "metadata": {},
     "output_type": "display_data"
    },
    {
     "data": {
      "text/latex": [
       "$\\displaystyle \\left[\\begin{matrix}x y & \\frac{x}{y}\\\\\\left(x + y\\right)^{2} & 2 x + 3 y\\end{matrix}\\right]$"
      ],
      "text/plain": [
       "Matrix([\n",
       "[       x*y,       x/y],\n",
       "[(x + y)**2, 2*x + 3*y]])"
      ]
     },
     "metadata": {},
     "output_type": "display_data"
    }
   ],
   "source": [
    "# Transpose of matrix D\n",
    "display(smp.Transpose(D))\n",
    "display(D.transpose())"
   ]
  },
  {
   "cell_type": "code",
   "execution_count": 15,
   "metadata": {},
   "outputs": [
    {
     "data": {
      "text/latex": [
       "$\\displaystyle \\left[\\begin{matrix}2 & 5\\\\-1 & 4\\end{matrix}\\right]^{T}$"
      ],
      "text/plain": [
       "Matrix([\n",
       "[ 2, 5],\n",
       "[-1, 4]]).T"
      ]
     },
     "metadata": {},
     "output_type": "display_data"
    },
    {
     "data": {
      "text/latex": [
       "$\\displaystyle \\left[\\begin{matrix}2 & -1\\\\5 & 4\\end{matrix}\\right]$"
      ],
      "text/plain": [
       "Matrix([\n",
       "[2, -1],\n",
       "[5,  4]])"
      ]
     },
     "metadata": {},
     "output_type": "display_data"
    }
   ],
   "source": [
    "\n",
    "# Transpose of matrix F\n",
    "display(smp.Transpose(F))\n",
    "display(F.transpose())"
   ]
  },
  {
   "cell_type": "markdown",
   "metadata": {},
   "source": [
    "### **Inverse of a matrix**"
   ]
  },
  {
   "cell_type": "code",
   "execution_count": 16,
   "metadata": {},
   "outputs": [
    {
     "data": {
      "text/latex": [
       "$\\displaystyle \\left[\\begin{matrix}a_{11} & a_{12}\\\\a_{21} & a_{22}\\end{matrix}\\right]^{-1}$"
      ],
      "text/plain": [
       "Matrix([\n",
       "[a_{11}, a_{12}],\n",
       "[a_{21}, a_{22}]])**(-1)"
      ]
     },
     "metadata": {},
     "output_type": "display_data"
    },
    {
     "data": {
      "text/latex": [
       "$\\displaystyle \\left[\\begin{matrix}\\frac{a_{22}}{a_{11} a_{22} - a_{12} a_{21}} & - \\frac{a_{12}}{a_{11} a_{22} - a_{12} a_{21}}\\\\- \\frac{a_{21}}{a_{11} a_{22} - a_{12} a_{21}} & \\frac{a_{11}}{a_{11} a_{22} - a_{12} a_{21}}\\end{matrix}\\right]$"
      ],
      "text/plain": [
       "Matrix([\n",
       "[ a_{22}/(a_{11}*a_{22} - a_{12}*a_{21}), -a_{12}/(a_{11}*a_{22} - a_{12}*a_{21})],\n",
       "[-a_{21}/(a_{11}*a_{22} - a_{12}*a_{21}),  a_{11}/(a_{11}*a_{22} - a_{12}*a_{21})]])"
      ]
     },
     "metadata": {},
     "output_type": "display_data"
    },
    {
     "data": {
      "text/latex": [
       "$\\displaystyle \\left[\\begin{matrix}\\frac{a_{11} a_{22}}{a_{11} a_{22} - a_{12} a_{21}} - \\frac{a_{12} a_{21}}{a_{11} a_{22} - a_{12} a_{21}} & 0\\\\0 & \\frac{a_{11} a_{22}}{a_{11} a_{22} - a_{12} a_{21}} - \\frac{a_{12} a_{21}}{a_{11} a_{22} - a_{12} a_{21}}\\end{matrix}\\right]$"
      ],
      "text/plain": [
       "Matrix([\n",
       "[a_{11}*a_{22}/(a_{11}*a_{22} - a_{12}*a_{21}) - a_{12}*a_{21}/(a_{11}*a_{22} - a_{12}*a_{21}),                                                                                             0],\n",
       "[                                                                                            0, a_{11}*a_{22}/(a_{11}*a_{22} - a_{12}*a_{21}) - a_{12}*a_{21}/(a_{11}*a_{22} - a_{12}*a_{21})]])"
      ]
     },
     "metadata": {},
     "output_type": "display_data"
    },
    {
     "data": {
      "text/latex": [
       "$\\displaystyle \\left[\\begin{matrix}\\frac{a_{11} a_{22}}{a_{11} a_{22} - a_{12} a_{21}} - \\frac{a_{12} a_{21}}{a_{11} a_{22} - a_{12} a_{21}} & 0\\\\0 & \\frac{a_{11} a_{22}}{a_{11} a_{22} - a_{12} a_{21}} - \\frac{a_{12} a_{21}}{a_{11} a_{22} - a_{12} a_{21}}\\end{matrix}\\right]$"
      ],
      "text/plain": [
       "Matrix([\n",
       "[a_{11}*a_{22}/(a_{11}*a_{22} - a_{12}*a_{21}) - a_{12}*a_{21}/(a_{11}*a_{22} - a_{12}*a_{21}),                                                                                             0],\n",
       "[                                                                                            0, a_{11}*a_{22}/(a_{11}*a_{22} - a_{12}*a_{21}) - a_{12}*a_{21}/(a_{11}*a_{22} - a_{12}*a_{21})]])"
      ]
     },
     "metadata": {},
     "output_type": "display_data"
    }
   ],
   "source": [
    "# Inverse of matrix A\n",
    "display(smp.Inverse(A))\n",
    "display(A.inv())\n",
    "display(A*A.inv())\n",
    "display(A.inv()*A)"
   ]
  },
  {
   "cell_type": "code",
   "execution_count": 17,
   "metadata": {},
   "outputs": [
    {
     "data": {
      "text/latex": [
       "$\\displaystyle \\left(\\left[\\begin{matrix}x y & \\left(x + y\\right)^{2}\\\\\\frac{x}{y} & 2 x + 3 y\\end{matrix}\\right]\\right)^{-1}$"
      ],
      "text/plain": [
       "Matrix([\n",
       "[x*y, (x + y)**2],\n",
       "[x/y,  2*x + 3*y]])**(-1)"
      ]
     },
     "metadata": {},
     "output_type": "display_data"
    },
    {
     "data": {
      "text/latex": [
       "$\\displaystyle \\left[\\begin{matrix}\\frac{- 2 x y - 3 y^{2}}{x^{3} - 2 x^{2} y^{2} + 2 x^{2} y - 3 x y^{3} + x y^{2}} & \\frac{x^{2} y + 2 x y^{2} + y^{3}}{x^{3} - 2 x^{2} y^{2} + 2 x^{2} y - 3 x y^{3} + x y^{2}}\\\\\\frac{1}{x^{2} - 2 x y^{2} + 2 x y - 3 y^{3} + y^{2}} & - \\frac{y^{2}}{x^{2} - 2 x y^{2} + 2 x y - 3 y^{3} + y^{2}}\\end{matrix}\\right]$"
      ],
      "text/plain": [
       "Matrix([\n",
       "[(-2*x*y - 3*y**2)/(x**3 - 2*x**2*y**2 + 2*x**2*y - 3*x*y**3 + x*y**2), (x**2*y + 2*x*y**2 + y**3)/(x**3 - 2*x**2*y**2 + 2*x**2*y - 3*x*y**3 + x*y**2)],\n",
       "[                          1/(x**2 - 2*x*y**2 + 2*x*y - 3*y**3 + y**2),                                -y**2/(x**2 - 2*x*y**2 + 2*x*y - 3*y**3 + y**2)]])"
      ]
     },
     "metadata": {},
     "output_type": "display_data"
    },
    {
     "data": {
      "text/latex": [
       "$\\displaystyle \\left[\\begin{matrix}\\frac{x y \\left(- 2 x y - 3 y^{2}\\right)}{x^{3} - 2 x^{2} y^{2} + 2 x^{2} y - 3 x y^{3} + x y^{2}} + \\frac{\\left(x + y\\right)^{2}}{x^{2} - 2 x y^{2} + 2 x y - 3 y^{3} + y^{2}} & \\frac{x y \\left(x^{2} y + 2 x y^{2} + y^{3}\\right)}{x^{3} - 2 x^{2} y^{2} + 2 x^{2} y - 3 x y^{3} + x y^{2}} - \\frac{y^{2} \\left(x + y\\right)^{2}}{x^{2} - 2 x y^{2} + 2 x y - 3 y^{3} + y^{2}}\\\\\\frac{x \\left(- 2 x y - 3 y^{2}\\right)}{y \\left(x^{3} - 2 x^{2} y^{2} + 2 x^{2} y - 3 x y^{3} + x y^{2}\\right)} + \\frac{2 x + 3 y}{x^{2} - 2 x y^{2} + 2 x y - 3 y^{3} + y^{2}} & \\frac{x \\left(x^{2} y + 2 x y^{2} + y^{3}\\right)}{y \\left(x^{3} - 2 x^{2} y^{2} + 2 x^{2} y - 3 x y^{3} + x y^{2}\\right)} - \\frac{y^{2} \\cdot \\left(2 x + 3 y\\right)}{x^{2} - 2 x y^{2} + 2 x y - 3 y^{3} + y^{2}}\\end{matrix}\\right]$"
      ],
      "text/plain": [
       "Matrix([\n",
       "[   x*y*(-2*x*y - 3*y**2)/(x**3 - 2*x**2*y**2 + 2*x**2*y - 3*x*y**3 + x*y**2) + (x + y)**2/(x**2 - 2*x*y**2 + 2*x*y - 3*y**3 + y**2),    x*y*(x**2*y + 2*x*y**2 + y**3)/(x**3 - 2*x**2*y**2 + 2*x**2*y - 3*x*y**3 + x*y**2) - y**2*(x + y)**2/(x**2 - 2*x*y**2 + 2*x*y - 3*y**3 + y**2)],\n",
       "[x*(-2*x*y - 3*y**2)/(y*(x**3 - 2*x**2*y**2 + 2*x**2*y - 3*x*y**3 + x*y**2)) + (2*x + 3*y)/(x**2 - 2*x*y**2 + 2*x*y - 3*y**3 + y**2), x*(x**2*y + 2*x*y**2 + y**3)/(y*(x**3 - 2*x**2*y**2 + 2*x**2*y - 3*x*y**3 + x*y**2)) - y**2*(2*x + 3*y)/(x**2 - 2*x*y**2 + 2*x*y - 3*y**3 + y**2)]])"
      ]
     },
     "metadata": {},
     "output_type": "display_data"
    },
    {
     "data": {
      "text/latex": [
       "$\\displaystyle \\left[\\begin{matrix}\\frac{x y \\left(- 2 x y - 3 y^{2}\\right)}{x^{3} - 2 x^{2} y^{2} + 2 x^{2} y - 3 x y^{3} + x y^{2}} + \\frac{x \\left(x^{2} y + 2 x y^{2} + y^{3}\\right)}{y \\left(x^{3} - 2 x^{2} y^{2} + 2 x^{2} y - 3 x y^{3} + x y^{2}\\right)} & \\frac{\\left(x + y\\right)^{2} \\left(- 2 x y - 3 y^{2}\\right)}{x^{3} - 2 x^{2} y^{2} + 2 x^{2} y - 3 x y^{3} + x y^{2}} + \\frac{\\left(2 x + 3 y\\right) \\left(x^{2} y + 2 x y^{2} + y^{3}\\right)}{x^{3} - 2 x^{2} y^{2} + 2 x^{2} y - 3 x y^{3} + x y^{2}}\\\\0 & - \\frac{y^{2} \\cdot \\left(2 x + 3 y\\right)}{x^{2} - 2 x y^{2} + 2 x y - 3 y^{3} + y^{2}} + \\frac{\\left(x + y\\right)^{2}}{x^{2} - 2 x y^{2} + 2 x y - 3 y^{3} + y^{2}}\\end{matrix}\\right]$"
      ],
      "text/plain": [
       "Matrix([\n",
       "[x*y*(-2*x*y - 3*y**2)/(x**3 - 2*x**2*y**2 + 2*x**2*y - 3*x*y**3 + x*y**2) + x*(x**2*y + 2*x*y**2 + y**3)/(y*(x**3 - 2*x**2*y**2 + 2*x**2*y - 3*x*y**3 + x*y**2)), (x + y)**2*(-2*x*y - 3*y**2)/(x**3 - 2*x**2*y**2 + 2*x**2*y - 3*x*y**3 + x*y**2) + (2*x + 3*y)*(x**2*y + 2*x*y**2 + y**3)/(x**3 - 2*x**2*y**2 + 2*x**2*y - 3*x*y**3 + x*y**2)],\n",
       "[                                                                                                                                                               0,                                                            -y**2*(2*x + 3*y)/(x**2 - 2*x*y**2 + 2*x*y - 3*y**3 + y**2) + (x + y)**2/(x**2 - 2*x*y**2 + 2*x*y - 3*y**3 + y**2)]])"
      ]
     },
     "metadata": {},
     "output_type": "display_data"
    }
   ],
   "source": [
    "# Inverse of matrix D\n",
    "display(smp.Inverse(D))\n",
    "display(D.inv())\n",
    "display(D*D.inv())\n",
    "display(D.inv()*D)"
   ]
  },
  {
   "cell_type": "code",
   "execution_count": 18,
   "metadata": {},
   "outputs": [
    {
     "data": {
      "text/latex": [
       "$\\displaystyle \\left[\\begin{matrix}2 & 5\\\\-1 & 4\\end{matrix}\\right]^{-1}$"
      ],
      "text/plain": [
       "Matrix([\n",
       "[ 2, 5],\n",
       "[-1, 4]])**(-1)"
      ]
     },
     "metadata": {},
     "output_type": "display_data"
    },
    {
     "data": {
      "text/latex": [
       "$\\displaystyle \\left[\\begin{matrix}\\frac{4}{13} & - \\frac{5}{13}\\\\\\frac{1}{13} & \\frac{2}{13}\\end{matrix}\\right]$"
      ],
      "text/plain": [
       "Matrix([\n",
       "[4/13, -5/13],\n",
       "[1/13,  2/13]])"
      ]
     },
     "metadata": {},
     "output_type": "display_data"
    },
    {
     "data": {
      "text/latex": [
       "$\\displaystyle \\left[\\begin{matrix}1 & 0\\\\0 & 1\\end{matrix}\\right]$"
      ],
      "text/plain": [
       "Matrix([\n",
       "[1, 0],\n",
       "[0, 1]])"
      ]
     },
     "metadata": {},
     "output_type": "display_data"
    },
    {
     "data": {
      "text/latex": [
       "$\\displaystyle \\left[\\begin{matrix}1 & 0\\\\0 & 1\\end{matrix}\\right]$"
      ],
      "text/plain": [
       "Matrix([\n",
       "[1, 0],\n",
       "[0, 1]])"
      ]
     },
     "metadata": {},
     "output_type": "display_data"
    }
   ],
   "source": [
    "# Inverse of matrix F\n",
    "display(smp.Inverse(F))\n",
    "display(F.inv())\n",
    "display(F*F.inv())\n",
    "display(F.inv()*F)"
   ]
  },
  {
   "cell_type": "markdown",
   "metadata": {},
   "source": [
    "## D. Eigenvalues and eigenvectors of a matrix"
   ]
  },
  {
   "cell_type": "markdown",
   "metadata": {},
   "source": [
    "From linear algebra, we know the eigenvalues equation for a \n",
    "square NxN matrix $A$:\n",
    "$$AX_i=λ_iX_i$$\n",
    "or in a more analytical form\n",
    "$$\\begin{bmatrix}a_{11} & a_{12} & \\dots & a_{1N} \\\\ a_{21} & a_{22} & \\dots & a_{2N} \\\\ \\vdots & \\vdots & \\ddots & \\vdots \\\\ a_{N1} & a_{N2} & \\dots & a_{NN}\\end{bmatrix} \\begin{bmatrix} x_{1i} \\\\ x_{2i} \\\\ \\vdots\\\\ x_{Ni}\\end{bmatrix} = \\begin{bmatrix} λ_ix_{1i} \\\\ λ_ix_{2i} \\\\ \\vdots\\\\ λ_ix_{Ni}\\end{bmatrix} [1]$$\n",
    "where $λ_i$ are the eigenvalues of matrix $A$ and $X_i$ the eigenvectors of matrix $A$, that correspond to those eigenvalues. To find the eigenvalues $λ_i$, we calculate the matrix $Α^{'} = Α - λΙ_{ΝxN}$ (where $Ι_{NxN}$ the identity matrix with same size/dimensions as $Α$): \n",
    "$$Α^{'} = \\begin{bmatrix}a_{11} & a_{12} & \\dots & a_{1N} \\\\ a_{21} & a_{22} & \\dots & a_{2N} \\\\ \\vdots & \\vdots & \\ddots & \\vdots \\\\ a_{N1} & a_{N2} & \\dots & a_{NN}\\end{bmatrix} - λ \\begin{bmatrix} 1 & 0 & \\dots & 0 \\\\ 0 & 1 & \\dots & 0 \\\\ \\vdots & \\vdots & \\ddots & \\vdots \\\\ 0 & 0 & \\dots & 1\\end{bmatrix} = \\begin{bmatrix}a_{11}-λ & a_{12} & \\dots & a_{1N} \\\\ a_{21} & a_{22}-λ & \\dots & a_{2N} \\\\ \\vdots & \\vdots & \\ddots & \\vdots \\\\ a_{N1} & a_{N2} & \\dots & a_{NN}-λ\\end{bmatrix}$$\n",
    "and take its determinant. This will result in a polynomial of $λ$ (characteristic polynomial of matrix $A$), whose roots are the eigenvalues $λ_i$ of matrix $Α$. Moving on, in order to find the eigenvectors $X_i$, we substitute each of the eigenvalues $λ_i$, seperately in equation $[1]$, and solve the resulted system of equations, with respect to the elements $x_{ji}$ of the respective eigenvector $Χ_i$.\n",
    "\n",
    "NOTE: the sets of values of the indices $i$ and $j$ are: $i=[1,2,...,m]$ and $j=[1,2,...,N]$, where $m$ is the number of eigenvalues of the matrix $A$. "
   ]
  },
  {
   "cell_type": "code",
   "execution_count": null,
   "metadata": {},
   "outputs": [],
   "source": [
    "# Set symbolic variable λ representing the unknown eigenvalues\n",
    "λ = smp.symbols(\"λ\")"
   ]
  },
  {
   "cell_type": "code",
   "execution_count": null,
   "metadata": {},
   "outputs": [
    {
     "data": {
      "text/latex": [
       "$\\displaystyle \\left[\\begin{matrix}2 - λ & 5\\\\-1 & 4 - λ\\end{matrix}\\right]$"
      ],
      "text/plain": [
       "Matrix([\n",
       "[2 - λ,     5],\n",
       "[   -1, 4 - λ]])"
      ]
     },
     "metadata": {},
     "output_type": "display_data"
    }
   ],
   "source": [
    "# Eigenvalues of the F table\n",
    "# Definition of the matrix F' = F - λ*I, where I is the identity matrix \n",
    "# of the same dimensions as the matrix F (here 2x2)\n",
    "F_aug = F - λ*smp.Matrix([[1,0],[0,1]]) \n",
    "display(F_aug)"
   ]
  },
  {
   "cell_type": "code",
   "execution_count": null,
   "metadata": {},
   "outputs": [
    {
     "data": {
      "text/latex": [
       "$\\displaystyle λ^{2} - 6 λ + 13$"
      ],
      "text/plain": [
       "λ**2 - 6*λ + 13"
      ]
     },
     "metadata": {},
     "output_type": "display_data"
    }
   ],
   "source": [
    "# Determinant of matrix F'\n",
    "det_F_aug = smp.det(F_aug)\n",
    "display(det_F_aug)"
   ]
  },
  {
   "cell_type": "code",
   "execution_count": null,
   "metadata": {},
   "outputs": [
    {
     "data": {
      "text/plain": [
       "[3 - 2*I, 3 + 2*I]"
      ]
     },
     "metadata": {},
     "output_type": "display_data"
    }
   ],
   "source": [
    "# Solving the equation |F'|=0 to find the eigenvalues of matrix F\n",
    "λ_F = smp.solve(det_F_aug)\n",
    "λ_F"
   ]
  },
  {
   "cell_type": "code",
   "execution_count": null,
   "metadata": {},
   "outputs": [
    {
     "data": {
      "text/latex": [
       "$\\displaystyle \\left[\\begin{matrix}x_{1}\\\\x_{2}\\end{matrix}\\right]$"
      ],
      "text/plain": [
       "Matrix([\n",
       "[x_1],\n",
       "[x_2]])"
      ]
     },
     "metadata": {},
     "output_type": "display_data"
    }
   ],
   "source": [
    "# Set matrix-column X representing the unknown eigenvectors\n",
    "x1,x2 = smp.symbols(\"x_1,x_2\")\n",
    "X = smp.Matrix([x1,x2])\n",
    "X"
   ]
  },
  {
   "cell_type": "code",
   "execution_count": null,
   "metadata": {},
   "outputs": [
    {
     "data": {
      "text/latex": [
       "$\\displaystyle \\left[\\begin{matrix}2 x_{1} - x_{1} \\left(3 - 2 i\\right) + 5 x_{2}\\\\- x_{1} + 4 x_{2} - x_{2} \\left(3 - 2 i\\right)\\end{matrix}\\right]$"
      ],
      "text/plain": [
       "Matrix([\n",
       "[2*x_1 - x_1*(3 - 2*I) + 5*x_2],\n",
       "[ -x_1 + 4*x_2 - x_2*(3 - 2*I)]])"
      ]
     },
     "metadata": {},
     "output_type": "display_data"
    }
   ],
   "source": [
    "# Eigenvector X1 for λ = λ_1 = 3-2i\n",
    "λ1 = λ_F[0]\n",
    "S1 = F*X - λ1*X\n",
    "S1"
   ]
  },
  {
   "cell_type": "code",
   "execution_count": null,
   "metadata": {},
   "outputs": [
    {
     "data": {
      "text/plain": [
       "{x_1: x_2*(1 + 2*I)}"
      ]
     },
     "metadata": {},
     "output_type": "display_data"
    }
   ],
   "source": [
    "# Finding the elements of X1\n",
    "smp.solve(S1,x1,x2)"
   ]
  },
  {
   "cell_type": "code",
   "execution_count": null,
   "metadata": {},
   "outputs": [
    {
     "data": {
      "text/latex": [
       "$\\displaystyle \\left[\\begin{matrix}x_{2} \\left(1 + 2 i\\right)\\\\x_{2}\\end{matrix}\\right]$"
      ],
      "text/plain": [
       "Matrix([\n",
       "[x_2*(1 + 2*I)],\n",
       "[          x_2]])"
      ]
     },
     "metadata": {},
     "output_type": "display_data"
    },
    {
     "data": {
      "text/latex": [
       "$\\displaystyle \\left[\\begin{matrix}1 + 2 i\\\\1\\end{matrix}\\right]$"
      ],
      "text/plain": [
       "Matrix([\n",
       "[1 + 2*I],\n",
       "[      1]])"
      ]
     },
     "metadata": {},
     "output_type": "display_data"
    }
   ],
   "source": [
    "# Therefore X1 has the following general form\n",
    "X1_gen = smp.Matrix([x2*(1+2*smp.I),x2])\n",
    "display(X1_gen)\n",
    "\n",
    "# We also get the simplest form for x2=1\n",
    "X1 = X1_gen.subs(x2,1)\n",
    "display(X1)"
   ]
  },
  {
   "cell_type": "code",
   "execution_count": null,
   "metadata": {},
   "outputs": [
    {
     "data": {
      "text/latex": [
       "$\\displaystyle \\left[\\begin{matrix}7 + 4 i\\\\3 - 2 i\\end{matrix}\\right]$"
      ],
      "text/plain": [
       "Matrix([\n",
       "[7 + 4*I],\n",
       "[3 - 2*I]])"
      ]
     },
     "metadata": {},
     "output_type": "display_data"
    },
    {
     "data": {
      "text/latex": [
       "$\\displaystyle \\left[\\begin{matrix}7 + 4 i\\\\3 - 2 i\\end{matrix}\\right]$"
      ],
      "text/plain": [
       "Matrix([\n",
       "[7 + 4*I],\n",
       "[3 - 2*I]])"
      ]
     },
     "metadata": {},
     "output_type": "display_data"
    },
    {
     "data": {
      "text/plain": [
       "True"
      ]
     },
     "metadata": {},
     "output_type": "display_data"
    }
   ],
   "source": [
    "# Validating the eigenvector Χ1\n",
    "display(F*X1)\n",
    "\n",
    "display(smp.simplify((λ1*X1)))\n",
    "\n",
    "F*X1==smp.simplify((λ1*X1))"
   ]
  },
  {
   "cell_type": "code",
   "execution_count": null,
   "metadata": {},
   "outputs": [
    {
     "data": {
      "text/latex": [
       "$\\displaystyle \\left[\\begin{matrix}2 x_{1} - x_{1} \\left(3 + 2 i\\right) + 5 x_{2}\\\\- x_{1} + 4 x_{2} - x_{2} \\left(3 + 2 i\\right)\\end{matrix}\\right]$"
      ],
      "text/plain": [
       "Matrix([\n",
       "[2*x_1 - x_1*(3 + 2*I) + 5*x_2],\n",
       "[ -x_1 + 4*x_2 - x_2*(3 + 2*I)]])"
      ]
     },
     "metadata": {},
     "output_type": "display_data"
    }
   ],
   "source": [
    "# Eigenvector X2 for λ = λ_2 = 3+2i\n",
    "λ2 = λ_F[1]\n",
    "S2 = F*X - λ2*X\n",
    "S2"
   ]
  },
  {
   "cell_type": "code",
   "execution_count": null,
   "metadata": {},
   "outputs": [
    {
     "data": {
      "text/plain": [
       "{x_1: x_2*(1 - 2*I)}"
      ]
     },
     "metadata": {},
     "output_type": "display_data"
    }
   ],
   "source": [
    "# Finding the elements of X2\n",
    "smp.solve(S2,x1,x2)"
   ]
  },
  {
   "cell_type": "code",
   "execution_count": null,
   "metadata": {},
   "outputs": [
    {
     "data": {
      "text/latex": [
       "$\\displaystyle \\left[\\begin{matrix}x_{2} \\left(1 - 2 i\\right)\\\\x_{2}\\end{matrix}\\right]$"
      ],
      "text/plain": [
       "Matrix([\n",
       "[x_2*(1 - 2*I)],\n",
       "[          x_2]])"
      ]
     },
     "metadata": {},
     "output_type": "display_data"
    },
    {
     "data": {
      "text/latex": [
       "$\\displaystyle \\left[\\begin{matrix}1 - 2 i\\\\1\\end{matrix}\\right]$"
      ],
      "text/plain": [
       "Matrix([\n",
       "[1 - 2*I],\n",
       "[      1]])"
      ]
     },
     "metadata": {},
     "output_type": "display_data"
    }
   ],
   "source": [
    "# Therefore X2 has the following general form\n",
    "X2_gen = smp.Matrix([x2*(1-2*smp.I),x2])\n",
    "display(X2_gen)\n",
    "\n",
    "# We also get the simplest form for x2=1\n",
    "X2 = X2_gen.subs(x2,1)\n",
    "display(X2)"
   ]
  },
  {
   "cell_type": "code",
   "execution_count": null,
   "metadata": {},
   "outputs": [
    {
     "data": {
      "text/latex": [
       "$\\displaystyle \\left[\\begin{matrix}7 - 4 i\\\\3 + 2 i\\end{matrix}\\right]$"
      ],
      "text/plain": [
       "Matrix([\n",
       "[7 - 4*I],\n",
       "[3 + 2*I]])"
      ]
     },
     "metadata": {},
     "output_type": "display_data"
    },
    {
     "data": {
      "text/latex": [
       "$\\displaystyle \\left[\\begin{matrix}7 - 4 i\\\\3 + 2 i\\end{matrix}\\right]$"
      ],
      "text/plain": [
       "Matrix([\n",
       "[7 - 4*I],\n",
       "[3 + 2*I]])"
      ]
     },
     "metadata": {},
     "output_type": "display_data"
    },
    {
     "data": {
      "text/plain": [
       "True"
      ]
     },
     "metadata": {},
     "output_type": "display_data"
    }
   ],
   "source": [
    "# Validating the eigenvector Χ2\n",
    "display(F*X2)\n",
    "\n",
    "display(smp.simplify((λ2*X2)))\n",
    "\n",
    "F*X2==smp.simplify((λ2*X2))"
   ]
  },
  {
   "cell_type": "markdown",
   "metadata": {},
   "source": [
    "## **Example 3**\n",
    "\n",
    "Define the following 5x5 square matrix:\n",
    "$$Α=\\begin{bmatrix} 4 & 1 & 2 & 3 & 5\\\\ 1 & 3 & 1 & 4 & 2\\\\\n",
    "2 & 1 & 5 & 2 & 3\\\\ 3 & 4 & 2 & 4 & 1\\\\ 5 & 2 & 3 & 1 & 5\\end{bmatrix}$$\n",
    "\n",
    "**a.** Show that $A$ is a symmetric matrix.<br>\n",
    "**b.** Find if $Α$ is invertible. If show,\n",
    "find the inverse matrix of $Α$. Validate the resulted inverse matrix.<br>\n",
    "**c.** Find the eigenvalues and eigenvectors of matrix $A$.\n",
    "\n",
    "**Solution**"
   ]
  },
  {
   "cell_type": "code",
   "execution_count": null,
   "metadata": {},
   "outputs": [],
   "source": []
  }
 ],
 "metadata": {
  "kernelspec": {
   "display_name": "base",
   "language": "python",
   "name": "python3"
  },
  "language_info": {
   "codemirror_mode": {
    "name": "ipython",
    "version": 3
   },
   "file_extension": ".py",
   "mimetype": "text/x-python",
   "name": "python",
   "nbconvert_exporter": "python",
   "pygments_lexer": "ipython3",
   "version": "3.11.7"
  }
 },
 "nbformat": 4,
 "nbformat_minor": 2
}
