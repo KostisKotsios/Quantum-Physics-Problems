{
 "cells": [
  {
   "cell_type": "markdown",
   "metadata": {},
   "source": [
    "**PHYSICS DEPARTMENT - ARISTOTLE UNIVERSITY OF THESSALONIKI**<br>\n",
    "**SUBJECT: Quantum Physics Problems**<br>\n",
    "**ACADEMIC YEAR: 2024-2025**\n",
    "\n",
    "***SymPy Notebook 1:***<br>\n",
    "-Intro<br>\n",
    "-Symbolic computation<br>\n",
    "-Algebraic manipulation\n",
    "\n",
    "**Written by: Ioannis Stergakis (postgraduate student at MSc Computational Physics AUTh)**"
   ]
  },
  {
   "cell_type": "markdown",
   "metadata": {},
   "source": [
    "# **Introduction to `SymPy`**\n",
    "\n",
    "**- What is `SymPy`?**\n",
    "\n",
    "`SymPy` is a Python library (`module`) for symbolic mathematics. It allows for manipulation of mathematical expressions in symbolic form (like in **Mathematica**) rather than just numeric computations. `SymPy`'s strength lies in its ease of use, comprehensiveness, and ability to be used entirely in Python without any external dependencies. `SymPy` integrates seamlessly with Jupyter notebooks, offering $\\LaTeX$-rendered output that displays equations and expressions in a more readable, mathematical format. Thus, it's especially useful for students, researchers, and engineers working with mathematical expressions or equations.\n",
    "\n",
    "**- What are the applications or rather why do you need `SymPy`?**\n",
    "\n",
    "1. **Symbolic Computation**: Unlike traditional numerical methods, `SymPy` can solve mathematical problems in exact symbolic form. This means you can get precise results like $\\frac{1}{3}$ instead of floating-point approximations like $0.3333333333$.\n",
    "\n",
    "2. **Algebraic Manipulation**: `SymPy` allows users to simplify complex expressions, factor expanded expressions, or expand factored forms, making it a great and useful tool for algebra-heavy tasks.\n",
    "\n",
    "3. **Calculus**: `SymPy` can perform symbolic differentiation and integration, find limits, and handle series expansions, providing a powerful tool for calculus problems.\n",
    "\n",
    "4. **Equation Solving**: `SymPy` can solve algebraic, transcendental, and differential equations analytically, which is a significant advantage over numerical solvers when exact solutions are needed.\n",
    "\n",
    "5. **Linear Algebra**: The library includes capabilities for working with matrices and performing operations such as matrix inversion, determinant computation, and eigenvalue calculation symbolically."
   ]
  },
  {
   "cell_type": "markdown",
   "metadata": {},
   "source": [
    "# **Application 1: Symbolic Computation**\n",
    "\n",
    "We will start with basics of `SymPy`. These include the definition of symbols and functions, as well as the substitution and the numerical evaluation in symbolic expressions."
   ]
  },
  {
   "cell_type": "code",
   "execution_count": 84,
   "metadata": {},
   "outputs": [],
   "source": [
    "# Importation of the SymPy module (never forget that !!!)\n",
    "import sympy as smp"
   ]
  },
  {
   "cell_type": "markdown",
   "metadata": {},
   "source": [
    "## A. Definition of symbols"
   ]
  },
  {
   "cell_type": "markdown",
   "metadata": {},
   "source": [
    "### **Basic symbols**"
   ]
  },
  {
   "cell_type": "code",
   "execution_count": 85,
   "metadata": {},
   "outputs": [
    {
     "name": "stdout",
     "output_type": "stream",
     "text": [
      "<class 'sympy.core.symbol.Symbol'>\n"
     ]
    }
   ],
   "source": [
    "# Single symbol definition\n",
    "x = smp.symbols(\"x\")\n",
    "print(type(x))"
   ]
  },
  {
   "cell_type": "code",
   "execution_count": 86,
   "metadata": {},
   "outputs": [
    {
     "name": "stdout",
     "output_type": "stream",
     "text": [
      "The output of print is:\n",
      "x^2 x_0\n",
      "The output of display is:\n"
     ]
    },
    {
     "data": {
      "text/latex": [
       "$\\displaystyle x^{2}$"
      ],
      "text/plain": [
       "x^2"
      ]
     },
     "metadata": {},
     "output_type": "display_data"
    },
    {
     "data": {
      "text/latex": [
       "$\\displaystyle x_{0}$"
      ],
      "text/plain": [
       "x_0"
      ]
     },
     "metadata": {},
     "output_type": "display_data"
    }
   ],
   "source": [
    "# Symbols with exponent and index\n",
    "x_sq = smp.symbols(\"x^2\")\n",
    "x0 = smp.symbols(\"x_0\")\n",
    "\n",
    "# Showing the output of the 'print' function\n",
    "print(\"The output of print is:\")\n",
    "print(x_sq,x0)\n",
    "\n",
    "# Showing the output of the 'display' function\n",
    "print(\"The output of display is:\")\n",
    "display(x_sq,x0) "
   ]
  },
  {
   "cell_type": "code",
   "execution_count": 87,
   "metadata": {},
   "outputs": [
    {
     "data": {
      "text/latex": [
       "$\\displaystyle y$"
      ],
      "text/plain": [
       "y"
      ]
     },
     "metadata": {},
     "output_type": "display_data"
    },
    {
     "data": {
      "text/latex": [
       "$\\displaystyle z$"
      ],
      "text/plain": [
       "z"
      ]
     },
     "metadata": {},
     "output_type": "display_data"
    }
   ],
   "source": [
    "# Multiple symbols definition\n",
    "y,z = smp.symbols(\"y z\")\n",
    "display(y,z)"
   ]
  },
  {
   "cell_type": "code",
   "execution_count": 88,
   "metadata": {},
   "outputs": [
    {
     "data": {
      "text/plain": [
       "False"
      ]
     },
     "execution_count": 88,
     "metadata": {},
     "output_type": "execute_result"
    }
   ],
   "source": [
    "# Adding assunptions when defining symbols\n",
    "m = smp.symbols(\"m\",real=True)\n",
    "m.is_imaginary"
   ]
  },
  {
   "cell_type": "code",
   "execution_count": 89,
   "metadata": {},
   "outputs": [
    {
     "data": {
      "text/latex": [
       "$\\displaystyle \\text{False}$"
      ],
      "text/plain": [
       "False"
      ]
     },
     "execution_count": 89,
     "metadata": {},
     "output_type": "execute_result"
    }
   ],
   "source": [
    "# Another example of adding assumptions\n",
    "n = smp.symbols(\"n\",negative=True)\n",
    "n>=0"
   ]
  },
  {
   "cell_type": "markdown",
   "metadata": {},
   "source": [
    "### **Special symbols and types of numbers**"
   ]
  },
  {
   "cell_type": "code",
   "execution_count": 90,
   "metadata": {},
   "outputs": [
    {
     "data": {
      "text/latex": [
       "$\\displaystyle i$"
      ],
      "text/plain": [
       "I"
      ]
     },
     "metadata": {},
     "output_type": "display_data"
    },
    {
     "data": {
      "text/latex": [
       "$\\displaystyle \\pi$"
      ],
      "text/plain": [
       "pi"
      ]
     },
     "metadata": {},
     "output_type": "display_data"
    },
    {
     "data": {
      "text/latex": [
       "$\\displaystyle e$"
      ],
      "text/plain": [
       "E"
      ]
     },
     "metadata": {},
     "output_type": "display_data"
    },
    {
     "data": {
      "text/latex": [
       "$\\displaystyle \\hbar$"
      ],
      "text/plain": [
       "hbar"
      ]
     },
     "metadata": {},
     "output_type": "display_data"
    }
   ],
   "source": [
    "# Special symbols of SymPy\n",
    "display(smp.I,smp.pi,smp.E)\n",
    "hbar = smp.symbols(\"hbar\")\n",
    "display(hbar)"
   ]
  },
  {
   "cell_type": "markdown",
   "metadata": {},
   "source": [
    "`SymPy` supports 3 types of numbers: `Real`, `Integer` and `Rational` numbers:"
   ]
  },
  {
   "cell_type": "code",
   "execution_count": 91,
   "metadata": {},
   "outputs": [
    {
     "data": {
      "text/latex": [
       "$\\displaystyle 5$"
      ],
      "text/plain": [
       "5"
      ]
     },
     "metadata": {},
     "output_type": "display_data"
    },
    {
     "data": {
      "text/latex": [
       "$\\displaystyle 7$"
      ],
      "text/plain": [
       "7"
      ]
     },
     "metadata": {},
     "output_type": "display_data"
    }
   ],
   "source": [
    "# Integer numbers\n",
    "int_1 = smp.Integer(5.6)\n",
    "display(int_1)\n",
    "\n",
    "int_2 = smp.Integer(7.3)\n",
    "display(int_2)"
   ]
  },
  {
   "cell_type": "code",
   "execution_count": 92,
   "metadata": {},
   "outputs": [
    {
     "data": {
      "text/latex": [
       "$\\displaystyle \\frac{6}{7}$"
      ],
      "text/plain": [
       "6/7"
      ]
     },
     "metadata": {},
     "output_type": "display_data"
    }
   ],
   "source": [
    "# Rational numbers\n",
    "k = smp.Rational(6,7)\n",
    "display(k)"
   ]
  },
  {
   "cell_type": "markdown",
   "metadata": {},
   "source": [
    "### **Complex numbers**"
   ]
  },
  {
   "cell_type": "code",
   "execution_count": 93,
   "metadata": {},
   "outputs": [
    {
     "data": {
      "text/latex": [
       "$\\displaystyle 2 + 5 i$"
      ],
      "text/plain": [
       "2 + 5*I"
      ]
     },
     "metadata": {},
     "output_type": "display_data"
    },
    {
     "data": {
      "text/plain": [
       "True"
      ]
     },
     "execution_count": 93,
     "metadata": {},
     "output_type": "execute_result"
    }
   ],
   "source": [
    "# Complex numbers\n",
    "c = 2+5*smp.I\n",
    "display(c)\n",
    "c.is_complex"
   ]
  },
  {
   "cell_type": "code",
   "execution_count": 94,
   "metadata": {},
   "outputs": [
    {
     "data": {
      "text/latex": [
       "$\\displaystyle 2 - 5 i$"
      ],
      "text/plain": [
       "2 - 5*I"
      ]
     },
     "metadata": {},
     "output_type": "display_data"
    }
   ],
   "source": [
    "# Conjugate of a complex number\n",
    "c_conj = smp.conjugate(c)\n",
    "display(c_conj)"
   ]
  },
  {
   "cell_type": "code",
   "execution_count": 95,
   "metadata": {},
   "outputs": [
    {
     "data": {
      "text/latex": [
       "$\\displaystyle \\overline{x}$"
      ],
      "text/plain": [
       "conjugate(x)"
      ]
     },
     "metadata": {},
     "output_type": "display_data"
    }
   ],
   "source": [
    "# Alternative display of conjugate\n",
    "x = smp.symbols(\"x\")\n",
    "display(smp.conjugate(x))"
   ]
  },
  {
   "cell_type": "markdown",
   "metadata": {},
   "source": [
    "### **Example 1**"
   ]
  },
  {
   "cell_type": "markdown",
   "metadata": {},
   "source": [
    "Define two complex numbers: $c_1 = 5\\pi+ 6i$ and $c_2 = 3\\pi + 7i$ and display the following:\n",
    "\n",
    "**a.** The summary: $c_1^{*}+c_2$<br>\n",
    "**b.** The product: $c_1c_2^{*}$"
   ]
  },
  {
   "cell_type": "markdown",
   "metadata": {},
   "source": [
    "**Solution**"
   ]
  },
  {
   "cell_type": "code",
   "execution_count": null,
   "metadata": {},
   "outputs": [],
   "source": []
  },
  {
   "cell_type": "markdown",
   "metadata": {},
   "source": [
    "## B. Substitution and numerical evaluation"
   ]
  },
  {
   "cell_type": "markdown",
   "metadata": {},
   "source": [
    "### **Symbolic expressions**"
   ]
  },
  {
   "cell_type": "markdown",
   "metadata": {},
   "source": [
    "The `subs()` function substitutes a symbol in an expression with another symbol or a numerical value or even a whole expression:"
   ]
  },
  {
   "cell_type": "code",
   "execution_count": 97,
   "metadata": {},
   "outputs": [
    {
     "data": {
      "text/latex": [
       "$\\displaystyle \\left(2 a + x\\right)^{2}$"
      ],
      "text/plain": [
       "(2*a + x)**2"
      ]
     },
     "metadata": {},
     "output_type": "display_data"
    },
    {
     "data": {
      "text/latex": [
       "$\\displaystyle \\left(x + 6\\right)^{2}$"
      ],
      "text/plain": [
       "(x + 6)**2"
      ]
     },
     "metadata": {},
     "output_type": "display_data"
    },
    {
     "data": {
      "text/latex": [
       "$\\displaystyle \\left(2 a + 2\\right)^{2}$"
      ],
      "text/plain": [
       "(2*a + 2)**2"
      ]
     },
     "metadata": {},
     "output_type": "display_data"
    },
    {
     "data": {
      "text/latex": [
       "$\\displaystyle 64$"
      ],
      "text/plain": [
       "64"
      ]
     },
     "metadata": {},
     "output_type": "display_data"
    }
   ],
   "source": [
    "# Substition of a numerical value\n",
    "x,a = smp.symbols(\"x,a\")\n",
    "y = (x+2*a)**2\n",
    "display(y)\n",
    "display(y.subs(a,3))\n",
    "display(y.subs(x,2))\n",
    "\n",
    "# Substitution of numerical values for both x and a\n",
    "y1 = y.subs([(x,2),(a,3)])\n",
    "display(y1)"
   ]
  },
  {
   "cell_type": "code",
   "execution_count": 98,
   "metadata": {},
   "outputs": [
    {
     "data": {
      "text/latex": [
       "$\\displaystyle \\left(2 b^{2} + 10 c + x\\right)^{2}$"
      ],
      "text/plain": [
       "(2*b**2 + 10*c + x)**2"
      ]
     },
     "metadata": {},
     "output_type": "display_data"
    }
   ],
   "source": [
    "# Substition of expression\n",
    "b,c = smp.symbols(\"b,c\")\n",
    "\n",
    "display(y.subs(a,b**2+5*c))"
   ]
  },
  {
   "cell_type": "code",
   "execution_count": 99,
   "metadata": {},
   "outputs": [
    {
     "data": {
      "text/latex": [
       "$\\displaystyle \\left(x + \\pi\\right)^{2}$"
      ],
      "text/plain": [
       "(x + pi)**2"
      ]
     },
     "metadata": {},
     "output_type": "display_data"
    },
    {
     "data": {
      "text/latex": [
       "$\\displaystyle \\left(3 + \\pi\\right)^{2}$"
      ],
      "text/plain": [
       "(3 + pi)**2"
      ]
     },
     "metadata": {},
     "output_type": "display_data"
    }
   ],
   "source": [
    "# Numerical evaluation\n",
    "pi = smp.pi\n",
    "y3 = (x+pi)**2\n",
    "display(y3)\n",
    "display(y3.subs(x,3))"
   ]
  },
  {
   "cell_type": "code",
   "execution_count": 100,
   "metadata": {},
   "outputs": [
    {
     "data": {
      "text/latex": [
       "$\\displaystyle 37.7191603226281$"
      ],
      "text/plain": [
       "37.7191603226281"
      ]
     },
     "execution_count": 100,
     "metadata": {},
     "output_type": "execute_result"
    }
   ],
   "source": [
    "# 1st way of numerical evaluation\n",
    "smp.N(y3.subs(x,3))"
   ]
  },
  {
   "cell_type": "code",
   "execution_count": 101,
   "metadata": {},
   "outputs": [
    {
     "data": {
      "text/latex": [
       "$\\displaystyle 37.7191603226281$"
      ],
      "text/plain": [
       "37.7191603226281"
      ]
     },
     "execution_count": 101,
     "metadata": {},
     "output_type": "execute_result"
    }
   ],
   "source": [
    "# 2nd way of numerical evaluation\n",
    "y3.subs(x,3).evalf()"
   ]
  },
  {
   "cell_type": "markdown",
   "metadata": {},
   "source": [
    "### **Symbolic functions**"
   ]
  },
  {
   "cell_type": "code",
   "execution_count": 102,
   "metadata": {},
   "outputs": [
    {
     "data": {
      "text/latex": [
       "$\\displaystyle \\left|{x}\\right|$"
      ],
      "text/plain": [
       "Abs(x)"
      ]
     },
     "metadata": {},
     "output_type": "display_data"
    },
    {
     "data": {
      "text/latex": [
       "$\\displaystyle x^{4.5}$"
      ],
      "text/plain": [
       "x**4.5"
      ]
     },
     "metadata": {},
     "output_type": "display_data"
    },
    {
     "data": {
      "text/latex": [
       "$\\displaystyle \\sqrt{x}$"
      ],
      "text/plain": [
       "sqrt(x)"
      ]
     },
     "metadata": {},
     "output_type": "display_data"
    },
    {
     "data": {
      "text/latex": [
       "$\\displaystyle \\sin{\\left(x \\right)}$"
      ],
      "text/plain": [
       "sin(x)"
      ]
     },
     "metadata": {},
     "output_type": "display_data"
    },
    {
     "data": {
      "text/latex": [
       "$\\displaystyle \\cos{\\left(x \\right)}$"
      ],
      "text/plain": [
       "cos(x)"
      ]
     },
     "metadata": {},
     "output_type": "display_data"
    },
    {
     "data": {
      "text/latex": [
       "$\\displaystyle \\log{\\left(x \\right)}$"
      ],
      "text/plain": [
       "log(x)"
      ]
     },
     "metadata": {},
     "output_type": "display_data"
    },
    {
     "data": {
      "text/latex": [
       "$\\displaystyle e^{x}$"
      ],
      "text/plain": [
       "exp(x)"
      ]
     },
     "metadata": {},
     "output_type": "display_data"
    }
   ],
   "source": [
    "# Symbolic form of basic functions\n",
    "x = smp.symbols(\"x\")\n",
    "\n",
    "display(abs(x))\n",
    "display(pow(x,4.5))\n",
    "display(smp.sqrt(x))\n",
    "display(smp.sin(x))\n",
    "display(smp.cos(x))\n",
    "display(smp.log(x))\n",
    "display(smp.exp(x))"
   ]
  },
  {
   "cell_type": "code",
   "execution_count": 103,
   "metadata": {},
   "outputs": [],
   "source": [
    "# Defining a function in symbolic form\n",
    "def f_sym(x,a):\n",
    "    pi = smp.pi\n",
    "    return smp.exp(x-a) + a*smp.sin(x*pi/a)"
   ]
  },
  {
   "cell_type": "code",
   "execution_count": 104,
   "metadata": {},
   "outputs": [
    {
     "data": {
      "text/latex": [
       "$\\displaystyle b \\sin{\\left(\\frac{\\pi x}{b} \\right)} + e^{- b + x}$"
      ],
      "text/plain": [
       "b*sin(pi*x/b) + exp(-b + x)"
      ]
     },
     "metadata": {},
     "output_type": "display_data"
    }
   ],
   "source": [
    "x,b = smp.symbols(\"x,b\")\n",
    "\n",
    "# Replacing both variables x and a with symbols in the expression of the function\n",
    "display(f_sym(x,b))"
   ]
  },
  {
   "cell_type": "code",
   "execution_count": 105,
   "metadata": {},
   "outputs": [
    {
     "data": {
      "text/latex": [
       "$\\displaystyle b \\sin{\\left(\\frac{2 \\pi}{b} \\right)} + e^{2 - b}$"
      ],
      "text/plain": [
       "b*sin(2*pi/b) + exp(2 - b)"
      ]
     },
     "metadata": {},
     "output_type": "display_data"
    }
   ],
   "source": [
    "# Giving a numerical value to the variable x and a symbol to variable a\n",
    "display(f_sym(2,b))"
   ]
  },
  {
   "cell_type": "code",
   "execution_count": 106,
   "metadata": {},
   "outputs": [
    {
     "data": {
      "text/latex": [
       "$\\displaystyle e^{-1} + \\frac{3 \\sqrt{3}}{2}$"
      ],
      "text/plain": [
       "exp(-1) + 3*sqrt(3)/2"
      ]
     },
     "metadata": {},
     "output_type": "display_data"
    },
    {
     "data": {
      "text/latex": [
       "$\\displaystyle e^{-1} + \\frac{3 \\sqrt{3}}{2}$"
      ],
      "text/plain": [
       "exp(-1) + 3*sqrt(3)/2"
      ]
     },
     "metadata": {},
     "output_type": "display_data"
    },
    {
     "data": {
      "text/latex": [
       "$\\displaystyle b$"
      ],
      "text/plain": [
       "b"
      ]
     },
     "metadata": {},
     "output_type": "display_data"
    }
   ],
   "source": [
    "# Giving a numerical value to the parameter a\n",
    "display(f_sym(2,3))\n",
    "\n",
    "# Subsitute 'b' with a value\n",
    "display(f_sym(2,b).subs(b,3))\n",
    "display(b)"
   ]
  },
  {
   "cell_type": "markdown",
   "metadata": {},
   "source": [
    "The `evalf()` function (or `N()`) is used o evaluate an expression numerically. It takes an argument `n` which specifies the number of significant digits:"
   ]
  },
  {
   "cell_type": "code",
   "execution_count": 107,
   "metadata": {},
   "outputs": [
    {
     "data": {
      "text/latex": [
       "$\\displaystyle 2.96596$"
      ],
      "text/plain": [
       "2.96596"
      ]
     },
     "metadata": {},
     "output_type": "display_data"
    },
    {
     "data": {
      "text/latex": [
       "$\\displaystyle 2.96596$"
      ],
      "text/plain": [
       "2.96596"
      ]
     },
     "metadata": {},
     "output_type": "display_data"
    }
   ],
   "source": [
    "# Subsitute 'b' with a value and evaluate the function\n",
    "display(f_sym(2,b).subs(b,3).evalf(n=6))\n",
    "display(smp.N(f_sym(2,b).subs(b,3),6))"
   ]
  },
  {
   "cell_type": "markdown",
   "metadata": {},
   "source": [
    "### **Example 2**"
   ]
  },
  {
   "cell_type": "markdown",
   "metadata": {},
   "source": [
    "Define a function with the name $g$ and symbolic formula: $$g(x,y,a)=\\ln(|x-a|e)+|y|^2$$\n",
    "\n",
    "and perform the following 3 tasks:\n",
    "\n",
    "**a.** Define 3 symbols \"x\",\"y\" and \"a\" and display the formula of the function.\n",
    "\n",
    "**b.** Display the resulting expression of $g$ when $x=2$ and $y=4$. Then substitute the value 5 to the parameter $a$ and display the result. Finally, evaluate the value of $g$, with up to 5 significant digits.\n",
    "\n",
    "**c.** Define a symbol \"z\", that is considered to be a complex number. Define also the conjugate of this symbol. Display the expression of the function\n",
    "$g$<br>\n",
    "when $x=$\"x\", $y$=\"z\" and $a=3$. Since \"z\" is a complex number, don't forget to substitute the expression $|z|^2$ with $z\\bar{z}$."
   ]
  },
  {
   "cell_type": "markdown",
   "metadata": {},
   "source": [
    "**Solution**"
   ]
  },
  {
   "cell_type": "code",
   "execution_count": null,
   "metadata": {},
   "outputs": [],
   "source": []
  },
  {
   "cell_type": "markdown",
   "metadata": {},
   "source": [
    "# **Application 2: Algebraic manipulation**\n",
    "\n",
    "In order to handle and manipulate symbolic expressions, a series of `SymPy` functions is offered to make things easier."
   ]
  },
  {
   "cell_type": "markdown",
   "metadata": {},
   "source": [
    "## A. Expand and factor"
   ]
  },
  {
   "cell_type": "markdown",
   "metadata": {},
   "source": [
    "### **Expand**\n",
    "\n",
    "The `expand()` function performs all the calculations in a symbolic expression and summarizes similar terms:"
   ]
  },
  {
   "cell_type": "code",
   "execution_count": 113,
   "metadata": {},
   "outputs": [
    {
     "data": {
      "text/latex": [
       "$\\displaystyle x^{3} - 6 x^{2} + 11 x - 6$"
      ],
      "text/plain": [
       "x**3 - 6*x**2 + 11*x - 6"
      ]
     },
     "metadata": {},
     "output_type": "display_data"
    },
    {
     "data": {
      "text/latex": [
       "$\\displaystyle x^{2} - 4 x + 4$"
      ],
      "text/plain": [
       "x**2 - 4*x + 4"
      ]
     },
     "metadata": {},
     "output_type": "display_data"
    }
   ],
   "source": [
    "# Expand polynomial expressions\n",
    "x = smp.symbols(\"x\")\n",
    "\n",
    "expr_1 = (x-1)*(x-2)*(x-3)\n",
    "expr_2 = (x-2)**2\n",
    "\n",
    "display(smp.expand(expr_1))\n",
    "display(smp.expand(expr_2))"
   ]
  },
  {
   "cell_type": "code",
   "execution_count": 114,
   "metadata": {},
   "outputs": [
    {
     "data": {
      "text/latex": [
       "$\\displaystyle - \\sin{\\left(x \\right)} \\sin{\\left(y \\right)} + \\cos{\\left(x \\right)} \\cos{\\left(y \\right)}$"
      ],
      "text/plain": [
       "-sin(x)*sin(y) + cos(x)*cos(y)"
      ]
     },
     "metadata": {},
     "output_type": "display_data"
    },
    {
     "data": {
      "text/latex": [
       "$\\displaystyle \\sin{\\left(x \\right)} \\cos{\\left(y \\right)} + \\sin{\\left(y \\right)} \\cos{\\left(x \\right)}$"
      ],
      "text/plain": [
       "sin(x)*cos(y) + sin(y)*cos(x)"
      ]
     },
     "metadata": {},
     "output_type": "display_data"
    }
   ],
   "source": [
    "# Expand trigonometric expressions\n",
    "y = smp.symbols(\"y\")\n",
    "expr_3 = smp.cos(x+y)\n",
    "expr_4 = smp.sin(x+y)\n",
    "\n",
    "display(smp.expand(expr_3,trig=True))\n",
    "display(smp.expand(expr_4,trig=True))"
   ]
  },
  {
   "cell_type": "code",
   "execution_count": 115,
   "metadata": {},
   "outputs": [
    {
     "data": {
      "text/latex": [
       "$\\displaystyle e^{3} e^{x} e^{y}$"
      ],
      "text/plain": [
       "exp(3)*exp(x)*exp(y)"
      ]
     },
     "metadata": {},
     "output_type": "display_data"
    }
   ],
   "source": [
    "# Expand exponential expressions\n",
    "expr_5 = smp.exp(x+y+3)\n",
    "display(smp.expand(expr_5))"
   ]
  },
  {
   "cell_type": "code",
   "execution_count": 116,
   "metadata": {},
   "outputs": [
    {
     "data": {
      "text/latex": [
       "$\\displaystyle \\left(2 + 5 i\\right) \\left(5 - 2 i\\right)$"
      ],
      "text/plain": [
       "(2 + 5*I)*(5 - 2*I)"
      ]
     },
     "metadata": {},
     "output_type": "display_data"
    },
    {
     "data": {
      "text/latex": [
       "$\\displaystyle 20 + 21 i$"
      ],
      "text/plain": [
       "20 + 21*I"
      ]
     },
     "metadata": {},
     "output_type": "display_data"
    }
   ],
   "source": [
    "# Expand expressions of complex numbers 1\n",
    "i = smp.I\n",
    "c1 = 5-2*i\n",
    "c2 = 2+5*i\n",
    "\n",
    "expr_6 = c1*c2\n",
    "display(expr_6)\n",
    "display(smp.expand_complex(expr_6))"
   ]
  },
  {
   "cell_type": "code",
   "execution_count": 117,
   "metadata": {},
   "outputs": [
    {
     "data": {
      "text/latex": [
       "$\\displaystyle e^{i θ}$"
      ],
      "text/plain": [
       "exp(I*θ)"
      ]
     },
     "metadata": {},
     "output_type": "display_data"
    },
    {
     "data": {
      "text/latex": [
       "$\\displaystyle i \\sin{\\left(θ \\right)} + \\cos{\\left(θ \\right)}$"
      ],
      "text/plain": [
       "I*sin(θ) + cos(θ)"
      ]
     },
     "metadata": {},
     "output_type": "display_data"
    }
   ],
   "source": [
    "# Expand expressions of complex numbers 2\n",
    "theta = smp.symbols(\"θ\",real=True)\n",
    "expr_7 = smp.exp(i*theta)\n",
    "display(expr_7)\n",
    "display(smp.expand_complex(expr_7))"
   ]
  },
  {
   "cell_type": "markdown",
   "metadata": {},
   "source": [
    "### **Factor**\n",
    "\n",
    "The `factor()` function transforms the given expression into a product of factors, if possible:"
   ]
  },
  {
   "cell_type": "code",
   "execution_count": 118,
   "metadata": {},
   "outputs": [
    {
     "data": {
      "text/latex": [
       "$\\displaystyle \\left(x - 3\\right)^{2}$"
      ],
      "text/plain": [
       "(x - 3)**2"
      ]
     },
     "metadata": {},
     "output_type": "display_data"
    },
    {
     "data": {
      "text/latex": [
       "$\\displaystyle \\left(x + 1\\right) \\left(x + 2\\right) \\left(x + 3\\right)$"
      ],
      "text/plain": [
       "(x + 1)*(x + 2)*(x + 3)"
      ]
     },
     "metadata": {},
     "output_type": "display_data"
    }
   ],
   "source": [
    "# Factorization of polynomial expression\n",
    "expr_8 = x**2 -6*x + 9\n",
    "expr_9 = x**3 + 6*x**2 + 11*x + 6\n",
    "display(smp.factor(expr_8))\n",
    "display(smp.factor(expr_9))"
   ]
  },
  {
   "cell_type": "markdown",
   "metadata": {},
   "source": [
    "## B. Apart and together\n",
    "\n",
    "For symbolic expressions that contain fractions we can use the functions `apart()` and/or `together()`."
   ]
  },
  {
   "cell_type": "markdown",
   "metadata": {},
   "source": [
    "### **Apart**\n",
    "\n",
    "The `apart()` function separates a single fraction to multiple fractions with different denominators:"
   ]
  },
  {
   "cell_type": "code",
   "execution_count": 119,
   "metadata": {},
   "outputs": [
    {
     "data": {
      "text/latex": [
       "$\\displaystyle \\frac{1}{\\left(x - 1\\right) \\left(x + 1\\right)}$"
      ],
      "text/plain": [
       "1/((x - 1)*(x + 1))"
      ]
     },
     "metadata": {},
     "output_type": "display_data"
    },
    {
     "data": {
      "text/latex": [
       "$\\displaystyle - \\frac{1}{2 \\left(x + 1\\right)} + \\frac{1}{2 \\left(x - 1\\right)}$"
      ],
      "text/plain": [
       "-1/(2*(x + 1)) + 1/(2*(x - 1))"
      ]
     },
     "metadata": {},
     "output_type": "display_data"
    }
   ],
   "source": [
    "x = smp.symbols(\"x\")\n",
    "expr_10 = 1/((x-1)*(x+1))\n",
    "display(expr_10)\n",
    "display(smp.apart(expr_10))"
   ]
  },
  {
   "cell_type": "code",
   "execution_count": 120,
   "metadata": {},
   "outputs": [
    {
     "data": {
      "text/latex": [
       "$\\displaystyle \\frac{1}{\\left(x - 3\\right) \\left(x - 2\\right) \\left(x - 1\\right)}$"
      ],
      "text/plain": [
       "1/((x - 3)*(x - 2)*(x - 1))"
      ]
     },
     "metadata": {},
     "output_type": "display_data"
    },
    {
     "data": {
      "text/latex": [
       "$\\displaystyle \\frac{1}{2 \\left(x - 1\\right)} - \\frac{1}{x - 2} + \\frac{1}{2 \\left(x - 3\\right)}$"
      ],
      "text/plain": [
       "1/(2*(x - 1)) - 1/(x - 2) + 1/(2*(x - 3))"
      ]
     },
     "metadata": {},
     "output_type": "display_data"
    }
   ],
   "source": [
    "expr_11 = 1/((x-1)*(x-2)*(x-3))\n",
    "display(expr_11)\n",
    "display(smp.apart(expr_11))"
   ]
  },
  {
   "cell_type": "markdown",
   "metadata": {},
   "source": [
    "### **Together**\n",
    "\n",
    "The `together()` function is the opposite of `apart()`. That is, it combines multiple fractions with different denominators to a single fraction:"
   ]
  },
  {
   "cell_type": "code",
   "execution_count": 121,
   "metadata": {},
   "outputs": [
    {
     "data": {
      "text/latex": [
       "$\\displaystyle \\frac{1}{x + 2} + \\frac{1}{x - 2}$"
      ],
      "text/plain": [
       "1/(x + 2) + 1/(x - 2)"
      ]
     },
     "metadata": {},
     "output_type": "display_data"
    },
    {
     "data": {
      "text/latex": [
       "$\\displaystyle \\frac{2 x}{\\left(x - 2\\right) \\left(x + 2\\right)}$"
      ],
      "text/plain": [
       "2*x/((x - 2)*(x + 2))"
      ]
     },
     "metadata": {},
     "output_type": "display_data"
    }
   ],
   "source": [
    "expr_12 = 1/(x+2) + 1/(x-2)\n",
    "display(expr_12)\n",
    "display(smp.together(expr_12))"
   ]
  },
  {
   "cell_type": "code",
   "execution_count": 122,
   "metadata": {},
   "outputs": [
    {
     "data": {
      "text/latex": [
       "$\\displaystyle \\frac{1}{x - 1} + \\frac{1}{x - 2} + \\frac{1}{x - 3}$"
      ],
      "text/plain": [
       "1/(x - 1) + 1/(x - 2) + 1/(x - 3)"
      ]
     },
     "metadata": {},
     "output_type": "display_data"
    },
    {
     "data": {
      "text/latex": [
       "$\\displaystyle \\frac{\\left(x - 3\\right) \\left(x - 2\\right) + \\left(x - 3\\right) \\left(x - 1\\right) + \\left(x - 2\\right) \\left(x - 1\\right)}{\\left(x - 3\\right) \\left(x - 2\\right) \\left(x - 1\\right)}$"
      ],
      "text/plain": [
       "((x - 3)*(x - 2) + (x - 3)*(x - 1) + (x - 2)*(x - 1))/((x - 3)*(x - 2)*(x - 1))"
      ]
     },
     "metadata": {},
     "output_type": "display_data"
    }
   ],
   "source": [
    "expr_13 = 1/(x-1)+ 1/(x-2) + 1/(x-3)\n",
    "display(expr_13)\n",
    "display(smp.together(expr_13))"
   ]
  },
  {
   "cell_type": "markdown",
   "metadata": {},
   "source": [
    "## C. Simplify\n",
    "\n",
    "The `simplify()` function tries to simplify an expression into a nice looking expression, using various techniques. More specific alternatives to the `simplify()` function also exists: `trigsimp()`, `powsimp()`, `logcombine()`, etc. `Simplify`, usually combines fractions but does not factor:"
   ]
  },
  {
   "cell_type": "code",
   "execution_count": 123,
   "metadata": {},
   "outputs": [
    {
     "data": {
      "text/latex": [
       "$\\displaystyle \\frac{3 x^{2} - 12 x + 11}{x^{3} - 6 x^{2} + 11 x - 6}$"
      ],
      "text/plain": [
       "(3*x**2 - 12*x + 11)/(x**3 - 6*x**2 + 11*x - 6)"
      ]
     },
     "metadata": {},
     "output_type": "display_data"
    }
   ],
   "source": [
    "display(smp.simplify(expr_13))"
   ]
  },
  {
   "cell_type": "code",
   "execution_count": 124,
   "metadata": {},
   "outputs": [
    {
     "data": {
      "text/latex": [
       "$\\displaystyle 2 \\sin{\\left(x \\right)} \\cos{\\left(x \\right)}$"
      ],
      "text/plain": [
       "2*sin(x)*cos(x)"
      ]
     },
     "metadata": {},
     "output_type": "display_data"
    },
    {
     "data": {
      "text/latex": [
       "$\\displaystyle \\sin{\\left(2 x \\right)}$"
      ],
      "text/plain": [
       "sin(2*x)"
      ]
     },
     "metadata": {},
     "output_type": "display_data"
    },
    {
     "data": {
      "text/latex": [
       "$\\displaystyle 1 - 2 \\sin^{2}{\\left(x \\right)}$"
      ],
      "text/plain": [
       "1 - 2*sin(x)**2"
      ]
     },
     "metadata": {},
     "output_type": "display_data"
    },
    {
     "data": {
      "text/latex": [
       "$\\displaystyle \\cos{\\left(2 x \\right)}$"
      ],
      "text/plain": [
       "cos(2*x)"
      ]
     },
     "metadata": {},
     "output_type": "display_data"
    }
   ],
   "source": [
    "expr_14 = 2*smp.sin(x)*smp.cos(x)\n",
    "expr_15 = 1-2*smp.sin(x)**2\n",
    "display(expr_14)\n",
    "display(smp.simplify(expr_14))\n",
    "display(expr_15)\n",
    "display(smp.simplify(expr_15))"
   ]
  }
 ],
 "metadata": {
  "kernelspec": {
   "display_name": "base",
   "language": "python",
   "name": "python3"
  },
  "language_info": {
   "codemirror_mode": {
    "name": "ipython",
    "version": 3
   },
   "file_extension": ".py",
   "mimetype": "text/x-python",
   "name": "python",
   "nbconvert_exporter": "python",
   "pygments_lexer": "ipython3",
   "version": "3.11.7"
  }
 },
 "nbformat": 4,
 "nbformat_minor": 2
}
